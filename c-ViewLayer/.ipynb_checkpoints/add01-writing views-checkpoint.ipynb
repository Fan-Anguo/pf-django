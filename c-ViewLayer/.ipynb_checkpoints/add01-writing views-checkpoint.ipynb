{
 "cells": [
  {
   "cell_type": "markdown",
   "metadata": {},
   "source": [
    "<b>Writing views.py</b>\n",
    "======================="
   ]
  },
  {
   "cell_type": "markdown",
   "metadata": {},
   "source": [
    "视图函数或视图，简而言之就是一个Python函数，它接受一个Web请求并返回一个Web响应。 此响应可以是网页的HTML内容，重定向或404错误，XML文档或图像...等，或者其他什么。视图本身包含各种逻辑，它是反回响应所必需的。该函数中的这段代码可以保存在任何你想要的地方，只要这个位置在你的Python路径上，没有其他要求。惯例是将视图放置在名为views.py的文件中，将这个文件放置在您的项目或应用程序目录中。"
   ]
  },
  {
   "cell_type": "markdown",
   "metadata": {},
   "source": [
    "# 解析一个简单的view\n",
    "\n",
    "下面是一个简单的view，它返回当前的日期和时间，作为一个HTML文档："
   ]
  },
  {
   "cell_type": "markdown",
   "metadata": {},
   "source": [
    "```\n",
    "from django.http import HttpResponse\n",
    "import datetime\n",
    "\n",
    "def current_datetime(request):\n",
    "    now = datetime.datetime.now()\n",
    "    html = \"<html><body>It is now %s.</body></html>\" % now\n",
    "    return HttpResponse(html)\n",
    "```"
   ]
  },
  {
   "cell_type": "markdown",
   "metadata": {},
   "source": [
    "首先，从`django.http`模块导入类`HttpResponse`，同时还导入Python的`datetime`库。\n",
    "\n",
    "接下来，定义一个名为`current_datetime`的函数。这是一个`view`函数。每个视图函数都将`HttpRequest`对象作为其第一个参数，通常将其命名为`request`。\n",
    "\n",
    "请注意，视图函数的名称无关紧要，只要符合Python函数命名规则即可。在这里将它命名为`current_datetime`，因为该名称清楚地表明它的作用。\n",
    "\n",
    "该视图返回一个包含生成响应的`HttpResponse`对象。 每个视图函数负责返回一个`HttpResponse`对象。（有例外情况，稍后讨论。）"
   ]
  },
  {
   "cell_type": "markdown",
   "metadata": {},
   "source": [
    "**注意：`django`有一个`TIME_ZONE`设置项，默认设置为`America/Chicago`，要正确地返回当地的时间，需要在项目的`settings.py`文件中修改该选项为当地的时区，比如`UTC-8`时区设置为`TIME_ZONE = 'Asia/Shanghai'`。"
   ]
  },
  {
   "cell_type": "markdown",
   "metadata": {},
   "source": [
    "# 将 URLs 映射到 views\n",
    "\n",
    "\n",
    "这个视图函数返回一个包含当前日期和时间的HTML页面。要在特定的URL上显示此视图，还需要创建一个URLconf; 有关说明，请参阅 [URL调度程序](URL dispatcher.ipynb)。"
   ]
  },
  {
   "cell_type": "markdown",
   "metadata": {},
   "source": [
    "# 返回错误\n",
    "在Django中返回HTTP错误代码很容易。 HttpResponse的子类可以用于许多不同于200的常见的HTTP状态码（这意味着“OK”）。您可以在`request/response`文档中找到可用子类的完整列表。只需返回其中一个子类的实例以表示错误，而不是返回常规的HttpResponse。 例如："
   ]
  },
  {
   "cell_type": "markdown",
   "metadata": {},
   "source": [
    "```\n",
    "from django.http import HttpResponse, HttpResponseNotFound\n",
    "\n",
    "def my_view(request):\n",
    "    # ...\n",
    "    if foo:\n",
    "        return HttpResponseNotFound('<h1>Page not found</h1>')\n",
    "    else:\n",
    "        return HttpResponse('<h1>Page was found</h1>')\n",
    "```"
   ]
  },
  {
   "cell_type": "markdown",
   "metadata": {},
   "source": [
    "对于每个可能的HTTP响应代码，都没有专门的子类，因为其中很多不会很常见。但是，如HttpResponse文档中所述，您可以将HTTP状态代码传递给HttpResponse的构造函数，以便为您喜欢的任何状态代码创建返回类。 例如："
   ]
  },
  {
   "cell_type": "markdown",
   "metadata": {},
   "source": [
    "```\n",
    "from django.http import HttpResponse\n",
    "\n",
    "def my_view(request):\n",
    "    # ...\n",
    "\n",
    "    # Return a \"created\" (201) response code.\n",
    "    return HttpResponse(status=201)\n",
    "```"
   ]
  },
  {
   "cell_type": "markdown",
   "metadata": {},
   "source": [
    "因为404错误是迄今为止最常见的HTTP错误，所以有一种更简单的方法来处理这些错误。"
   ]
  },
  {
   "cell_type": "markdown",
   "metadata": {},
   "source": [
    "# Http404异常\n",
    "\n",
    "**class** `django.http.Http404`\n",
    "\n",
    "当你返回一个错误，如HttpResponseNotFound，你负责定义错误页面的HTML：\n",
    "\n",
    "`return HttpResponseNotFound('<h1>Page not found</h1>')`\n",
    "\n",
    "为了方便起见，并且由于在您的站点中存在一致的404错误页面是一个好主意，Django提供了一个Http404异常。 如果你在视图函数中的任何一点都提出Http404，Django会捕获它并返回你的应用程序的标准错误页面以及HTTP错误代码404。\n",
    "\n",
    "**用法示例：**"
   ]
  },
  {
   "cell_type": "markdown",
   "metadata": {},
   "source": [
    "```\n",
    "from django.http import Http404\n",
    "from django.shortcuts import render\n",
    "from polls.models import Poll\n",
    "\n",
    "def detail(request, poll_id):\n",
    "    try:\n",
    "        p = Poll.objects.get(pk=poll_id)\n",
    "    except Poll.DoesNotExist:\n",
    "        raise Http404(\"Poll does not exist\")\n",
    "    return render(request, 'polls/detail.html', {'poll': p})\n",
    "    ```"
   ]
  },
  {
   "cell_type": "markdown",
   "metadata": {},
   "source": [
    "为了在Django返回404时显示自定义HTML，您可以创建一个名为404.html的HTML模板，并将其放置在模板树的顶层。 此模板将在DEBUG设置为False时提供。\n",
    "\n",
    "当DEBUG为True时，您可以提供一条消息给Http404，它将出现在标准的404调试模板中。将这些消息用于调试目的; 它们通常不适合用于生产404模板。"
   ]
  },
  {
   "cell_type": "markdown",
   "metadata": {},
   "source": [
    "# 自定义错误视图\n",
    "Django中的默认错误视图应该足以满足大多数Web应用程序的需求，但是如果您需要任何自定义行为，则可以轻松覆盖它们。 只需在URLconf中指定处理程序，如下所示（在其他地方设置它们将不起作用）。\n",
    "\n",
    "**`page_not_found（）`视图被`handler404`覆盖：**"
   ]
  },
  {
   "cell_type": "markdown",
   "metadata": {},
   "source": [
    "`handler404 = 'mysite.views.my_custom_page_not_found_view'"
   ]
  },
  {
   "cell_type": "markdown",
   "metadata": {},
   "source": [
    "**`server_error()`视图被`handler500`:**\n",
    "\n",
    "`handler500 = 'mysite.views.my_custom_error_view'`"
   ]
  },
  {
   "cell_type": "markdown",
   "metadata": {},
   "source": [
    "**permission_denied()`视图被`handler403`:**\n",
    "\n",
    "`handler403 = 'mysite.views.my_custom_permission_denied_view'`"
   ]
  },
  {
   "cell_type": "markdown",
   "metadata": {},
   "source": [
    "**`bad_request()`视图被 `handler400`:**\n",
    "\n",
    "`handler400 = 'mysite.views.my_custom_bad_request_view'`"
   ]
  },
  {
   "cell_type": "markdown",
   "metadata": {},
   "source": [
    "**参考**\n",
    "\n",
    "使用`CSRF_FAILURE_VIEW`设置重写`CSRF`错误视图。\n",
    "\n",
    "**`CSRF_FAILURE_VIEW`**\n",
    "\n",
    "默认值: `'django.views.csrf.csrf_failure'`\n",
    "\n",
    "当传入的请求被CSRF保护拒绝时，视图函数将使用点运算路径。该函数应该有这个签名：\n",
    "\n",
    "```\n",
    "def csrf_failure(request, reason=\"\"):\n",
    "    ...\n",
    "```\n",
    "原因是一条简短消息（旨在用于开发人员或日志记录，而不是最终用户），说明请求被拒绝的原因。 它应该返回一个`HttpResponseForbidden`。\n",
    "\n",
    "`django.views.csrf.csrf_failure（）`接受默认为`'403_csrf.html'`的其他`template_name`参数。 如果存在具有该名称的模板，它将用于呈现页面。"
   ]
  },
  {
   "cell_type": "markdown",
   "metadata": {},
   "source": []
  }
 ],
 "metadata": {
  "kernelspec": {
   "display_name": "Python 3",
   "language": "python",
   "name": "python3"
  },
  "language_info": {
   "codemirror_mode": {
    "name": "ipython",
    "version": 3
   },
   "file_extension": ".py",
   "mimetype": "text/x-python",
   "name": "python",
   "nbconvert_exporter": "python",
   "pygments_lexer": "ipython3",
   "version": "3.6.4"
  }
 },
 "nbformat": 4,
 "nbformat_minor": 2
}
