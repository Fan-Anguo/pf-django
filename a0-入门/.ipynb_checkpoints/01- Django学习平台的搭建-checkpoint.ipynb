{
 "cells": [
  {
   "cell_type": "markdown",
   "metadata": {},
   "source": [
    "Django学习平台的搭建\n",
    "====\n",
    "\n",
    "“工欲善其事，必先利其器。” 搭建一个顺手的Django运行平台，对学习、使用django来说非常重要。\n",
    "\n",
    "# 基础环境\n",
    "\n",
    "我的操作系统是windows10，如果你的操作系统也是windows，推荐使用如下方式搭建学习平台：\n",
    "\n",
    "- windows 10（或7/8）;\n",
    "- Anaconda\n",
    "\n",
    "在Anaconda Navigator界面创建一个Python3虚拟环境，命名为 Python3，在该环境中安装 Django 和 vscode。\n",
    "\n",
    "vscode是一个轻量级的免费的文件和代码编辑器，较好地集成了`windows`的 `powershell`。vscode 在一个界面下管理文件，执行Django命令，阅读和编辑python文件、文本文件、html文件、css文件等常见类型的文件，非常方便。\n",
    "\n",
    "vscode还有非常丰富的扩展插件，提供了代码补全、语法高亮显示、错误提示、对齐、配对提示等功能。\n",
    "\n",
    "也可以使用 Anaconda 的 JupterLab，集成了Python Console，Terminal, Text Editor。\n",
    "\n",
    "如果是linux系统，仍然建议安装Anaconda的Python，在此基础上安装Python, vscode。"
   ]
  },
  {
   "cell_type": "markdown",
   "metadata": {},
   "source": [
    "# vscode中打开工作目录\n",
    "\n",
    "我习惯在`I:\\FanGitHub`目录下开展我的工作，因此，我将这个目录设置为 vscode 的工作目录：\n",
    "- 在Anaconda Navigator选择Ptyhon3环境，运行vscode；\n",
    "- vscode --> 打开文件夹(ctrl+k ctrl+o)-->选择`I:\\FanGitHub`；\n",
    "- 查看 --> 集成终端 ( `ctrl + ~`，注意实际是'~'这个键下面的类似单引号的符号)，打开vscode集成的 powershell .\n",
    "\n",
    "可以看到集成终端中已自动定位到`I:\\FanGitHub`文件夹，非常方便。"
   ]
  },
  {
   "cell_type": "markdown",
   "metadata": {
    "slideshow": {
     "slide_type": "fragment"
    }
   },
   "source": [
    "# 检测 Django 的安装情况\n",
    "\n",
    "Django是基于Python的web框架，可以检测一下python和django的安装情况，在vscode的集成终端下，依次运行如下命令，若顺利返回如下信息就表明Python和Django的安装都很正常，并能知道当前安装的版本：\n",
    "\n",
    "```\n",
    "PS I:\\FanGitHub> python\n",
    "Python 3.6.4 | packaged by conda-forge | (default, Dec 24 2017, 10:11:43) [MSC v.1900 64 bit (AMD64)] on win32\n",
    "Type \"help\", \"copyright\", \"credits\" or \"license\" for more information.\n",
    ">>> import django\n",
    ">>> print(django.get_version())\n",
    "2.0.4\n",
    "```"
   ]
  }
 ],
 "metadata": {
  "kernelspec": {
   "display_name": "Python 3",
   "language": "python",
   "name": "python3"
  },
  "language_info": {
   "codemirror_mode": {
    "name": "ipython",
    "version": 3
   },
   "file_extension": ".py",
   "mimetype": "text/x-python",
   "name": "python",
   "nbconvert_exporter": "python",
   "pygments_lexer": "ipython3",
   "version": "3.6.4"
  },
  "toc": {
   "nav_menu": {},
   "number_sections": true,
   "sideBar": true,
   "skip_h1_title": false,
   "title_cell": "Table of Contents",
   "title_sidebar": "Contents",
   "toc_cell": false,
   "toc_position": {},
   "toc_section_display": true,
   "toc_window_display": false
  }
 },
 "nbformat": 4,
 "nbformat_minor": 2
}
