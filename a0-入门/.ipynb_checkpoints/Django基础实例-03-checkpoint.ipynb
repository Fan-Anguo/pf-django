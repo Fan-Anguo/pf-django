{
 "cells": [
  {
   "cell_type": "markdown",
   "metadata": {},
   "source": [
    "Django 实战之三\n",
    "=======\n",
    "\n",
    "前面介绍过，django基于MVC设计模式，在views层做了改进，将传统的views层分解为Templates 和 Views层。\n",
    "\n",
    "我不知道为什么多数教程都喜欢从model层讲起，对于自学者来说，这只会增加你的学习痛苦！\n",
    "\n",
    "我的经验是，先理解views层，紧接着理解urls解析原理。将views, urls解析衔接起来，显示一些自定义的信息，理解django的工作机制后，再来学习templates层，最后再学习model层，才是循序渐进的正途！"
   ]
  },
  {
   "cell_type": "markdown",
   "metadata": {},
   "source": [
    "# views 视图是什么？\n",
    "\n",
    "视图，简而言之就是一个Python函数，python函数当然是保存在`.py`形式的模块文件中，该模块可以保存在任何你想要的地方，只要这个位置在你的Python路径上。\n",
    "\n",
    "惯例是将视图放置在名为`views.py`的文件中，将这个文件放置在您的项目或应用程序目录中，更多的是放在应用程序app目录中，创建app时，默认就会创建一个`views.py`文件，与这个app相关的视图函数，原则上都应该保存在这个文件中。"
   ]
  },
  {
   "cell_type": "markdown",
   "metadata": {},
   "source": [
    "# views 函数的任务\n",
    "\n",
    "Python函数最重要的特征是：它能计算出一个值，并把这个值反馈（返回）给调用者。\n",
    "\n",
    "网站服务的首要任务是：用户在浏览器提出一个请求，服务器针对该请求做出响应（返回适当的内容呈现在用户的浏览器上）。\n",
    "\n",
    "Python函数与网站服务的首要任务是如此吻合，所以定义视图函数，将请求作为参数传递给该函数，返回一个响应给用户。\n",
    "\n",
    "网站服务首要任务的本质就是要建立 请求与响应的对应关系。views函数的主要任务就是要建立请求与响应的逻辑对应关系。\n",
    "\n",
    "Django框架中有一个`django.http`模块，其中有一个HttpRequest类（对象），还有一个HttpResponse类（对象）。\n",
    "\n",
    "HttpRequest负责对请求进行处理，并把处理的结果作为参数传递给适当的视图。HttpResponse负责返回响应的对象。\n",
    "\n",
    "响应可以是网页的HTML内容，重定向或404错误，XML文档或图像...等。\n",
    "\n",
    "当请求页面时，Django创建一个HttpRequest对象（类对象的实例），其中包含有关请求的元数据。然后Django加载适当的视图，将HttpRequest作为第一个参数传递给view函数。每个视图函数都负责返回一个HttpResponse对象（类对象的实例）。\n",
    "\n",
    "至于对每个具体的请求加载哪个视图是由URLConf决定的，稍后再讨论这个话题，等明白了这两个话题后，对django工作机制的理解就会有第一次的豁然开朗。"
   ]
  },
  {
   "cell_type": "markdown",
   "metadata": {},
   "source": [
    "# 写一个最简单的视图\n",
    "\n",
    "打开`pyforest400/tnt/views.py`文件，在这个模块中写入如下代码："
   ]
  },
  {
   "cell_type": "markdown",
   "metadata": {},
   "source": [
    "```\n",
    "from django.http import HttpRequest, HttpResponse\n",
    "\n",
    "# Create your views here.\n",
    "def index(request):\n",
    "    return HttpResponse('<h1>欢迎访问 python 森林！')\n",
    "    \n",
    "```    "
   ]
  },
  {
   "cell_type": "markdown",
   "metadata": {},
   "source": [
    "上述代码：\n",
    "- 首先导入了`django.http`模块的`HttpRequest, HttpResponse`类；\n",
    "- 定义了一个名为`index`的函数，这是一个视图函数\n",
    "\n",
    ">- 视图函数接受一个web请求并返回一个web响应；\n",
    "\n",
    ">- 每个视图函数都将HttpRequest对象作为其第一个参数，通常将其形参命名为request；\n",
    "\n",
    ">- 视图函数的名称无关紧要，只要符合Python函数命名规则即可。在这里将它命名为`index`，因为我们希望将该视图作为这个app的首页，该名称清楚地表明它的作用；\n",
    "\n",
    ">- 该视图返回一个包含生成响应的HttpResponse对象。每个视图函数负责返回一个HttpResponse对象。这个对象就是对web请求的响应。\n",
    "\n",
    ">- 该函数针对`index`的请求，返回内容为\"欢迎来到Python森林！<br>这是Django实战的首页。\"的页面。"
   ]
  },
  {
   "cell_type": "markdown",
   "metadata": {},
   "source": [
    "Django shortcut functions\n",
    "The package django.shortcuts collects helper functions and classes that “span” multiple levels of MVC. In other words, these functions/classes introduce controlled coupling for convenience’s sake.\n",
    "\n",
    "render()\n",
    "render(request, template_name, context=None, content_type=None, status=None, using=None)[source]¶\n",
    "Combines a given template with a given context dictionary and returns an HttpResponse object with that rendered text.\n",
    "\n",
    "Django does not provide a shortcut function which returns a TemplateResponse because the constructor of TemplateResponse offers the same level of convenience as render()."
   ]
  }
 ],
 "metadata": {
  "kernelspec": {
   "display_name": "Python 3",
   "language": "python",
   "name": "python3"
  },
  "language_info": {
   "codemirror_mode": {
    "name": "ipython",
    "version": 3
   },
   "file_extension": ".py",
   "mimetype": "text/x-python",
   "name": "python",
   "nbconvert_exporter": "python",
   "pygments_lexer": "ipython3",
   "version": "3.6.4"
  },
  "toc": {
   "nav_menu": {},
   "number_sections": true,
   "sideBar": true,
   "skip_h1_title": false,
   "title_cell": "Table of Contents",
   "title_sidebar": "Contents",
   "toc_cell": false,
   "toc_position": {},
   "toc_section_display": true,
   "toc_window_display": false
  }
 },
 "nbformat": 4,
 "nbformat_minor": 2
}
