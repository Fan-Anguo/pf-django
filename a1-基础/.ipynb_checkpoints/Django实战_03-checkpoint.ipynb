{
 "cells": [
  {
   "cell_type": "markdown",
   "metadata": {},
   "source": [
    "Django 实战之三\n",
    "=======\n",
    "\n",
    "前面介绍过，django基于MVC设计模式，在views层做了改进，将传统的views层分解为Templates 和 Views层。\n",
    "\n",
    "我不知道为什么多数教程都喜欢从model层讲起，对于自学者来说，这只会增加你的学习痛苦！\n",
    "\n",
    "我的经验是，先理解views层，紧接着理解urls解析原理。将views, urls解析衔接起来，显示一些自定义的信息，理解django的工作机制后，再来学习templates层，最后再学习model层，才是循序渐进的正途！"
   ]
  },
  {
   "cell_type": "markdown",
   "metadata": {},
   "source": [
    "# views 视图是什么？\n",
    "\n",
    "视图，简而言之就是一个Python函数，python函数当然是保存在`.py`形式的模块文件中，该模块可以保存在任何你想要的地方，只要这个位置在你的Python路径上。\n",
    "\n",
    "惯例是将视图放置在名为`views.py`的文件中，将这个文件放置在您的项目或应用程序目录中，更多的是放在应用程序app目录中，创建app时，默认就会创建一个`views.py`文件，与这个app相关的视图函数，原则上都应该保存在这个文件中。"
   ]
  },
  {
   "cell_type": "markdown",
   "metadata": {},
   "source": [
    "# views 函数的任务\n",
    "\n",
    "网站服务的首要任务是：用户在浏览器提出一个请求，服务针对该请求做出响应（返回适当的内容到呈现在用户的浏览上）。\n",
    "\n",
    "这个任务的本质就是要建立 请求与响应的对应关系。\n",
    "\n",
    "views函数的主要任务就是要建立请求与响应的逻辑对应关系。\n",
    "\n",
    "Django使用请求和响应对象来通过系统传递状态。\n",
    "\n",
    "当请求页面时，Django创建一个HttpRequest对象，其中包含有关请求的元数据。 然后Django加载适当的视图，将HttpRequest作为第一个参数传递给view函数。 每个视图都负责返回一个HttpResponse对象。\n",
    "\n",
    "本文档解释了HttpRequest和HttpResponse对象的API，这些对象在django.http模块中定义。"
   ]
  },
  {
   "cell_type": "markdown",
   "metadata": {},
   "source": [
    "该函数接受一个Web请求并返回一个Web响应。此响应可以是网页的HTML内容，重定向或404错误，XML文档或图像...等。关于该函数的详细讨论参见[writing views.py](writing views.ipynb)\n",
    "\n",
    "在`polls/views.py`文件中，写入如下代码："
   ]
  },
  {
   "cell_type": "markdown",
   "metadata": {},
   "source": [
    "```\n",
    "from django.http import HttpResponse\n",
    "\n",
    "def index(request):\n",
    "    return HttpResponse(\"Hello, world. You're at the polls index.\")\n",
    "```    "
   ]
  },
  {
   "cell_type": "markdown",
   "metadata": {},
   "source": [
    "上述代码：\n",
    "- 首先导入了`django.http`模块的`HttpResponse`类；\n",
    "- 定义了一个名为`index`的函数，这是一个视图函数\n",
    "\n",
    ">- 视图函数接受一个web请求并返回一个web响应；\n",
    "\n",
    ">- 每个视图函数都将HttpRequest对象作为其第一个参数，通常将其命名为request；\n",
    "\n",
    ">- 视图函数的名称无关紧要，只要符合Python函数命名规则即可。在这里将它命名为`index`，因为我们希望将该视图作为这个app的首页，该名称清楚地表明它的作用；\n",
    "\n",
    ">- 该视图返回一个包含生成响应的HttpResponse对象。 每个视图函数负责返回一个HttpResponse对象。这个对象就是对web请求的响应。\n",
    "\n",
    ">- 该函数针对`index`的请求，返回内容为\"Hello, world. You're at the polls index.\"的页面。"
   ]
  },
  {
   "cell_type": "markdown",
   "metadata": {},
   "source": [
    "## 编写app的路由路径 - urls.py\n",
    "\n",
    "为了调用该视图，还需要编写`urlconf`，也就是路由路径。也就是为应用程序编写一个`urls.py`模块，在其中为每个请求指定要调用的视图，也就是约定“请求”与“视图”的对应关系。\n",
    "\n",
    "应用程序的路由路径是项目的二级路由路径。\n",
    "\n",
    "在`polls`目录中新建一个`urls.py`，在其中输入如下代码："
   ]
  },
  {
   "cell_type": "markdown",
   "metadata": {},
   "source": [
    "```\n",
    "# polls\\urls.py\n",
    "from django.urls import path\n",
    "\n",
    "from . import views\n",
    "\n",
    "urlpatterns = [\n",
    "    path('', views.index, name='index'),\n",
    "]\n",
    "```"
   ]
  },
  {
   "cell_type": "markdown",
   "metadata": {},
   "source": [
    "此时，app目录 `polls`的结构如下：\n",
    "```\n",
    "I:\\FanGitHub\\mydjpro\\polls>\n",
    "│  admin.py\n",
    "│  apps.py\n",
    "│  models.py\n",
    "│  tests.py\n",
    "│  urls.py\n",
    "│  views.py\n",
    "│  __init__.py\n",
    "│\n",
    "├─migrations\n",
    "│      __init__.py\n",
    "```"
   ]
  },
  {
   "cell_type": "markdown",
   "metadata": {},
   "source": [
    "上述代码：\n",
    "\n",
    "- 先导入django.urls类中的url方法，并且导入同目录下的 views 模块；\n",
    "- urlpatterns变量是一个带实参的`path()`方法的列表。\n",
    "- urlpatterns列表中有一个元素，它约定`''`请求(实际是`polls/`)，对应返回`views.index` 或 `name='index'`。"
   ]
  },
  {
   "cell_type": "markdown",
   "metadata": {},
   "source": [
    "# 编写项目的路由路径 - urls.py\n",
    "\n",
    "一个项目可能有多个app，因此还需要编写项目的路由路径，也就是将对项目的请求与app中的urls建立对应关系。\n",
    "\n",
    "接下来，在项目的主urls文件中添加urlpattern条目，指向我们刚才建立的polls这个app独有的urls文件，这里需要导入include模块。打开`mydjpro/urls.py`文件，输入如下代码："
   ]
  },
  {
   "cell_type": "markdown",
   "metadata": {},
   "source": [
    "```\n",
    "from django.contrib import admin\n",
    "from django.urls import include, path\n",
    "\n",
    "urlpatterns = [\n",
    "    path('polls/', include('polls.urls')),\n",
    "    path('admin/', admin.site.urls),\n",
    "]\n",
    "```"
   ]
  },
  {
   "cell_type": "markdown",
   "metadata": {},
   "source": [
    "`include（）`函数允许引用其他`URLconf`。 每当Django遇到`include（）`时，它会截断与该点匹配的URL的任何部分，并将剩余的字符串发送到包含的URLconf以供进一步处理。\n",
    "\n",
    "`include（）`背后的想法是使插入和播放URL变得容易。由于`polls`是在他们自己的URLconf（polls / urls.py）中，它们可以放在“/ polls /”下，或者放在“/ fun_polls /”下，或者放在“/ content / polls /”或任何其他根路径下， 该应用程序仍然可以工作。"
   ]
  },
  {
   "cell_type": "markdown",
   "metadata": {},
   "source": [
    "**何时使用include（）**\n",
    "\n",
    "包含其他URL模式时，应始终使用`include（）`。 `admin.site.urls`是唯一的例外。"
   ]
  },
  {
   "cell_type": "markdown",
   "metadata": {},
   "source": [
    "**参考：path()函数**\n",
    "\n",
    "`path(route, view, kwargs=None, name=None)`\n",
    "\n",
    "path（）函数传递了四个参数，两个是必需的：route和view，以及两个可选参数：kwargs和name。\n",
    "\n",
    "`path()`函数返回包含在urlpatterns中的元素。例如：\n",
    "\n",
    "```\n",
    "from django.urls import include, path\n",
    "\n",
    "urlpatterns = [\n",
    "    path('index/', views.index, name='main-view'),\n",
    "    path('bio/<username>/', views.bio, name='bio'),\n",
    "    path('articles/<slug:title>/', views.article, name='article-detail'),\n",
    "    path('articles/<slug:title>/<int:section>/', views.section, name='article-section'),\n",
    "    path('weblog/', include('blog.urls')),\n",
    "    ...\n",
    "]\n",
    "```"
   ]
  },
  {
   "cell_type": "markdown",
   "metadata": {},
   "source": [
    "route 参数应该是包含URL模式的字符串或`gettext_lazy（）`（请参阅`Translating URL patterns`）。 该字符串可能包含尖括号（如上面的`<username>`）来捕获部分URL并将其作为关键字参数发送到视图。 尖括号可以包含一个转换器规范（如`<int：section>`的`int`部分），它可以限制匹配的字符，还可以改变传递给视图的变量的类型。 例如，`<int：section>`匹配一串十进制数字并将该值转换为一个`int`。 请参阅`How Django processes a request`以获取更多详细信息。 \n",
    "\n",
    "`view`参数是一个视图函数或者基于视图类的`as_view（）`的结果。它也可以是一个`django.urls.include（）`。\n",
    "\n",
    "kwargs参数允许您将其他参数传递给视图函数或方法。有关示例，请参阅`Passing extra options to view functions`。 \n",
    "\n",
    "请参阅`Naming URL patterns`以了解名称参数为何有用。"
   ]
  },
  {
   "cell_type": "markdown",
   "metadata": {},
   "source": [
    "**path（）参数：route**\n",
    "\n",
    "路由是一个包含URL模式的字符串。 处理请求时，`Django从urlpatterns`中的第一个模式开始，并在列表中向下，并将请求的URL与每个模式进行比较，直到找到匹配的模式。\n",
    "\n",
    "模式不搜索GET和POST参数或域名。 例如，在`https://www.example.com/myapp/`的请求中，URLconf将查找`myapp /`。 在`https://www.example.com/myapp/?page=3`的请求中，URLconf也会查找`myapp /`。"
   ]
  },
  {
   "cell_type": "markdown",
   "metadata": {},
   "source": [
    "**path（）参数：view**\n",
    "当Django找到匹配的模式时，它将HttpRequest对象作为第一个参数，并将路由中的任何“捕获”值作为关键字参数调用指定的视图函数。 我们将稍微举一个例子。"
   ]
  },
  {
   "cell_type": "markdown",
   "metadata": {},
   "source": [
    "**path（）参数：kwargs**\n",
    "\n",
    "任意关键字参数可以在字典中传递给目标视图。 我们不打算在教程中使用Django的这个特性。"
   ]
  },
  {
   "cell_type": "markdown",
   "metadata": {},
   "source": [
    "**path()参数：name**\n",
    "\n",
    "命名您的URL可以让您从Django其他地方明确地引用它，特别是在模板中。这个强大的功能允许您在只触摸单个文件的情况下对项目的URL模式进行全局更改。如果您熟悉基本的请求和响应流程，请阅读本教程的第2部分以开始使用数据库。"
   ]
  },
  {
   "cell_type": "markdown",
   "metadata": {},
   "source": [
    "# 访问 `polls` app的 `index`视图\n",
    "\n",
    "在项目的`urls.py`中编写了路由路径`path('polls/', include('polls.urls')),` 该路径约定当web请求`polls`，返回include中的`polls.urls`，该路径指向app`polls`的`urls.py`。\n",
    "\n",
    "在polls中编写了路由路径：`  path('', views.index, name='index')`，当web请求从项目的路由路径追踪到`polls\\urls.py`时，下一级请求是`''`（实际是`polls/`，前面的`polls`会被丢弃，后面是空的），返回`views.index`，也就是返回index视图。\n",
    "\n",
    "在polls.veiws中定义了index视图函数:\n",
    "\n",
    "```\n",
    "def index(request):\n",
    "    return HttpResponse(\"Hello, world. You're at the polls index.\")\n",
    "```\n",
    "\n",
    "该函数返回一个响应内容`\"Hello, world. You're at the polls index.\")"
   ]
  },
  {
   "cell_type": "markdown",
   "metadata": {},
   "source": [
    "## 启动Django服务\n",
    "\n",
    "转到当前项目目录，运行：`python manage.py runserver`\n",
    "\n",
    "返回：\n",
    "```\n",
    "I:\\FanGitHub\\mydjpro> python manage.py runserver\n",
    "Performing system checks...\n",
    "\n",
    "System check identified no issues (0 silenced).\n",
    "\n",
    "You have 14 unapplied migration(s). Your project may not work properly until you apply the migrations for app(s): admin, auth, contenttypes, sessions.\n",
    "Run 'python manage.py migrate' to apply them.\n",
    "May 08, 2018 - 09:23:59\n",
    "Django version 2.0.4, using settings 'mysite.settings'\n",
    "Starting development server at http://127.0.0.1:8000/\n",
    "Quit the server with CTRL-BREAK.\n",
    "```\n",
    "\n",
    "表明服务正常启动。"
   ]
  },
  {
   "cell_type": "markdown",
   "metadata": {},
   "source": [
    "## 访问polls的index页\n",
    "\n",
    "在浏览器中转到`http：// localhost：8000 / polls /`，应该看到一个显示“Hello, world. You’re at the polls index.”文本的页面。这正是你views.py中定义index视图。"
   ]
  },
  {
   "cell_type": "markdown",
   "metadata": {},
   "source": [
    "第二部分，我们将设置数据库，创建您的第一个模型，并简单介绍Django自动生成的管理站点。"
   ]
  },
  {
   "cell_type": "code",
   "execution_count": null,
   "metadata": {},
   "outputs": [],
   "source": []
  }
 ],
 "metadata": {
  "kernelspec": {
   "display_name": "Python 3",
   "language": "python",
   "name": "python3"
  },
  "language_info": {
   "codemirror_mode": {
    "name": "ipython",
    "version": 3
   },
   "file_extension": ".py",
   "mimetype": "text/x-python",
   "name": "python",
   "nbconvert_exporter": "python",
   "pygments_lexer": "ipython3",
   "version": "3.6.4"
  },
  "toc": {
   "nav_menu": {},
   "number_sections": true,
   "sideBar": true,
   "skip_h1_title": false,
   "title_cell": "Table of Contents",
   "title_sidebar": "Contents",
   "toc_cell": false,
   "toc_position": {},
   "toc_section_display": true,
   "toc_window_display": false
  }
 },
 "nbformat": 4,
 "nbformat_minor": 2
}
