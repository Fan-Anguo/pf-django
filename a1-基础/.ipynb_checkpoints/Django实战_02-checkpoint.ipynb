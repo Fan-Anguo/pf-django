{
 "cells": [
  {
   "cell_type": "markdown",
   "metadata": {},
   "source": [
    "Django 实战之二\n",
    "======="
   ]
  },
  {
   "cell_type": "markdown",
   "metadata": {},
   "source": [
    "# 项目和程序 Project vs. app\n",
    "\n",
    "一个`app`是一个Web应用程序，它可以实现网站的某个版块功能，例如blog系统，教程、学习笔记，公共记录数据库或简单的投票应用程序。\n",
    "\n",
    "项目是特定网站的配置和多个应用程序的集合。项目可以包含多个应用程序。一个应用程序可以在多个项目中。\n",
    "\n",
    "比如，一个网站需要有基础配置（如域名、路由等），该网站有blog、讨论区、新闻组、小调查等版块功能。这些东西的集合就是项目，Django把项目保存在一个根目录中。实现各版块功能的应用程序就是`app`，一个`app`就是一个功能模块。\n",
    "\n",
    "一个`app`保存在一个Python包文件夹中。"
   ]
  },
  {
   "cell_type": "markdown",
   "metadata": {},
   "source": [
    "# 创建一个app\n",
    "\n",
    "django的`startapp`命令就是用于创建app的工具。该命令的语法如下：\n",
    "\n",
    "`django-admin startapp name [directory]`\n",
    "\n",
    "实际上，在创建了项目后，推荐使用`python manage.py startapp name [directory]`命令。\n",
    "\n",
    "该命令的用法与`startproject`相似，只不过一个是创建这个是创建一个app而已。\n",
    "\n",
    "如果仅提供应用程序名称，则将在当前工作目录中创建应用程序目录。\n",
    "\n",
    "一般习惯是转入当前的项目目录`pyforest400`，不提供`[directory]`选项，就会在`pyforest400`目录下创建app包。\n",
    "\n",
    "默认情况下，该app包目录中包含`models.py, views.py`等文件。 \n",
    "\n",
    "如果提供了可选目标，Django将使用该现有目录而不是创建新目录。您可以使用“ . ”来表示当前的工作目录。\n",
    "\n",
    "app可以存放在任何位置，但是为了方便导入，通常都将它们放在与manage.py脚本同级的目录下，也就是项目的根目录下。在本例中就放在`pyforest400`目录中。\n",
    "\n",
    "进入`pyforest400`目录，执行命令：\n",
    "\n",
    "`$ python manage.py startapp tnt`\n",
    "\n",
    "系统会生成一个`tnt`目录，该目录是一个Python包，并创建了一些基础文件，目录和文件的结构如下："
   ]
  },
  {
   "cell_type": "markdown",
   "metadata": {},
   "source": [
    "```\n",
    "I:...pyforest400/\n",
    "│  db.sqlite3\n",
    "│  manage.py\n",
    "│\n",
    "├─pyforest\n",
    "│  │  settings.py\n",
    "│  │  urls.py\n",
    "│  │  wsgi.py\n",
    "│  │  __init__.py\n",
    "│  │\n",
    "│\n",
    "└─tnt\n",
    "    │  admin.py\n",
    "    │  apps.py\n",
    "    │  models.py\n",
    "    │  tests.py\n",
    "    │  views.py\n",
    "    │  __init__.py\n",
    " \n",
    "```"
   ]
  },
  {
   "cell_type": "markdown",
   "metadata": {},
   "source": [
    "上述目录结构中，`tnt`就是创建的app包，默认会创建一些基础文件。"
   ]
  }
 ],
 "metadata": {
  "kernelspec": {
   "display_name": "Python 3",
   "language": "python",
   "name": "python3"
  },
  "language_info": {
   "codemirror_mode": {
    "name": "ipython",
    "version": 3
   },
   "file_extension": ".py",
   "mimetype": "text/x-python",
   "name": "python",
   "nbconvert_exporter": "python",
   "pygments_lexer": "ipython3",
   "version": "3.6.4"
  },
  "toc": {
   "nav_menu": {},
   "number_sections": true,
   "sideBar": true,
   "skip_h1_title": false,
   "title_cell": "Table of Contents",
   "title_sidebar": "Contents",
   "toc_cell": false,
   "toc_position": {},
   "toc_section_display": true,
   "toc_window_display": false
  }
 },
 "nbformat": 4,
 "nbformat_minor": 2
}
