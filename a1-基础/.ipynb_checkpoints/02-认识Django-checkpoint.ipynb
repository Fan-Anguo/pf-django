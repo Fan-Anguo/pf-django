{
 "cells": [
  {
   "cell_type": "markdown",
   "metadata": {},
   "source": [
    "初识 Django\n",
    "===="
   ]
  },
  {
   "cell_type": "markdown",
   "metadata": {},
   "source": [
    "# Django 是什么？\n",
    "\n",
    "Django 是一种基于 Python 的 Web 开发框架。\n",
    "\n",
    "Web开发指的是开发基于B/S架构，通过前后端的配合，将后台服务器的数据在浏览器上展现给前台用户的应用。\n",
    "\n",
    "B/S结构（Browser/Server，浏览器/服务器模式），是WEB兴起后的一种网络结构模式，WEB浏览器是客户端最主要的应用软件。这种模式统一了客户端（大家都使用浏览器，而不是专用的客户端软件），将系统功能实现的核心部分集中到服务器上，简化了系统的开发、维护和使用。客户机上只要安装一个浏览器（Browser），如Netscape Navigator或Internet Explorer，服务器安装SQL Server、Oracle、MYSQL等数据库。浏览器通过Web Server 同数据库进行数据交互。\n",
    "\n",
    "比如天猫将商品数据在浏览器上展示给客户。商品数据保存在服务器，客户端只需要一个浏览器。数据如何展示在客户的浏览器上也是由服务器设计和控制。\n",
    "\n",
    "客户端可以使用不同的平台、不同的浏览器。"
   ]
  },
  {
   "cell_type": "markdown",
   "metadata": {},
   "source": [
    "# web 框架的功用\n",
    "\n",
    "什么是web框架？web框架有什么用处？是一个问题。\n",
    "\n",
    "架设一个网站，涉及很多工作，如：网站的逻辑和结构、网站的部署、网站的后台管理、数据据库的设计、数据库的连接、请求的解析、对请求的响应、安全性等等...\n",
    "\n",
    "架设网站几乎都要涉及这些工作。架设一个网站与造一辆汽车类似，轮子、方向盘、发动机、刹车系统等...是造车都需要面对的“部件”，汽车制造商不可能自己从头生产每个部件，总是由配件制造商生产提供各个部件，汽车制造商进行装配和调试。\n",
    "\n",
    "web框架集成了架设网站常见功能的模块，网站设计者无须从头开发每个“部件”，在框架的基础上定制出网站的各个“部件”即可。"
   ]
  },
  {
   "cell_type": "markdown",
   "metadata": {},
   "source": [
    "# Django的设计\n",
    "\n",
    "web框架首先需要解决web设计中的一些核心问题：\n",
    "\n",
    "1. 后台的数据需要数据库系统支撑，框架与后台的数据进行交互（管理、读取、写入数据等）；\n",
    "2. 处理用户的请求，并对每个请求设定一个响应内容；\n",
    "3. 响应的内容以什么样的形式呈现给用户，比如一段文本信息的呈现格式（颜色、字体、大小、位置、对齐方式等）；\n",
    "4. 用户与服务器的交互，比如用户在浏览器中输入网址，用户注册：用户输入注册信息，需要对注册的条目进行控制，输入的信息需要存入后台数据库。\n",
    "\n",
    "## MVC设计模式\n",
    "\n",
    "在目前基于Python语言的几十个Web开发框架中，几乎所有的全栈框架都引导开发者使用MVC设计模式，即上述这些核心任务通过相应的组件来完成：\n",
    "\n",
    "- 任务1`>>>` 模型model；\n",
    "- 任务2、3`>>>` 视图views；\n",
    "- 任务3`>>>`  控制器controller。\n",
    "\n",
    "所谓全栈框架，是指除了封装网络和线程操作，还提供HTTP、数据库读写管理、HTML模板引擎等一系列功能的Web框架，比如Django、Tornado和Flask。\n",
    "\n",
    "## MTV设计模式：\n",
    "\n",
    "Django对传统的MVC设计模式进行了修改：\n",
    "\n",
    "- 在Django中，控制器接受用户输入的部分由框架自行处理；\n",
    "- 将视图分成View模块和Template模块两部分，将动态的逻辑处理与静态的页面展现分离开；\n",
    "- Model采用了ORM技术，将关系型数据库表抽象成面向对象的Python类，将表操作转换成类操作，避免了复杂的SQL语句编写。\n",
    "\n",
    "Django 里更关注的是模型（Model）、模板(Template)和视图（Views），称为 MTV模式。MTV和MVC本质上是一样的。\n",
    "\n",
    "Django的M、T、V各自的职责如下：\n",
    "\n",
    "- 模型(Model)：操作后台数据库的模块；\n",
    "- 模板(Template)：将数据与HTML语言结合起来的引擎；\n",
    "- 视图(View)：请求与响应内容逻辑映射（返回一个请求对应一个响应内容的函数）。\n",
    "\n",
    " <table>\n",
    "        <thead>\n",
    "            <th><strong>层次</strong></th>\n",
    "            <th><strong>作用</strong></th>\n",
    "        </thead>\n",
    "\n",
    "        <tr>\n",
    "            <td>model,模型层</td>\n",
    "            <td>即数据存、取，处理与数据有关的事务。<br>定义数据的结构、存取、有效性等。</td>\n",
    "        </tr>\n",
    "\n",
    "        <tr>\n",
    "            <td>template,模板层</td>\n",
    "            <td>信息的显示、渲染方式，即数据、信息等如何在页面上显示。\n",
    "            <br>将数据与html语言结合起来。</td>\n",
    "        </tr>\n",
    "\n",
    "        <tr>\n",
    "            <td>view,视图层</td>\n",
    "            <td>建立请求与返回对象的对应关系。即每个请求展现哪些数据。\n",
    "                <br>“数据”可能直接是一段文本信息，也可能是一个html文件。</td>\n",
    "        </tr>\n",
    "    </table>"
   ]
  },
  {
   "cell_type": "markdown",
   "metadata": {},
   "source": [
    "从上表可以看出Django 视图不处理用户输入，而仅仅决定要展现哪些数据给用户，而Django 模板 仅仅决定如何展现Django视图指定的数据。\n",
    "\n",
    "或者说, Django将MVC中的视图进一步分解为 Django视图 和 Django模板两个部分，分别决定 “展现哪些数据” 和 “如何展现”，使得Django的模板可以根据需要随时替换，而不仅仅限制于内置的模板。\n",
    "\n",
    "至于MVC控制器部分，由Django框架的URLconf来实现。URLconf机制是使用正则表达式匹配URL，然后调用合适的Python函数。\n",
    "\n",
    "URLconf对于URL的规则没有任何限制，你完全可以设计成任意的URL风格，不管是传统的，RESTful的，或者是另类的。\n",
    "\n",
    "框架把控制层给封装了，无非与数据交互这层都是数据库表的读,写,删除,更新的操作。在写程序的时候，只要调用相应的方法就行了。"
   ]
  },
  {
   "cell_type": "markdown",
   "metadata": {},
   "source": [
    "# django的设计哲学\n",
    "Django的主要目的是简便、快速的开发数据库驱动的网站。它强调代码复用，多个组件可以很方便的以“插件”形式服务于整个框架，Django有许多功能强大的第三方插件，你甚至可以很方便的开发出自己的工具包。这使得Django具有很强的可扩展性。它还强调快速开发和DRY(Do Not Repeat Yourself)原则。\n",
    "\n",
    "Django基于MVC的设计十分优美：\n",
    "\n",
    "- 对象关系映射 (ORM,object-relational mapping)：以Python类形式定义你的数据模型，ORM将模型与关系数据库连接起来，你将得到一个非常容易使用的数据库API，同时你也可以在Django中使用原始的SQL语句。\n",
    "- URL 分派：使用正则表达式匹配URL，你可以设计任意的URL，没有框架的特定限定。像你喜欢的一样灵活。\n",
    "- 模版系统：使用Django强大而可扩展的模板语言，可以分隔设计、内容和Python代码。并且具有可继承性。\n",
    "- 表单处理：你可以方便的生成各种表单模型，实现表单的有效性检验。可以方便的从你定义的模型实例生成相应的表单。\n",
    "- Cache系统：可以挂在内存缓冲或其它的框架实现超级缓冲 －－ 实现你所需要的粒度。\n",
    "- 会话(session)，用户登录与权限检查，快速开发用户会话功能。\n",
    "- 国际化：内置国际化系统，方便开发出多种语言的网站。\n",
    "- 自动化的管理界面：不需要你花大量的工作来创建人员管理和更新内容。Django自带一个ADMIN site,类似于内容管理系统"
   ]
  },
  {
   "cell_type": "markdown",
   "metadata": {},
   "source": [
    "# Django 的工作机制\n",
    "\n",
    "<img src=\"../../pf-img-store/django/django-request-response.png\">"
   ]
  },
  {
   "cell_type": "markdown",
   "metadata": {},
   "source": [
    "1. 用manage .py runserver 启动Django服务器时就载入了在同一目录下的settings .py。该文件包含了项目中的配置信息，如前面讲的URLConf等，其中最重要的配置就是ROOT_URLCONF，它告诉Django哪个Python模块应该用作本站的URLConf，默认的是urls .py\n",
    "2. 当访问url的时候，Django首先会根据ROOT_URLCONF的设置来装载URLConf。\n",
    "3. 然后按顺序逐个匹配URLConf里的URLpatterns。如果找到则会调用相关联的视图函数，并把HttpRequest对象作为该视图函数的第一个参数(通常是request)。\n",
    "4. 最后该view函数负责返回一个HttpResponse对象。"
   ]
  }
 ],
 "metadata": {
  "kernelspec": {
   "display_name": "Python 3",
   "language": "python",
   "name": "python3"
  },
  "language_info": {
   "codemirror_mode": {
    "name": "ipython",
    "version": 3
   },
   "file_extension": ".py",
   "mimetype": "text/x-python",
   "name": "python",
   "nbconvert_exporter": "python",
   "pygments_lexer": "ipython3",
   "version": "3.6.4"
  },
  "toc": {
   "nav_menu": {},
   "number_sections": true,
   "sideBar": true,
   "skip_h1_title": false,
   "title_cell": "Table of Contents",
   "title_sidebar": "Contents",
   "toc_cell": false,
   "toc_position": {},
   "toc_section_display": true,
   "toc_window_display": false
  }
 },
 "nbformat": 4,
 "nbformat_minor": 2
}
