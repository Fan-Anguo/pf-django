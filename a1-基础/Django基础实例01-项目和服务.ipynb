{
 "cells": [
  {
   "cell_type": "markdown",
   "metadata": {},
   "source": [
    "Django 基础实例01\n",
    "=======\n",
    "\n",
    "**创建django项目，启动django服务**\n",
    "\n",
    "Django实战，分成五个层次：\n",
    "\n",
    "1.基础篇：创建一个最简单的静态的博客网站。**先抛开细节，理解Django工作的宏观路径非常重要。**\n",
    "\n",
    "2.进阶篇：对上述网站进行拓展，对Django框架的主要功能模块有一个全面的理解。**仍然着重于整体的把握。**\n",
    "\n",
    "3.提高篇：进一步完善上述网站，提高生产中对django各功能模块使用的把控能力。**讨论实战技巧、性能优化的问题。**\n",
    "\n",
    "4.深化篇：django各功能模块的语法细节，包括一些模块的源代码解读。\n",
    "\n",
    "5.拓展篇：django第三方数据库、模板引擎、前端如bootstrap的集成和使用等。\n",
    "\n",
    "循序渐进地学习，**在开始时要着重于理解Django的工作机制，包括整个框架和重要部件，而不要纠结于语法的细节。**\n",
    "\n",
    "语法的细节到高级篇再来讨论。"
   ]
  },
  {
   "cell_type": "markdown",
   "metadata": {},
   "source": [
    "## Django的命令行管理工具\n",
    "\n",
    "Django把一个网站当作一个 project 项目来管理。所以使用django搭建网站总是从创建一个django项目开始。\n",
    "\n",
    "Django 本质上就是一个Python程序包，web框架是从程序的用途上来说的。\n",
    "\n",
    "在Django的安装包里，有如下一些子包：\n",
    "\n",
    "`django\\core\\management\\commands` \n",
    "\n",
    "在`commnads`子包中有django用于管理`management`的核心模块---即django命令行管理工具。\n",
    "\n",
    "其中的每一个模块(.py文件)对应一条管理命令，实现django的某个管理功能，模块列表如下："
   ]
  },
  {
   "cell_type": "markdown",
   "metadata": {},
   "source": [
    "```\n",
    "C:\\Anaconda3\\envs\\Anaconda3\\Lib\\site-packages\\django\\core\\management\\commands\n",
    "│  check.py\n",
    "│  compilemessages.py\n",
    "│  createcachetable.py\n",
    "│  dbshell.py\n",
    "│  diffsettings.py\n",
    "│  dumpdata.py\n",
    "│  flush.py\n",
    "│  inspectdb.py\n",
    "│  loaddata.py\n",
    "│  makemessages.py\n",
    "│  makemigrations.py\n",
    "│  migrate.py\n",
    "│  runserver.py\n",
    "│  sendtestemail.py\n",
    "│  shell.py\n",
    "│  showmigrations.py\n",
    "│  sqlflush.py\n",
    "│  sqlmigrate.py\n",
    "│  sqlsequencereset.py\n",
    "│  squashmigrations.py\n",
    "│  startapp.py\n",
    "│  startproject.py\n",
    "│  test.py\n",
    "│  testserver.py\n",
    "│  __init__.py\n",
    "```"
   ]
  },
  {
   "cell_type": "markdown",
   "metadata": {},
   "source": [
    "现在我们先了解三个在开始时很重要的命令：\n",
    "\n",
    "- `startproject`\n",
    "- `startapp`\n",
    "- `runserver`\n",
    "\n",
    "在安装django时，会自动将`C:\\Anaconda3\\pkgs\\django-2.0.4-py36_0\\Scripts\\django-admin.exe`添加到系统的环境变量中，也就是说在终端命令下，可以直接执行`django-admin`命令。\n",
    "\n",
    "因此系统终端执行`django-admin`命令，调用Django程序包中的模块`django-admin.py`，通过该模块再来调用上述的管理命令，用于站点管理。\n",
    "\n",
    "可以认为 `django-admin.py` 就是Django的一个用于管理任务的命令行工具。"
   ]
  },
  {
   "cell_type": "markdown",
   "metadata": {},
   "source": [
    "# 创建项目的命令 startproject\n",
    "\n",
    "`django-admin`的`startproject`命令用于创建一个项目，语法如下：\n",
    "\n",
    "`django-admin startproject name [directory]`\n",
    "\n",
    "- `name`参数是项目的名称。\n",
    "\n",
    "- `[directory]`可选项，是项目存放的目录。\n",
    "\n",
    ">> 如果未给出`[directory]`参数，就在当前工作目录下创建一个与项目`name`同名的新目录，再在该目录下创建项目包目录和其它文件；\n",
    "\n",
    ">> 如果给出`[directory]`参数，就会把`[directory]`目录作为项目目录，在该目录创建项目包及manage.py文件。\n",
    "\n",
    "- 默认情况下，新目录包含`manage.py`和项目包，项目包包含settings.py和其他文件。 \n",
    "\n",
    "- 使用`“ . ”`表示当前工作目录。\n",
    "\n",
    "- manage.py 是对django-admin.py的一个简单的包装，每一个Django Project里面都会包含一个manage.py文件。\n",
    "\n",
    "- 项目建立以后，推荐使用`manage.py`来管理项目。"
   ]
  },
  {
   "cell_type": "markdown",
   "metadata": {},
   "source": [
    "# 创建一个项目\n",
    "\n",
    "我习惯把`I:\\FanGitHub`作为工作目录，先在该目录下创建一个`pyforest400`目录，将把它作为项目目录。\n",
    "\n",
    "运行：\n",
    "\n",
    "`django-admin startproject pyforest ./pyforest400`\n",
    "\n",
    "就会创建一个名为`pyforest`项目，它存放在当前目录下的`./pyforest400'下。\n",
    "\n",
    "目录结构如下：\n",
    "\n",
    "```\n",
    "I:./pyforest400\n",
    "│  manage.py\n",
    "│\n",
    "├─pyforest\n",
    "│  │  settings.py\n",
    "│  │  urls.py\n",
    "│  │  wsgi.py\n",
    "│  │  __init__.py\n",
    "\n",
    "```\n",
    "\n",
    "在`pyforest400`目录下会创建一个项目包目录（用项目名命名的）`pyforest`，还会创建一个manage.py文件。\n",
    "\n",
    "在项目包目录`pyforest`下默认会创建一些`.py`文件。\n",
    "\n",
    "这些文件的作用如下："
   ]
  },
  {
   "cell_type": "markdown",
   "metadata": {},
   "source": [
    "- 顶层的`pyforest400\\`目录，项目的根目录，是项目的容器。它的名字与Django无关；可以将它重命名为其它名字。\n",
    "- 子目录`pyforest\\`是项目的实际Python包。它的名字是Python包名，在需要导入这个包内的任何对象时需要用到这个名字（例如`pyforest.urls`）。\n",
    "- `manage.py`：是`django-admin.py`一个简单封装，是一个命令行工具，可以通过这个工具以各种方式与该Django项目进行交互，通过它可以调用django shell和数据库，管理项目。\n",
    "- `pyforest \\ __ init__.py`：一个空文件，告诉Python这个目录应该被视为一个Python包。\n",
    "- `pyforest \\ settings.py`：这个是Django项目的设置/配置，包含了项目的默认设置，包括数据库信息，调试标志以及其他一些工作的变量。\n",
    "- `pyforest \\ urls.py`：这个是Django项目的URL声明；该Django项目支持的网站的“目录”，负责把URL模式映射到应用程序、视图、另一个url声明文件等。默认的，django首先该urls.py文件匹配浏览器端的请求，根据这里的匹配结果决定下一步的定向。\n",
    "- `pyforest \\ wsgi.py`：WSGI兼容的Web服务器为您的项目提供服务的入口点，用于项目的部署。\n",
    "\n",
    "**注意：可以不带[directory]参数，再将项目的根目录重命名为`pyforest400`，效果是一样的。**"
   ]
  },
  {
   "cell_type": "markdown",
   "metadata": {},
   "source": [
    "# 启动Django开发服务器\n",
    "进入`pyforest400`目录，运行下述命令：\n",
    "\n",
    "`python manage.py runserver`\n",
    "\n",
    "会看到下面的提示：\n",
    "```\n",
    "PS I:\\FanGitHub\\pyforest400> python manage.py runserver\n",
    "Performing system checks...\n",
    "\n",
    "System check identified no issues (0 silenced).\n",
    "\n",
    "You have 14 unapplied migration(s). Your project may not work properly until you apply the migrations for app(s): admin, auth, contenttypes, sessions.\n",
    "Run 'python manage.py migrate' to apply them.\n",
    "July 05, 2018 - 16:07:34\n",
    "Django version 2.0.4, using settings 'pyforest.settings'\n",
    "Starting development server at http://127.0.0.1:8000/\n",
    "Quit the server with CTRL-BREAK.\n",
    "```\n",
    "表明成功创建了一个站点项目，并启动了它的web服务器，这是一个由Python编写的轻量级服务器，非常简易，用于学习和测试很方便。\n",
    "\n",
    "在浏览器中输入`http://127.0.0.1:8000/`就会看到一个页面中间如下图的Django的欢迎界面，表明第一步很正常。\n",
    "\n",
    "<img src=\"../../../pf-img-store/django/django-runserver.png\">\n",
    "\n",
    "**注意： Django的开发服务器具有自动重载功能，当你的代码有修改，每隔一段时间服务器将自动更新。\n",
    "但是，有一些动作，例如增加文件，不会触发服务器重载，这时就需要你自己手动重启服务。先使用快捷键 `CTRL-c`(vscode集成终端下)退出当前的服务，再运行该命令重启服务即可。**"
   ]
  },
  {
   "cell_type": "markdown",
   "metadata": {},
   "source": [
    "第二部分，我们将设置数据库，创建您的第一个模型，并简单介绍Django自动生成的管理站点。"
   ]
  }
 ],
 "metadata": {
  "kernelspec": {
   "display_name": "Python 3",
   "language": "python",
   "name": "python3"
  },
  "language_info": {
   "codemirror_mode": {
    "name": "ipython",
    "version": 3
   },
   "file_extension": ".py",
   "mimetype": "text/x-python",
   "name": "python",
   "nbconvert_exporter": "python",
   "pygments_lexer": "ipython3",
   "version": "3.6.4"
  },
  "toc": {
   "nav_menu": {},
   "number_sections": true,
   "sideBar": true,
   "skip_h1_title": false,
   "title_cell": "Table of Contents",
   "title_sidebar": "Contents",
   "toc_cell": false,
   "toc_position": {},
   "toc_section_display": true,
   "toc_window_display": false
  }
 },
 "nbformat": 4,
 "nbformat_minor": 2
}
