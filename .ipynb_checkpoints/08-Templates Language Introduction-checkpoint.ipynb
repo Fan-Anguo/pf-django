{
 "cells": [
  {
   "cell_type": "markdown",
   "metadata": {},
   "source": [
    "Templates Language Introduction\n",
    "====\n",
    "\n",
    "[Templates | Django documentation | Django ](https://docs.djangoproject.com/en/2.0/topics/templates/#template-language-intro)"
   ]
  },
  {
   "cell_type": "markdown",
   "metadata": {},
   "source": [
    "作为一个Web框架，Django需要一种方便的方式来动态生成HTML。最常用的方法是依靠模板。模板包含两个部分：\n",
    "\n",
    "- HTML输出的所需的静态部分；\n",
    "- 描述如何插入动态内容的特殊语法。\n",
    "\n",
    "静态部分就是使用该模板的html共用内容；动态内容实际是一个用特殊语法占据的位置，最后实际呈现的内容会由该语法和各个html的定义决定。"
   ]
  },
  {
   "cell_type": "markdown",
   "metadata": {},
   "source": [
    "Django项目可以配置一个或多个模板引擎，如果不使用模板，也可以不配置。\n",
    "\n",
    "Django的模板系统默认提供两个模板引擎，一是Django自己的内置后端，被称为Django模板语言（DTL）；另一个是流行的Jinja2。\n",
    "\n",
    "也可使用来自第三方的模板语言后端，但需要安装、配置它们。"
   ]
  },
  {
   "cell_type": "markdown",
   "metadata": {},
   "source": [
    "Django定义了一个用于加载和渲染模板的标准API，无论后端如何。\n",
    "\n",
    "**加载：**根据给定的标识符查找模板，并对其进行预处理，通常将其编译为内存中表示。\n",
    "\n",
    "**渲染：**意味着用上下文数据插入模板并返回结果字符串。"
   ]
  },
  {
   "cell_type": "markdown",
   "metadata": {},
   "source": [
    "Django template language，DTL是Django官方的模板语言，如果没有特殊的需要，应该尽可能地使用该模板语言，稳定性、兼容性、分发性最好。"
   ]
  },
  {
   "cell_type": "markdown",
   "metadata": {},
   "source": [
    "对模板引擎的通用支持和Django模板语言的实现都位于django.template命名空间。\n",
    "\n",
    "**警告**\n",
    "\n",
    "模板系统对不受信任的模板作者是不安全的。例如，站点不应该允许用户提供自己的模板，因为模板作者可以执行XSS攻击和访问可能包含敏感信息的模板变量的属性。"
   ]
  },
  {
   "cell_type": "markdown",
   "metadata": {},
   "source": [
    "# 配置模板引擎\n",
    "由startproject命令创建项目时，在项目包目录下会生成一个settings.py文件，该文件是配置项目的地方，其中有一个TEMPLATES设置项，用于配置模板引擎。\n",
    "\n",
    "TEMPLATES配置是一个列表，每个引擎的配置内容组成一个字典，每个字典是列表的一个项。默认值为空。"
   ]
  },
  {
   "cell_type": "markdown",
   "metadata": {},
   "source": [
    "```\n",
    "TEMPLATES = [\n",
    "    {\n",
    "        'BACKEND': 'django.template.backends.django.DjangoTemplates',\n",
    "        'DIRS': [],\n",
    "        'APP_DIRS': True,\n",
    "        'OPTIONS': {\n",
    "            # ... some options here ...\n",
    "        },\n",
    "    },\n",
    "]\n",
    "```"
   ]
  },
  {
   "cell_type": "markdown",
   "metadata": {},
   "source": [
    "每个引擎有4个配置子项，组成一个字典：\n",
    "\n",
    "1. BACKEND\n",
    "> 是实现Django模板后端API的模板引擎类的Python路径，路径用点运算标识。 内置后端有两个 django.template.backends.django.DjangoTemplates（默认只有这个） 和  django.template.backends.jinja2.Jinja2。\n",
    "\n",
    "2. DIRS\n",
    "> DIRS定义一个目录列表，引擎将依次在这些目录中查找模板源文件。\n",
    "\n",
    "3. APP_DIRS \n",
    "> APP_DIRS告诉引擎是否要在已安装的应用程序中查找模板。每个后端为应用程序内的子目录定义一个常规名称，这个子目录是模板存储的位置。\n",
    "\n",
    "4. OPTIONS\n",
    "> 一些特定于后端的设置。\n",
    "\n",
    "> DTL引擎的OPTIONS配置项中接受以下参数:\n",
    "\n",
    ">>'autoescape'：一个布尔值，用于控制是否启用HTML自动转义功能。默认为True。\n",
    "\n",
    ">>context_processors: 以\".\"为分隔符的Python调用路径的列表。默认是个空列表。\n",
    "\n",
    ">>'debug'：打开/关闭模板调试模式的布尔值。默认和setting中的DEBUG有相同的值。\n",
    "\n",
    ">>'loaders'：模板加载器类的虚拟Python路径列表。默认值取决于DIRS和APP_DIRS的值。\n",
    "\n",
    ">>string_if_invalid：非法变量时输出的字符串。默认为空字符串。\n",
    "\n",
    ">>file_charset：用于读取磁盘上的模板文件的字符集编码。默认为FILE_CHARSET的值。\n",
    "\n",
    ">>'libraries'：用于注册模板引擎。 这可以用于添加新的库或为现有库添加备用标签。\n",
    "\n",
    ">>'builtins'：以圆点分隔的Python路径的列表。"
   ]
  },
  {
   "cell_type": "markdown",
   "metadata": {},
   "source": [
    "# 使用模板"
   ]
  },
  {
   "cell_type": "markdown",
   "metadata": {},
   "source": [
    "django.template.loader模块定义两个函数来加载模板。"
   ]
  },
  {
   "cell_type": "markdown",
   "metadata": {},
   "source": [
    "**`get_template(template_name, using=None)[source]`**\n",
    "\n",
    "该函数使用给定名称加载模板并返回一个Template对象。\n",
    "\n",
    "返回值的确切类型取决于加载模板的后端。 每个后端都有自己的Template类。"
   ]
  },
  {
   "cell_type": "markdown",
   "metadata": {},
   "source": [
    "get_template()按顺序尝试每个模板引擎，直到成功为止。如果找不到模板，则会引发TemplateDoesNotExist。如果找到模板但包含无效语法，则会引发TemplateSyntaxError.\n",
    "\n",
    "模板的搜索和加载方式取决于每个引擎的后端和配置。\n",
    "\n",
    "如果要将搜索限制在特定的模板引擎上，请传递该引擎的NAME到using参数。"
   ]
  },
  {
   "cell_type": "markdown",
   "metadata": {},
   "source": [
    "**`select_template(template_name_list, using=None)[source]`**\n",
    "\n",
    "\n",
    "`select_template()`就像`get_template()`，但它需要一个模板名称列表。它按顺序尝试每个名称，并返回存在的第一个模板。"
   ]
  },
  {
   "cell_type": "markdown",
   "metadata": {},
   "source": [
    "如果加载模板失败，则可能会引发django.template中定义的以下两个异常：\n",
    "\n",
    "`exception TemplateDoesNotExist(msg, tried=None, backend=None, chain=None)[source]`\n",
    "\n",
    "当找不到模板时会引发此异常。 它接受以下可选参数，用于在调试页面上填充 templates postmortem：\n",
    "\n",
    "**backend**\n",
    "> 发生异常的模板后端实例。\n",
    "\n",
    "**tried**\n",
    "> 查找模板时尝试的来源列表。 它被格式化为包含（origin，status）的元组列表，其中origin是类似原点的对象，status是一个字符串，其中找不到模板。\n",
    "\n",
    "**chain**\n",
    "> 尝试加载模板时引发的中间TemplateDoesNotExist异常列表。 这由函数使用，如get_template（），尝试从多个引擎加载给定的模板。"
   ]
  },
  {
   "cell_type": "markdown",
   "metadata": {},
   "source": [
    "`exception TemplateSyntaxError(msg)[source]`\n",
    "\n",
    "当找到模板但包含错误时会引发此异常。\n",
    "\n",
    "由get_template（）和select_template（）返回的模板对象必须提供具有以下签名的render（）方法："
   ]
  },
  {
   "cell_type": "markdown",
   "metadata": {},
   "source": [
    "**`Template.render(context=None, request=None)`**"
   ]
  },
  {
   "cell_type": "markdown",
   "metadata": {},
   "source": [
    "使用给定的`context`呈现此模板。\n",
    "\n",
    "如果提供context，它必须是字典。如果未提供，则引擎将使用空的context呈现模板。\n",
    "\n",
    "如果提供request，它必须是HttpRequest。然后引擎必须在模板中提供它以及CSRF令牌。这是如何实现的，取决于每个后端。\n",
    "\n",
    "这是搜索算法的一个例子。 对于这个例子，TEMPLATES设置是："
   ]
  },
  {
   "cell_type": "markdown",
   "metadata": {},
   "source": [
    "这是搜索算法的一个例子。 对于这个例子，TEMPLATES设置是：\n",
    "```\n",
    "TEMPLATES = [\n",
    "    {\n",
    "        'BACKEND': 'django.template.backends.django.DjangoTemplates',\n",
    "        'DIRS': [\n",
    "            '/home/html/example.com',\n",
    "            '/home/html/default',\n",
    "        ],\n",
    "    },\n",
    "    {\n",
    "        'BACKEND': 'django.template.backends.jinja2.Jinja2',\n",
    "        'DIRS': [\n",
    "            '/home/html/jinja2',\n",
    "        ],\n",
    "    },\n",
    "]\n",
    "```"
   ]
  },
  {
   "cell_type": "markdown",
   "metadata": {},
   "source": [
    "如果你调用了get_template（'story_detail.html'），下面是Django将要查找的文件：\n",
    "\n",
    "```\n",
    "/home/html/example.com/story_detail.html（'django'引擎）\n",
    "/home/html/default/story_detail.html（'django'引擎）\n",
    "/home/html/jinja2/story_detail.html（'jinja2'引擎）\n",
    "```"
   ]
  },
  {
   "cell_type": "markdown",
   "metadata": {},
   "source": [
    "如果你调用`select_template（['story_253_detail.html'，'story_detail.html']）`，下面是Django将要查找的内容：\n",
    "\n",
    "```\n",
    "/home/html/example.com/story_253_detail.html（'django'引擎）\n",
    "/home/html/default/story_253_detail.html（'django'引擎）\n",
    "/home/html/jinja2/story_253_detail.html（'jinja2'引擎）\n",
    "/home/html/example.com/story_detail.html（'django'引擎）\n",
    "/home/html/default/story_detail.html（'django'引擎）\n",
    "/home/html/jinja2/story_detail.html（'jinja2'引擎）\n",
    "```\n",
    "\n",
    "当Django找到一个存在的模板时，它将停止查找。"
   ]
  },
  {
   "cell_type": "markdown",
   "metadata": {},
   "source": [
    "***小提示**\n",
    "\n",
    "您可以使用select_template（）进行灵活的模板加载。 例如，如果您编写了新闻故事并希望某些故事具有自定义模板，请使用select_template（['story_％s_detail.html'％story.id'story_detail.html']）。 这将允许您为单个故事使用自定义模板，并为没有自定义模板的故事使用后备模板。"
   ]
  },
  {
   "cell_type": "markdown",
   "metadata": {},
   "source": [
    "可以在每个包含模板的目录内的子目录中组织模板。惯例是为每个Django应用程序创建一个子目录，并根据需要在这些子目录中创建子目录。\n",
    "\n",
    "这样做是为了使自己的思路清晰和条理。将所有模板存储在单个目录的根级别会变得麻烦。\n",
    "\n",
    "要加载子目录内的模板，只需使用斜线即可：\n",
    "\n",
    "`get_template('news/story_detail.html')`"
   ]
  },
  {
   "cell_type": "markdown",
   "metadata": {},
   "source": [
    "使用与上面相同的TEMPLATES选项，这将尝试加载以下模板：\n",
    "```\n",
    "/home/html/example.com/news/story_detail.html（'django'引擎）\n",
    "/home/html/default/news/story_detail.html（'django'引擎）\n",
    "/home/html/jinja2/news/story_detail.html（'jinja2'引擎）\n",
    "```\n",
    "此外，为了减少加载和渲染模板的重复性，Django提供了一个快捷方式，可以自动执行该过程。"
   ]
  },
  {
   "cell_type": "markdown",
   "metadata": {},
   "source": [
    "**`render_to_string(template_name, context=None, request=None, using=None)[source]`**\n",
    "\n",
    "render_to_string（）加载一个像get_template（）这样的模板，并立即调用它的render（）方法。它需要以下参数："
   ]
  },
  {
   "cell_type": "markdown",
   "metadata": {},
   "source": [
    "**TEMPLATE_NAME**\n",
    ">要加载和渲染的模板的名称。 如果它是一个模板名称列表，Django使用select_template（）而不是get_template（）来查找模板。"
   ]
  },
  {
   "cell_type": "markdown",
   "metadata": {},
   "source": [
    "**context**\n",
    ">作为模板 context 进行渲染的字典。"
   ]
  },
  {
   "cell_type": "markdown",
   "metadata": {},
   "source": [
    "**request**\n",
    ">可选项，一个HttpRequest，可以用于模板的渲染过程。"
   ]
  },
  {
   "cell_type": "markdown",
   "metadata": {},
   "source": [
    "**using**\n",
    "\n",
    ">可选项，一个模板引擎的NAME。搜索模板将被限制在该引擎中。"
   ]
  },
  {
   "cell_type": "markdown",
   "metadata": {},
   "source": [
    "```\n",
    "from django.template.loader import render_to_string\n",
    "rendered = render_to_string('my_template.html', {'foo': 'bar'})\n",
    "```\n",
    "另请参阅调用`render_to_string（）`，并将结果提供给适合从视图返回的`HttpResponse`的`render（）`快捷方式。"
   ]
  },
  {
   "cell_type": "markdown",
   "metadata": {},
   "source": [
    "最后，您可以直接使用配置的引擎：\n",
    "\n",
    "`engines`\n",
    "\n",
    "模板引擎在django.template.engines中可用："
   ]
  },
  {
   "cell_type": "markdown",
   "metadata": {},
   "source": [
    "```\n",
    "from django.template import engines\n",
    "\n",
    "django_engine = engines['django']\n",
    "template = django_engine.from_string(\"Hello {{ name }}!\")\n",
    "```"
   ]
  },
  {
   "cell_type": "markdown",
   "metadata": {},
   "source": [
    "查找键 - 本例中的 'django' - 是引擎的 `NAME`。"
   ]
  },
  {
   "cell_type": "markdown",
   "metadata": {},
   "source": [
    "# 内置的后端\n",
    "\n",
    "`class DjangoTemplates[source]`\n",
    "\n",
    "将BACKEND设置为'django.template.backends.django.DjangoTemplates'以配置Django模板引擎。\n",
    "\n",
    "当APP_DIRS为True时，DjangoTemplates引擎会在安装的应用程序的templates子目录中查找模板。 这个通用名称保持向后兼容。\n",
    "\n",
    "DjangoTemplates引擎接受以下选项："
   ]
  },
  {
   "cell_type": "markdown",
   "metadata": {},
   "source": [
    "**'autoescape'：** \n",
    "\n",
    "> 一个布尔值，用于控制是否启用HTML自动填充。它默认为True。如果您要呈现非HTML模板，请将其设置为False！\n",
    "\n",
    "**'context_processors'：**\n",
    "> 一个点到点的Python路径列表，用于在模板被请求呈现时用于填充context。这些可调用对象将请求对象作为参数，并返回要合并到context中的项的字典。\n",
    "\n",
    "> 它默认为一个空列表。有关更多信息，请参阅RequestContext。\n",
    "\n",
    "**'debug'：**\n",
    "> 打开/关闭模板调试模式的布尔值。如果它为True，那么花哨的错误页面将显示模板呈现期间引发的任何异常的详细报告。此报告包含模板的相关代码段，并突出显示相应的行。它默认为DEBUG设置的值。\n",
    "\n",
    "**'loaders'：**\n",
    "> 模板加载器类的点状Python路径列表。每个Loader类都知道如何从特定源文件导入模板。或者，可以使用元组而不是字符串。元组中的第一项应该是Loader类的名称，随后的项目在初始化期间传递给Loader。\n",
    "\n",
    "> 默认取决于DIRS和APP_DIRS的值。\n",
    "\n",
    "> 详细信息请参阅加载程序类型。\n",
    "\n",
    "**'string_if_invalid'：**\n",
    ">以字符串形式输出模板系统应该用于无效（例如拼写错误）变量的输出。\n",
    "\n",
    "> 它默认为一个空字符串。\n",
    "\n",
    "> 请参阅处理无效变量以了解详细信息。\n",
    "\n",
    "**'file_charset'：**\n",
    "> 用于读取磁盘上模板文件的字符集。\n",
    "\n",
    "> 它默认为FILE_CHARSET的值。\n",
    "\n",
    "**'Libraies'：**\n",
    "> 模板标签模块的标签字典和点状Python路径，以向模板引擎注册。这可以用来添加新库或为现有库提供替代标签。例如：\n",
    "\n",
    "```\n",
    "OPTIONS={\n",
    "    'libraries': {\n",
    "        'myapp_tags': 'path.to.myapp.tags',\n",
    "        'admin.urls': 'django.contrib.admin.templatetags.admin_urls',\n",
    "    },\n",
    "}\n",
    "```\n"
   ]
  },
  {
   "cell_type": "markdown",
   "metadata": {},
   "source": [
    "可以通过将相应的字典键传递给{％load％}标签来加载库。\n",
    "\n",
    "**'builtins'：**要添加到内置插件的模板标记模块的点Python路径列表。 例如：\n",
    "\n",
    "```\n",
    "OPTIONS={\n",
    "    'builtins': ['myapp.builtins'],\n",
    "}\n",
    "```"
   ]
  },
  {
   "cell_type": "markdown",
   "metadata": {},
   "source": [
    "无需先调用{％load％}标记，即可使用内置库中的标记和过滤器。"
   ]
  },
  {
   "cell_type": "markdown",
   "metadata": {},
   "source": []
  },
  {
   "cell_type": "markdown",
   "metadata": {},
   "source": []
  },
  {
   "cell_type": "markdown",
   "metadata": {},
   "source": []
  },
  {
   "cell_type": "markdown",
   "metadata": {},
   "source": []
  }
 ],
 "metadata": {
  "kernelspec": {
   "display_name": "Python 3",
   "language": "python",
   "name": "python3"
  },
  "language_info": {
   "codemirror_mode": {
    "name": "ipython",
    "version": 3
   },
   "file_extension": ".py",
   "mimetype": "text/x-python",
   "name": "python",
   "nbconvert_exporter": "python",
   "pygments_lexer": "ipython3",
   "version": "3.6.4"
  }
 },
 "nbformat": 4,
 "nbformat_minor": 2
}
