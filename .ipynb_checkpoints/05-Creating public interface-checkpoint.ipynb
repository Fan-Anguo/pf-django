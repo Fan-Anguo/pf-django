{
 "cells": [
  {
   "cell_type": "markdown",
   "metadata": {},
   "source": [
    "creating the public interface – “views.”\n",
    "===="
   ]
  },
  {
   "cell_type": "markdown",
   "metadata": {},
   "source": [
    "# 概述\n",
    "\n",
    "视图是Django应用程序中网页的“类型”，通常用于特定功能并具有特定模板。 例如，在博客应用程序中，您可能有以下视图：\n",
    "- 博客主页 - 显示最新的几个条目。\n",
    "- 输入“详细信息”页面 - 永久链接页面用于单个条目。\n",
    "- 基于年份的存档页面 - 显示给定年份中所有条目的月份。\n",
    "- 基于月份的存档页面 - 显示给定月份中所有日期的条目。\n",
    "- 基于日期的归档页面 - 显示给定日期的所有条目。\n",
    "- 评论操作 - 处理对给定条目的发布评论。"
   ]
  },
  {
   "cell_type": "markdown",
   "metadata": {},
   "source": [
    "在我们的`polls`应用程序中，我们有以下四种视图：\n",
    "\n",
    "- Question“index”页面 - 显示最新的几个问题。\n",
    "- Question“详细信息”页面 - 显示问题文本，没有结果，但有投票表格。\n",
    "- Question“结果”页面 - 显示特定问题的结果。\n",
    "- 投票活动 - 在特定问题中处理针对特定选择的投票。"
   ]
  },
  {
   "cell_type": "markdown",
   "metadata": {},
   "source": [
    "在Django中，网页和其他内容由视图传递。每个视图都由一个简单的Python函数（或基于类的视图的方法）表示。 Django将通过检查请求的URL（准确地说，域名后的URL部分）来选择一个视图。\n",
    "\n",
    "现在，在网络上，您可能会遇到诸如“ME2 / Sites / dirmod.asp？sid =＆type = gen＆mod = Core + Pages＆gid = A6CD4967199A42D9B65B1B”这样的漂亮的URL。Django允许我们使用比这更优雅的URL模式。\n",
    "\n",
    "URL模式只是URL的一般形式，例如：/ newsarchive / <year> / <month> /。\n",
    "\n",
    "为了从URL获得视图，Django使用了所谓的'URLconf'。 URLconf将URL模式映射到视图。\n",
    "\n",
    "本教程提供了有关使用URLconf的基本说明，您可以参考[URL dispatcher](add02-URL dispatcher.ipynb)以获取更多信息。"
   ]
  },
  {
   "cell_type": "markdown",
   "metadata": {},
   "source": [
    "# Writing more views\n",
    "\n",
    "现在让我们再添加一些视图到`polls / views.py`。这些视图略有不同，因为他们接受一个参数："
   ]
  },
  {
   "cell_type": "markdown",
   "metadata": {},
   "source": [
    "**polls/views.py**\n",
    "```\n",
    "def detail(request, question_id):\n",
    "    return HttpResponse(\"You're looking at question %s.\" % question_id)\n",
    "\n",
    "def results(request, question_id):\n",
    "    response = \"You're looking at the results of question %s.\"\n",
    "    return HttpResponse(response % question_id)\n",
    "\n",
    "def vote(request, question_id):\n",
    "    return HttpResponse(\"You're voting on question %s.\" % question_id)\n",
    "```    "
   ]
  },
  {
   "cell_type": "markdown",
   "metadata": {},
   "source": [
    "通过添加以下路径（）调用将这些新视图连接到polls.urls模块中："
   ]
  },
  {
   "cell_type": "markdown",
   "metadata": {},
   "source": [
    "**polls/urls.py**\n",
    "```\n",
    "from django.urls import path\n",
    "\n",
    "from . import views\n",
    "\n",
    "urlpatterns = [\n",
    "    # ex: /polls/\n",
    "    path('', views.index, name='index'),\n",
    "    # ex: /polls/5/\n",
    "    path('<int:question_id>/', views.detail, name='detail'),\n",
    "    # ex: /polls/5/results/\n",
    "    path('<int:question_id>/results/', views.results, name='results'),\n",
    "    # ex: /polls/5/vote/\n",
    "    path('<int:question_id>/vote/', views.vote, name='vote'),\n",
    "]\n",
    "```"
   ]
  },
  {
   "cell_type": "markdown",
   "metadata": {},
   "source": [
    "浏览你的浏览器，在“/ polls / 34 /”。 它将运行detail（）方法并显示您在URL中提供的任何ID。 尝试“/ polls / 34 / results /”和“/ polls / 34 / vote /” - 这些将显示占位符结果和投票页面。\n",
    "\n",
    "当有人从你的网站请求一个页面 - 比如说“/ polls / 34 /”时，Django将加载mysite.urls Python模块，因为它是由ROOT_URLCONF设置指向的。 它找到名为urlpatterns的变量并按顺序遍历这些模式。 在'polls /'找到匹配之后，它会去掉匹配的文本（“polls /”）并将剩余的文本“34 /”发送到“polls.urls”URLconf以供进一步处理。 在那里匹配'<int：question_id> /'，在调用detail（）视图中进行，如下所示：\n",
    "\n",
    "`detail(request=<HttpRequest object>, question_id=34)`"
   ]
  },
  {
   "cell_type": "markdown",
   "metadata": {},
   "source": [
    "`question_id = 34`部分来自`<int：question_id>`。 使用尖括号“捕获”部分URL并将其作为关键字参数发送到视图函数。该字符串的：`question_id>`部分定义了将用于标识匹配模式的名称，`<int：part`是一个转换器，用于确定哪些模式应匹配这部分URL路径。\n",
    "\n",
    "没有必要添加URL的，如`.html` - 除非你想，在这种情况下，你可以这样处理：\n",
    "\n",
    "`path('polls/latest.html', views.index),`\n",
    "\n",
    "但是尽可能不要这样做，是多余的。"
   ]
  },
  {
   "cell_type": "markdown",
   "metadata": {},
   "source": [
    "# 编写实用的视图\n",
    "\n",
    "每个视图负责执行以下两项操作之一：\n",
    "- 返回包含所请求页面内容的HttpResponse对象，\n",
    "- 或引发异常（如Http404）。\n",
    "\n",
    "其余的由你决定。\n",
    "\n",
    "视图可以从数据库中读取记录，也可以不必从数据库中读取数据。\n",
    "\n",
    "视图它可以使用模板系统，例如Django's - 或第三方Python模板系统 - 也可以不使用模板。视图可以生成一个PDF文件，输出XML，随时创建一个ZIP文件，使用任何你想要的Python库做任何你想做的事。\n",
    "\n",
    "所有的Django都想要一个HttpResponse，或者一个异常。\n",
    "\n",
    "因为它很方便，所以让我们使用Django自己的数据库API，我们在教程2中介绍了它。这里是一个新的`index()`视图，它根据发布日期显示系统中最新的5个调查问题，用逗号分隔："
   ]
  },
  {
   "cell_type": "markdown",
   "metadata": {},
   "source": [
    "**polls/views.py**\n",
    "```\n",
    "from django.http import HttpResponse\n",
    "\n",
    "from .models import Question\n",
    "\n",
    "\n",
    "def index(request):\n",
    "    latest_question_list = Question.objects.order_by('-pub_date')[:5]\n",
    "    output = ', '.join([q.question_text for q in latest_question_list])\n",
    "    return HttpResponse(output)\n",
    "\n",
    "# Leave the rest of the views (detail, results, vote) unchanged\n",
    "```"
   ]
  },
  {
   "cell_type": "markdown",
   "metadata": {},
   "source": [
    "但这里有一个问题：页面的设计在视图中被硬编码。如果你想改变页面的外观，你必须编辑这个Python代码。因此，让我们使用Django的模板系统通过创建视图可以使用的模板来将设计从Python中分离出来。\n",
    "\n",
    "首先，在polls目录中创建一个名为templates的目录。 Django将在那里寻找模板。\n",
    "\n",
    "您的项目的TEMPLATES设置描述了Django将如何加载和呈现模板。 默认将设置文件配置Django Templates后端，其APP_DIRS选项设置为True后端。 按照惯例，DjangoTemplates在每个INSTALLED_APPS中查找“templates”子目录。\n",
    "\n",
    "在您刚刚创建的模板目录中，创建另一个名为polls的目录，并在其中创建一个名为index.html的文件。 换句话说，你的模板应该在polls / templates / polls / index.html。 由于app_directories模板加载器的工作方式如上所述，因此您可以在Django中将此模板简单地称为polls / index.html。"
   ]
  },
  {
   "cell_type": "markdown",
   "metadata": {},
   "source": [
    "**模板命名空间**\n",
    "\n",
    "现在我们可以将模板直接放在polls/templates中（而不是创建另一个polls子目录），但实际上这是一个坏主意。 \n",
    "\n",
    "Django会选择找到名称匹配的第一个模板，如果在不同的应用程序中有同名的模板，Django将无法区分它们。我们需要能够将Django指向正确的位置，并且最简单的方法是通过命名它们来确保它是正确的。也就是说，将这些模板放在另一个命名为应用程序名称的目录中。\n",
    "\n",
    "最佳的组织方式是：\n",
    "- 在`polls`应用程序包目录下创建一个templates目录；\n",
    "- 在templates目录下创建一个与app名称相同的子目录，例如本例为`polls`；\n",
    "- 将为`polls`(app)创建的模板都放在这个子目录中，而不是直接放在`templates`目录下面；\n",
    "- 这样就可以直接使用“polls/index.html”引用该模板。"
   ]
  },
  {
   "cell_type": "markdown",
   "metadata": {},
   "source": [
    "**应用程序polls的目录结构如下：**\n",
    "```\n",
    "I:\\FanGitHub\\mydjpro\\polls> m\n",
    "│  admin.py\n",
    "│  apps.py\n",
    "│  models.py\n",
    "│  tests.py\n",
    "│  urls.py\n",
    "│  views.py\n",
    "│  __init__.py\n",
    "│\n",
    "│\n",
    "├─templates  #为app创建一个templates目录，不要将模板直接放在这个目录里。\n",
    "│  └─polls   #创建一个与app名称同名的子目录polls，模板放在这个子目录里。\n",
    "\n",
    "```\n"
   ]
  },
  {
   "cell_type": "markdown",
   "metadata": {},
   "source": [
    "将下面的代码放入那个模板文件:\n",
    "\n",
    "**polls/templates/polls/index.html**\n",
    "```\n",
    "{% if latest_question_list %}\n",
    "    <ul>\n",
    "    {% for question in latest_question_list %}\n",
    "        <li><a href=\"/polls/{{ question.id }}/\">{{ question.question_text }}</a></li>\n",
    "    {% endfor %}\n",
    "    </ul>\n",
    "{% else %}\n",
    "    <p>No polls are available.</p>\n",
    "{% endif %}\n",
    "```"
   ]
  },
  {
   "cell_type": "markdown",
   "metadata": {},
   "source": [
    "现在让我们更新我们的polls / views.py中的索引视图以使用模板："
   ]
  },
  {
   "cell_type": "markdown",
   "metadata": {},
   "source": [
    "**polls/views.py**\n",
    "```\n",
    "from django.http import HttpResponse\n",
    "from django.template import loader\n",
    "\n",
    "from .models import Question\n",
    "\n",
    "\n",
    "def index(request):\n",
    "    latest_question_list = Question.objects.order_by('-pub_date')[:5]\n",
    "    template = loader.get_template('polls/index.html')\n",
    "    context = {\n",
    "        'latest_question_list': latest_question_list,\n",
    "    }\n",
    "    return HttpResponse(template.render(context, request))\n",
    "```"
   ]
  },
  {
   "cell_type": "markdown",
   "metadata": {},
   "source": [
    "该代码加载名为polls / index.html的模板并将其传递给context。 context是一个将模板变量名称映射到Python对象的字典。\n",
    "\n",
    "通过将浏览器指向“/ polls /”来加载页面，并且您应该看到一个包含教程2中“What's up”问题的项目符号列表。该链接指向问题的详细信息页面。"
   ]
  },
  {
   "cell_type": "markdown",
   "metadata": {},
   "source": [
    "# 捷径：render()\n",
    "\n",
    "render() 是一个非常普遍的习惯用法，它加载模板，填充context并返回带渲染模板结果的HttpResponse对象。Django提供了一个捷径。 以下是完整的index（）视图，改写了的："
   ]
  },
  {
   "cell_type": "markdown",
   "metadata": {},
   "source": [
    "**polls/views.py**\n",
    "```\n",
    "from django.shortcuts import render\n",
    "\n",
    "from .models import Question\n",
    "\n",
    "\n",
    "def index(request):\n",
    "    latest_question_list = Question.objects.order_by('-pub_date')[:5]\n",
    "    context = {'latest_question_list': latest_question_list}\n",
    "    return render(request, 'polls/index.html', context)\n",
    "```"
   ]
  },
  {
   "cell_type": "markdown",
   "metadata": {},
   "source": [
    "请注意，一旦我们在所有这些视图中完成了此操作，我们就不再需要导入加载器和HttpResponse（如果您仍然有关于 detail, results, and vote的存根方法，则需要保留HttpResponse）。\n",
    "\n",
    "render（）函数将request对象作为第一个参数，将模板名称作为第二个参数，并将字典作为其可选的第三个参数。 它返回给定的带给定contex的已渲染模板的HttpResponse对象。"
   ]
  },
  {
   "cell_type": "markdown",
   "metadata": {},
   "source": [
    "## 引发404错误\n",
    "现在，让我们处理问题详细视图 - 这个页面显示给出的poll的问题文本。下面是这个视图："
   ]
  },
  {
   "cell_type": "markdown",
   "metadata": {},
   "source": [
    "**polls/views.py**\n",
    "\n",
    "```\n",
    "from django.http import Http404\n",
    "from django.shortcuts import render\n",
    "\n",
    "from .models import Question\n",
    "# ...\n",
    "def detail(request, question_id):\n",
    "    try:\n",
    "        question = Question.objects.get(pk=question_id)\n",
    "    except Question.DoesNotExist:\n",
    "        raise Http404(\"Question does not exist\")\n",
    "    return render(request, 'polls/detail.html', {'question': question})\n",
    "```"
   ]
  },
  {
   "cell_type": "markdown",
   "metadata": {},
   "source": [
    "这里的新概念：如果所请求的ID的问题不存在，该视图会引发Http404异常。\n",
    "\n",
    "我们将在稍后讨论可以放入polls / detail.html模板的内容，但如果您想快速获得上述示例的工作方式，则只需包含以下内容的文件："
   ]
  },
  {
   "cell_type": "markdown",
   "metadata": {},
   "source": [
    "**polls/templates/polls/detail.html**\n",
    "\n",
    "`{{ question }}`"
   ]
  },
  {
   "cell_type": "markdown",
   "metadata": {},
   "source": [
    "## 快捷方式：get_object_or_404（）\n",
    "如果对象不存在，那么使用get（）并引发Http404是一个非常常见的习惯用法。 Django提供了一个捷径。 这是detail（）视图，重写了的："
   ]
  },
  {
   "cell_type": "markdown",
   "metadata": {},
   "source": [
    "**polls/views.py**\n",
    "```\n",
    "from django.shortcuts import get_object_or_404, render\n",
    "\n",
    "from .models import Question\n",
    "# ...\n",
    "def detail(request, question_id):\n",
    "    question = get_object_or_404(Question, pk=question_id)\n",
    "    return render(request, 'polls/detail.html', {'question': question})\n",
    "```"
   ]
  },
  {
   "cell_type": "markdown",
   "metadata": {},
   "source": [
    "get_object_or_404（）函数将Django模型作为其第一个参数和任意数量的关键字参数，并将其传递给模型管理器的get（）函数。 如果对象不存在，它会引发Http404。"
   ]
  },
  {
   "cell_type": "markdown",
   "metadata": {},
   "source": [
    "**哲学**\n",
    "\n",
    "为什么我们使用助手函数get_object_or_404（）而不是在更高级别自动捕获ObjectDoesNotExist异常，或让模型API引发Http404而不是ObjectDoesNotExist？\n",
    "\n",
    "因为那会将模型图层耦合到视图图层。 Django最重要的设计目标之一是保持松耦合。 在django.shortcuts模块中引入了一些受控耦合。"
   ]
  },
  {
   "cell_type": "markdown",
   "metadata": {},
   "source": [
    "还有一个get_list_or_404（）函数，它的作用与get_object_or_404（）一样 - 除了使用filter（）而不是get（）。 如果列表为空，它会引发Http404。"
   ]
  },
  {
   "cell_type": "markdown",
   "metadata": {},
   "source": [
    "# 使用模板系统\n",
    "\n",
    "回到`polls`应用程序的`detail（）`视图。鉴于`context`变量问题，以下是`polls / detail.html`模板的外观："
   ]
  },
  {
   "cell_type": "markdown",
   "metadata": {},
   "source": [
    "**polls/templates/polls/detail.html**\n",
    "\n",
    "```\n",
    "<h1>{{ question.question_text }}</h1>\n",
    "<ul>\n",
    "{% for choice in question.choice_set.all %}\n",
    "    <li>{{ choice.choice_text }}</li>\n",
    "{% endfor %}\n",
    "</ul>\n",
    "```"
   ]
  },
  {
   "cell_type": "markdown",
   "metadata": {},
   "source": [
    "模板系统使用点查找语法来访问变量属性。 在{{question.question_text}}的例子中，首先Django在question对象上进行字典查找。如果失败了，它会尝试一个属性查找（在这种情况下起作用）。如果属性查找失败，它会尝试列表索引查找。\n",
    "\n",
    "方法调用发生在{％for％}循环中：question.choice_set.all被解释为Python代码question.choice_set.all（），它返回Choice对象的迭代并适用于{％for％ } 标签。\n",
    "\n",
    "有关模板的更多信息，请参阅[template guide](https://docs.djangoproject.com/en/2.0/topics/templates/)。"
   ]
  },
  {
   "cell_type": "markdown",
   "metadata": {},
   "source": [
    "# 删除模板中的硬编码URL\n",
    "\n",
    "请记住，当我们在polls / index.html模板中编写问题的链接时，链接部分硬编码如下：\n",
    "\n",
    "```\n",
    "<li><a href=\"/polls/{{ question.id }}/\">{{ question.question_text }}</a></li>\n",
    "```\n"
   ]
  },
  {
   "cell_type": "markdown",
   "metadata": {},
   "source": [
    "这种硬编码，紧密耦合的方法存在的问题是，在具有大量模板的项目上更改网址变得非常具有挑战性。 但是，由于您在polls.urls模块的path（）函数中定义了命名参数，因此可以使用{％url％}模板标记删除对URL配置中定义的特定URL路径的依赖：\n",
    "\n",
    "`<li><a href=\"{% url 'detail' question.id %}\">{{ question.question_text }}</a></li>`"
   ]
  },
  {
   "cell_type": "markdown",
   "metadata": {},
   "source": [
    "它的工作方式是查找polls.urls模块中指定的URL定义。 您可以在下面定义具体的'detail'的URL名称：\n",
    "\n",
    "```...\n",
    "# the 'name' value as called by the {% url %} template tag\n",
    "path('<int:question_id>/', views.detail, name='detail'),\n",
    "...\n",
    "```"
   ]
  },
  {
   "cell_type": "markdown",
   "metadata": {},
   "source": [
    "如果您想要将polls detail视图的URL更改为其他内容，可能是polls / specifics / 12 /而不是在模板（或templates）中进行，您可以在polls / urls.py中更改：\n",
    "\n",
    "```\n",
    "...\n",
    "# added the word 'specifics'\n",
    "path('specifics/<int:question_id>/', views.detail, name='detail'),\n",
    "...\n",
    "```"
   ]
  },
  {
   "cell_type": "markdown",
   "metadata": {},
   "source": [
    "# 命名空间URL名称\n",
    "\n",
    "该教程的项目只有一个应用程序，`polls`。 在真正的Django项目中，可能会有五个，十个，二十个应用程序或更多。 Django如何区分它们之间的URL名称？ 例如，`polls`应用程序有一个`detail`视图，并且同一个项目上的应用程序可能还会用于博客。如何让Django在使用{％url％}模板标签时知道要为网址创建哪个应用视图？\n",
    "\n",
    "答案是将命名空间添加到您的URLconf中。 在polls / urls.py文件中，继续并添加一个app_name来设置应用程序名称空间："
   ]
  },
  {
   "cell_type": "markdown",
   "metadata": {},
   "source": [
    "**polls/urls.py**\n",
    "```\n",
    "from django.urls import path\n",
    "\n",
    "from . import views\n",
    "\n",
    "app_name = 'polls'\n",
    "urlpatterns = [\n",
    "    path('', views.index, name='index'),\n",
    "    path('<int:question_id>/', views.detail, name='detail'),\n",
    "    path('<int:question_id>/results/', views.results, name='results'),\n",
    "    path('<int:question_id>/vote/', views.vote, name='vote'),\n",
    "]\n",
    "```"
   ]
  },
  {
   "cell_type": "markdown",
   "metadata": {},
   "source": [
    "现在从以下位置更改您的polls / index.html模板：\n",
    "\n",
    "**polls/templates/polls/index.html**\n",
    "\n",
    "```\n",
    "<li><a href=\"{% url 'detail' question.id %}\">{{ question.question_text }}</a></li>\n",
    "```"
   ]
  },
  {
   "cell_type": "markdown",
   "metadata": {},
   "source": [
    "指向命名空间的detail视图：\n",
    "\n",
    "**polls/templates/polls/index.html**\n",
    "```\n",
    "<li><a href=\"{% url 'polls:detail' question.id %}\">{{ question.question_text }}</a></li>\n",
    "```"
   ]
  },
  {
   "cell_type": "markdown",
   "metadata": {},
   "source": [
    "当你习惯于编写视图时，请阅读后续内容，以了解简单表单处理和通用视图。"
   ]
  },
  {
   "cell_type": "markdown",
   "metadata": {},
   "source": []
  }
 ],
 "metadata": {
  "kernelspec": {
   "display_name": "Python 3",
   "language": "python",
   "name": "python3"
  },
  "language_info": {
   "codemirror_mode": {
    "name": "ipython",
    "version": 3
   },
   "file_extension": ".py",
   "mimetype": "text/x-python",
   "name": "python",
   "nbconvert_exporter": "python",
   "pygments_lexer": "ipython3",
   "version": "3.6.4"
  }
 },
 "nbformat": 4,
 "nbformat_minor": 2
}
