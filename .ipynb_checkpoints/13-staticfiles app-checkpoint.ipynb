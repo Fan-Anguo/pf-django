{
 "cells": [
  {
   "cell_type": "markdown",
   "metadata": {},
   "source": [
    "staticfiles app\n",
    "===="
   ]
  },
  {
   "cell_type": "markdown",
   "metadata": {},
   "source": [
    "django.contrib.staticfiles是一个内建的app。它将来自每个应用程序（以及您指定的任何其他位置）的静态文件收集到一个可轻松在生产中提供静态文件服务的位置。"
   ]
  },
  {
   "cell_type": "markdown",
   "metadata": {},
   "source": [
    "# Staticfiles Settings\n",
    "\n",
    "staticfiles主要有以下设置项:\n",
    "\n",
    "- STATIC_ROOT\n",
    "- STATIC_URL\n",
    "- STATICFILES_DIRS\n",
    "- STATICFILES_STORAGE\n",
    "- STATICFILES_FINDERS"
   ]
  },
  {
   "cell_type": "markdown",
   "metadata": {},
   "source": [
    "## STATIC_ROOT\n",
    "\n",
    "默认值：无\n",
    "\n",
    "collectstatic将收集用于部署的静态文件到这个绝对路径的目录(STATIC_ROOT设置的值。)。\n",
    "\n",
    "例如：`“/var/www/example.com/static/”`\n",
    "\n",
    "如果启用了staticfiles contrib应用程序（如在默认项目模板中），则collectstatic管理命令将收集静态文件到此目录中。\n",
    "\n",
    "请参阅管理静态文件的方法以获取有关使用情况的更多详细信息。"
   ]
  },
  {
   "cell_type": "markdown",
   "metadata": {},
   "source": [
    "**警告**\n",
    "\n",
    "这应该是一个初始为空的目标目录，用于将静态文件从其永久位置收集到一个目录中以便于部署; 它不是永久存储静态文件的地方。\n",
    "\n",
    "应该在staticfiles 的 finders 将找到的目录中永久存储静态文件，默认是'static/'，它是应用程序子目录以及包含在STATICFILES_DIRS中的任何目录。"
   ]
  },
  {
   "cell_type": "markdown",
   "metadata": {},
   "source": [
    "## STATIC_URL\n",
    "\n",
    "默认值：无\n",
    "\n",
    "引用位于STATIC_ROOT中的静态文件时使用的URL。\n",
    "\n",
    "例如：`“/ static /” 或 “http://static.example.com/”`\n",
    "\n",
    "如果不是None，则将用作asset definitions（Media类）和staticfiles应用程序的基本路径。\n",
    "\n",
    "如果设置为非空值，它必须以斜杠结尾。\n",
    "\n",
    "可能需要将这些文件配置用于开发服务，并且在生产环境中肯定需要这样做。"
   ]
  },
  {
   "cell_type": "markdown",
   "metadata": {},
   "source": [
    "## STATICFILES_DIRS\n",
    "\n",
    "默认值：[ ]（空列表）\n",
    "\n",
    "此设置定义了在启用FileSystemFinder查找程序时静态文件应用程序将经过的附加位置，例如， 如果您使用collectstatic或findstatic管理命令或使用静态文件服务视图。\n",
    "\n",
    "这应该被设置为包含完整路径到你的附加文件目录的字符串列表，例如："
   ]
  },
  {
   "cell_type": "markdown",
   "metadata": {},
   "source": [
    "```\n",
    "STATICFILES_DIRS = [\n",
    "    \"/home/special.polls.com/polls/static\",\n",
    "    \"/home/polls.com/polls/static\",\n",
    "    \"/opt/webfiles/common\",\n",
    "]\n",
    "```"
   ]
  },
  {
   "cell_type": "markdown",
   "metadata": {},
   "source": [
    "**注意:**\n",
    "即使在Windows上，这些路径也应使用Unix样式的正斜杠（例如“C：/ Users / user / mysite / extra_static_content”）。 \n",
    "\n",
    "**Prefixes（可选项）**\n",
    "\n",
    "如果你想用其他命名空间来引用其中一个位置的文件，你可以选择提供一个前缀作为（prefix，path）元组，例如：\n",
    "\n",
    "```\n",
    "STATICFILES_DIRS = [\n",
    "    # ...\n",
    "    (\"downloads\", \"/opt/webfiles/stats\"),\n",
    "]\n",
    "```\n",
    "例如，假设您将STATIC_URL设置为'/ static /'，collectstatic管理命令会将“stats”文件收集到STATIC_ROOT的“downloads”子目录中。\n",
    "\n",
    "这将允许您在模板中使用'/static/downloads/polls_20101022.tar.gz'引用本地文件'/opt/webfiles/stats/polls_20101022.tar.gz'，例如：\n",
    "\n",
    "`<a href=\"{% static \"downloads/polls_20101022.tar.gz\" %}\">`"
   ]
  },
  {
   "cell_type": "markdown",
   "metadata": {},
   "source": [
    "## STATICFILES_STORAGE\n",
    "\n",
    "默认：'django.contrib.staticfiles.storage.StaticFilesStorage'\n",
    "\n",
    "使用collectstatic管理命令收集静态文件时使用的文件存储引擎。\n",
    "\n",
    "可以在django.contrib.staticfiles.storage.staticfiles_storage找到在此设置中定义的即时可用的存储后端实例。\n",
    "\n",
    "有关示例，请参阅从云服务或CDN提供静态文件。"
   ]
  },
  {
   "cell_type": "markdown",
   "metadata": {},
   "source": [
    "## STATICFILES_FINDERS\n",
    "Default:\n",
    "\n",
    "```\n",
    "[\n",
    "    'django.contrib.staticfiles.finders.FileSystemFinder',\n",
    "    'django.contrib.staticfiles.finders.AppDirectoriesFinder',\n",
    "]\n",
    "```"
   ]
  },
  {
   "cell_type": "markdown",
   "metadata": {},
   "source": [
    "finder的后端列表知道如何在各个位置查找静态文件。\n",
    "\n",
    "默认情况下，将查找存储在STATICFILES_DIRS设置中的文件（使用django.contrib.staticfiles.finders.FileSystemFinder）以及每个应用程序的`static`子目录中（使用django.contrib.staticfiles.finders.AppDirectoriesFinder）。 \n",
    "\n",
    "如果存在多个具有相同名称的文件，则将使用找到的第一个文件。\n",
    "\n",
    "默认情况下，一个finder是禁用的：django.contrib.staticfiles.finders.DefaultStorageFinder。如果将它添加到STATICFILES_FINDERS设置中，它将在DEFAULT_FILE_STORAGE设置定义的默认文件存储中查找静态文件。"
   ]
  },
  {
   "cell_type": "markdown",
   "metadata": {},
   "source": [
    "**注意**\n",
    "\n",
    "使用AppDirectoriesFinder查找程序时，请确保您的应用程序可以通过staticfiles找到。 只需将该应用添加到您网站的INSTALLED_APPS设置即可。\n",
    "\n",
    "静态文件查找器目前被认为是一个私有接口，因此这个接口没有正式的文档。"
   ]
  },
  {
   "cell_type": "markdown",
   "metadata": {},
   "source": [
    "# 管理命令\n",
    "django.contrib.staticfiles公开三个管理命令。"
   ]
  },
  {
   "cell_type": "markdown",
   "metadata": {},
   "source": [
    "## collectstatic\n",
    "`django-admin collectstatic`\n",
    "\n",
    "将静态文件收集到STATIC_ROOT中。\n",
    "\n",
    "重复文件名的默认解析方式与模板解析的工作方式类似：将使用首先在指定位置之一中找到的文件。如果您感到困惑，findstatic命令可以帮助显示找到哪些文件。\n",
    "\n",
    "在后续的collectstatic运行中（如果STATIC_ROOT不为空），仅当文件的修改时间戳大于STATIC_ROOT中文件的时间戳时才复制文件。因此，如果从INSTALLED_APPS中删除应用程序，最好使用`collectstatic --clear`选项来删除过时的静态文件。\n",
    "\n",
    "使用启用的查找器搜索文件。默认值是查找STATICFILES_DIRS中定义的所有位置以及INSTALLED_APPS设置指定的应用程序的`\"static\"`目录中。\n",
    "\n",
    "collectstatic管理命令在每次运行后调用STATICFILES_STORAGE的post_process（）方法，并传递管理命令找到的路径列表。它还接收collectstatic的所有命令行选项。这由CachedStaticFilesStorage默认使用。\n",
    "\n",
    "默认情况下，收集的文件从FILE_UPLOAD_PERMISSIONS获得权限，收集的目录从FILE_UPLOAD_DIRECTORY_PERMISSIONS获得权限。如果您需要这些文件和/或目录的不同权限，则可以对任一静态文件存储类进行子类化，并分别指定file_permissions_mode和/或directory_permissions_mode参数。例如："
   ]
  },
  {
   "cell_type": "markdown",
   "metadata": {},
   "source": [
    "```\n",
    "from django.contrib.staticfiles import storage\n",
    "\n",
    "class MyStaticFilesStorage(storage.StaticFilesStorage):\n",
    "    def __init__(self, *args, **kwargs):\n",
    "        kwargs['file_permissions_mode'] = 0o640\n",
    "        kwargs['directory_permissions_mode'] = 0o760\n",
    "        super().__init__(*args, **kwargs)\n",
    "```"
   ]
  },
  {
   "cell_type": "markdown",
   "metadata": {},
   "source": [
    "然后将STATICFILES_STORAGE设置设置为'path.to.MyStaticFilesStorage'。\n",
    "\n",
    "一些常用的选项是：\n",
    "\n",
    "**`-- noinput, --no-input`**\n",
    "\n",
    "不要提示用户输入任何形式的信息。\n",
    "\n",
    "**`--ignore PATTERN，-i PATTERN`**\n",
    "\n",
    "忽略与此全局样式模式匹配的文件或目录。 多次使用可以忽略更多。\n",
    "\n",
    "**`--dry-run, -n`**\n",
    "\n",
    "除了修改文件系统之外，一切都可以。\n",
    "\n",
    "**`--clear, -c`**\n",
    "在尝试复制或链接原始文件之前清除现有文件。\n",
    "\n",
    "**`--link, -l`**\n",
    "为每个文件创建一个符号链接，而不是复制。\n",
    "\n",
    "**`--no-post-process`**\n",
    "不要调用配置的STATICFILES_STORAGE存储后端的post_process（）方法。\n",
    "\n",
    "**`--no-default-ignore`**\n",
    "不要忽视常见的私有glob风格模式'CVS'，'。*'和'*〜'。\n",
    "\n",
    "有关选项的完整列表，请参阅命令自己的帮助，方法是运行："
   ]
  },
  {
   "cell_type": "markdown",
   "metadata": {},
   "source": [
    "`$ python manage.py collectstatic --help`"
   ]
  },
  {
   "cell_type": "markdown",
   "metadata": {},
   "source": [
    "**自定义忽略的模式列表**\n",
    "\n",
    "默认忽略模式列表 `['CVS'，'。*'，'*〜']` 可以以比每个collectstatic调用时提供`--ignore`命令选项更持久的方式定制。 提供一个自定义的AppConfig类，重写此类的ignore_patterns属性，并用INSTALLED_APPS设置中的类路径替换'django.contrib.staticfiles'：\n",
    "\n",
    "```\n",
    "from django.contrib.staticfiles.apps import StaticFilesConfig\n",
    "\n",
    "class MyStaticFilesConfig(StaticFilesConfig):\n",
    "    ignore_patterns = [...]  # your custom ignore list\n",
    "```"
   ]
  },
  {
   "cell_type": "markdown",
   "metadata": {},
   "source": [
    "## findstatic\n",
    "`django-admin findstatic staticfile [staticfile ...]`\n",
    "\n",
    "使用启用的查找器搜索一个或多个相对路径。\n",
    "\n",
    "例如：\n",
    "\n",
    "```\n",
    "$ python manage.py findstatic css/base.css admin/js/core.js\n",
    "Found 'css/base.css' here:\n",
    "  /home/special.polls.com/core/static/css/base.css\n",
    "  /home/polls.com/core/static/css/base.css\n",
    "Found 'admin/js/core.js' here:\n",
    "  /home/polls.com/src/django/contrib/admin/media/js/core.js\n",
    "  \n",
    "```\n"
   ]
  },
  {
   "cell_type": "markdown",
   "metadata": {},
   "source": [
    "**findstatic --first**\n",
    "\n",
    "By default, all matching locations are found. To only return the first match for each relative path, use the --first option:\n",
    "\n",
    "默认地，所有匹配的位置都被找到。要仅返回每个相关路径的第一个匹配，使用`--first`选项：\n",
    "\n",
    "```\n",
    "$ python manage.py findstatic css/base.css --first\n",
    "Found 'css/base.css' here:\n",
    "  /home/special.polls.com/core/static/css/base.css\n",
    "```"
   ]
  },
  {
   "cell_type": "markdown",
   "metadata": {},
   "source": [
    "这是一个调试助手；它将精确地显示哪个静态文件将被搜集到给出的路径。\n",
    "\n",
    "通过将 `--verbosity` 标志设置为0，可以抑制额外的输出并获取路径名称：\n",
    "\n",
    "```\n",
    "$ python manage.py findstatic css/base.css --verbosity 0\n",
    "/home/special.polls.com/core/static/css/base.css\n",
    "/home/polls.com/core/static/css/base.css\n",
    "```"
   ]
  },
  {
   "cell_type": "markdown",
   "metadata": {},
   "source": [
    "另一方面，通过将 `--verbosity` 标志设置为2，可以获得所有被搜索的目录：\n",
    "\n",
    "```\n",
    "$ python manage.py findstatic css/base.css --verbosity 2\n",
    "Found 'css/base.css' here:\n",
    "  /home/special.polls.com/core/static/css/base.css\n",
    "  /home/polls.com/core/static/css/base.css\n",
    "Looking in the following locations:\n",
    "  /home/special.polls.com/core/static\n",
    "  /home/polls.com/core/static\n",
    "  /some/other/path/static\n",
    "  ```"
   ]
  },
  {
   "cell_type": "markdown",
   "metadata": {},
   "source": [
    "## runserver\n",
    "\n",
    "`django-admin runserver [addrport]`\n",
    "\n",
    "如果安装了staticfiles应用程序，则覆盖核心runserver命令并添加自动提供静态文件。文件服务不通过MIDDLEWARE运行。\n",
    "\n",
    "该命令添加这些选项：\n",
    "\n",
    "**--nostatic**\n",
    "\n",
    "使用 `--nostatic` 选项可以完全禁用staticfiles应用程序提供的静态文件。此选项仅在staticfiles应用程序位于项目的INSTALLED_APPS设置中时可用。\n",
    "\n",
    "用法示例：\n",
    "\n",
    "`django-admin runserver --nostatic`"
   ]
  },
  {
   "cell_type": "markdown",
   "metadata": {},
   "source": [
    "**--insecure**\n",
    "\n",
    "即使DEBUG设置为False，也可以使用`--insecure`选项强制使用静态文件应用程序提供静态文件。 通过使用这个，你承认这样一个事实，即它非常低效，可能不安全。 这只适用于本地开发，绝不应该在生产中使用，并且只有在staticfiles应用程序处于项目的INSTALLED_APPS设置中时才可用。\n",
    "\n",
    "`--insecure`不适用于ManifestStaticFilesStorage或CachedStaticFilesStorage。\n",
    "\n",
    "用法示例：\n",
    "\n",
    "`django-admin runserver --insecure`"
   ]
  },
  {
   "cell_type": "markdown",
   "metadata": {},
   "source": []
  },
  {
   "cell_type": "markdown",
   "metadata": {},
   "source": []
  },
  {
   "cell_type": "markdown",
   "metadata": {},
   "source": []
  },
  {
   "cell_type": "markdown",
   "metadata": {},
   "source": []
  },
  {
   "cell_type": "markdown",
   "metadata": {},
   "source": []
  },
  {
   "cell_type": "markdown",
   "metadata": {},
   "source": []
  }
 ],
 "metadata": {
  "kernelspec": {
   "display_name": "Python 3",
   "language": "python",
   "name": "python3"
  },
  "language_info": {
   "codemirror_mode": {
    "name": "ipython",
    "version": 3
   },
   "file_extension": ".py",
   "mimetype": "text/x-python",
   "name": "python",
   "nbconvert_exporter": "python",
   "pygments_lexer": "ipython3",
   "version": "3.6.4"
  }
 },
 "nbformat": 4,
 "nbformat_minor": 2
}
