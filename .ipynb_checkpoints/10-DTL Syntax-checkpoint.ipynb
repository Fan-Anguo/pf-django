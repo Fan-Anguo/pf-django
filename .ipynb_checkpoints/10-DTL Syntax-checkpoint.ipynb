{
 "cells": [
  {
   "cell_type": "markdown",
   "metadata": {},
   "source": [
    "DTL Syntax\n",
    "===\n",
    "\n",
    "Django Templates Language"
   ]
  },
  {
   "cell_type": "markdown",
   "metadata": {},
   "source": [
    "# 模板\n",
    "\n",
    "模板只是一个文本文件。 它可以生成任何基于文本的格式（HTML，XML，CSV等）。\n",
    "\n",
    "模板包含变量，在模板被评估时被替换为值；标签控制模板的逻辑。\n",
    "\n",
    "下面是一个简单的基本模板。 每个元素将在本文后面解释。\n",
    "\n",
    "```\n",
    "{% extends \"base_generic.html\" %}\n",
    "\n",
    "{% block title %}{{ section.title }}{% endblock %}\n",
    "\n",
    "{% block content %}\n",
    "<h1>{{ section.title }}</h1>\n",
    "\n",
    "{% for story in story_list %}\n",
    "<h2>\n",
    "  <a href=\"{{ story.get_absolute_url }}\">\n",
    "    {{ story.headline|upper }}\n",
    "  </a>\n",
    "</h2>\n",
    "<p>{{ story.tease|truncatewords:\"100\" }}</p>\n",
    "{% endfor %}\n",
    "{% endblock %}\n",
    "```"
   ]
  },
  {
   "cell_type": "markdown",
   "metadata": {},
   "source": [
    "Django的模板语言旨在在功能和易用性之间取得平衡。它旨在让那些习惯于使用HTML的人感到舒适。\n",
    "\n",
    "Django模板只是一个文本文档或使用Django模板语言标记的Python字符串。一些结构被模板引擎识别和解释。主要的是变量和标签。\n",
    "\n",
    "使用context渲染模板。渲染用它们在context中查找的值替换变量，并执行标签。 其他一切都按原样输出。\n",
    "\n",
    "Django模板语言的语法涉及四个构造。"
   ]
  },
  {
   "cell_type": "markdown",
   "metadata": {},
   "source": [
    "# Variables\n",
    "变量被 `{{ 和 }} `包围，看起来就像是这样： {{ variable }}。\n",
    "\n",
    "变量的命名包括任何字母数字以及下划线(\"_\")的组合。点(\".\")也有可能会在变量名中出现，不过它有特殊的含义。最重要的是，变量名称中不能有空格或标点符号。\n",
    "\n",
    "当模版引擎遇到一个变量，它将从上下文context中获取这个变量的值，然后用值替换掉它本身。\n",
    "\n",
    "如下所示：\n",
    "\n",
    "`My first name is {{ first_name }}. My last name is {{ last_name }}.`\n",
    "\n",
    "使用{'first_name'：'John'，'last_name'：'Doe'}的上下文，该模板呈现为：\n",
    "\n",
    "`My first name is John. My last name is Doe.`\n",
    "\n",
    "context一般是在视图函数中指定的字典。"
   ]
  },
  {
   "cell_type": "markdown",
   "metadata": {},
   "source": [
    "当模版系统遇到点(\".\")，它将以“字典查找、属性查找、列表索引查找”这样的顺序来查找值：\n",
    "```\n",
    "{{ my_dict.key }}，字典通过键查找\n",
    "{{ my_object.attribute }}，对象的属性\n",
    "{{ my_list.0 }}，列表通过索引查找\n",
    "```"
   ]
  },
  {
   "cell_type": "markdown",
   "metadata": {},
   "source": [
    "如果一个变量解析为一个可调用对象，模板系统将调用它，而不使用参数，并使用其结果而不是可调用对象。"
   ]
  },
  {
   "cell_type": "markdown",
   "metadata": {},
   "source": [
    "在开始的模板示例中，{{section.title}}将被替换为section对象的title属性。\n",
    "\n",
    "如果您使用不存在的变量，则模板系统将插入string_if_invalid选项的值，该选项默认设置为“'（空字符串）。\n",
    "\n",
    "请注意，模板表达式{{foo.bar}}中的“bar”将被解释为文字字符串，并且不会使用变量“bar”的值（如果存在于模板上下文中）。"
   ]
  },
  {
   "cell_type": "markdown",
   "metadata": {},
   "source": [
    "# Filters\n",
    "\n",
    "可以使用过滤器转换变量的显示结果。\n",
    "\n",
    "过滤器如下所示：{{name | lower}}。这将显示{{name}}变量在通过较低过滤器过滤后的值，该过滤器将文本转换为小写。使用管道（|）应用过滤器。\n",
    "\n",
    "过滤器可以“链接”。一个过滤器的输出应用于下一个过滤器。 {{text | escape | linebreaks}}是转义文本内容的常用方式，然后将换行符转换为`<p>`标签。\n",
    "\n",
    "有些过滤器需要参数。过滤器参数如下所示：{{bio | truncatewords：30}}。这将显示`bio`变量的前30个单词。`{{ my_date|date:\"Y-m-d\" }}`将日期显示为`y-m-d`这样的格式。\n",
    "\n",
    "过滤器参数必须包含空格并放在双引号中; 例如，要使用{{list | join：“，”}}加入包含逗号和空格的列表。"
   ]
  },
  {
   "cell_type": "markdown",
   "metadata": {},
   "source": [
    "## 默认值\n",
    "\n",
    "如果变量为假或空，则使用给定的默认值。否则，使用变量的值。例如：\n",
    "\n",
    "`{{ value|default:\"nothing\" }}`\n",
    "\n",
    "如果value没有提供，或者是空的，将显示“nothing”。"
   ]
  },
  {
   "cell_type": "markdown",
   "metadata": {},
   "source": [
    "## length\n",
    "\n",
    "返回value的长度。主要value是字符串或列表时。例如：\n",
    "\n",
    "`{{ value|length }}`\n",
    "\n",
    "如果value是 ['a', 'b', 'c', 'd'], 将输出4."
   ]
  },
  {
   "cell_type": "markdown",
   "metadata": {},
   "source": [
    "## filesizeformat\n",
    "\n",
    "将该值格式化为“人可读”文件大小（即“13 KB”，“4.1 MB”，“102字节”等）。 例如：\n",
    "\n",
    "`{{ value|filesizeformat }}`\n",
    "\n",
    "如果value `123456789`,将输出 117.7 MB."
   ]
  },
  {
   "cell_type": "markdown",
   "metadata": {},
   "source": [
    "Django提供了大约60个内置模板过滤器，以上只是几个例子。请参见[built-in filter reference](https://docs.djangoproject.com/en/2.0/ref/templates/builtins/#ref-templates-builtins-filters).中的关于内置过滤器的完整列表。\n",
    "\n",
    "你也可以创建你自己的自定义的过滤器模板；参见[Custom template tags and filters](https://docs.djangoproject.com/en/2.0/howto/custom-template-tags/)."
   ]
  },
  {
   "cell_type": "markdown",
   "metadata": {},
   "source": [
    "# Tags\n",
    "\n",
    "标签看起来像这样：{％tag％}。\n",
    "\n",
    "标签比变量更复杂：有些标签在输出中创建文本，有些标签通过执行循环或逻辑进行控制流程，还有一些将外部信息加载到模板中供以后的变量使用。\n",
    "\n",
    "一些标签需要开始和结束标签（即{％tag％} ...标签内容... {％endtag％}）。\n",
    "\n",
    "Django附带大约二十个内置模板标签。您可以在内置标签参考中[built-in tag reference](https://docs.djangoproject.com/en/2.0/ref/templates/builtins/#ref-templates-builtins-tags)阅读所有关于它们的内容。\n",
    "\n",
    "以下是一些更常用的标签："
   ]
  },
  {
   "cell_type": "markdown",
   "metadata": {},
   "source": [
    "## for\n",
    "\n",
    "循环显示数组中的每个项目。 例如，要显示运动员列表中提供的运动员：\n",
    "\n",
    "```\n",
    "<ul>\n",
    "{% for athlete in athlete_list %}\n",
    "    <li>{{ athlete.name }}</li>\n",
    "{% endfor %}\n",
    "</ul>\n",
    "```"
   ]
  },
  {
   "cell_type": "markdown",
   "metadata": {},
   "source": [
    "## if, elif, and else\n",
    "评估一个变量，如果该变量为“true”，则显示该块的内容：\n",
    "\n",
    "```\n",
    "{% if athlete_list %}\n",
    "    Number of athletes: {{ athlete_list|length }}\n",
    "{% elif athlete_in_locker_room_list %}\n",
    "    Athletes should be out of the locker room soon!\n",
    "{% else %}\n",
    "    No athletes.\n",
    "{% endif %}\n",
    "```"
   ]
  },
  {
   "cell_type": "markdown",
   "metadata": {},
   "source": [
    "在上面，如果`athlete_list`不是空的，运动员的数量将由{{athlete_list | length}}变量显示。\n",
    "\n",
    "否则，如果`athlete_in_locker_room_list`不为空，则会显示“Athletes should be out…”消息。 \n",
    "\n",
    "如果两个列表都是空的，则显示“No athletes.”。"
   ]
  },
  {
   "cell_type": "markdown",
   "metadata": {},
   "source": [
    "您也可以在if标记中使用过滤器和各种运算符：\n",
    "```\n",
    "{% if athlete_list|length > 1 %}\n",
    "   Team: {% for athlete in athlete_list %} ... {% endfor %}\n",
    "{% else %}\n",
    "   Athlete: {{ athlete_list.0.name }}\n",
    "{% endif %}\n",
    "```\n",
    "\n",
    "尽管上述示例有效，但请注意，大多数模板过滤器都会返回字符串，因此使用过滤器进行数学比较通常不会像您期望的那样正常工作。 长度是一个例外。"
   ]
  },
  {
   "cell_type": "markdown",
   "metadata": {},
   "source": [
    "## block and extends\n",
    "设置模板继承（见下文），这是减少模板中“样板”的强大方法。\n",
    "\n",
    "模板继承[template inheritance](https://docs.djangoproject.com/en/2.0/ref/templates/language/#id1)"
   ]
  },
  {
   "cell_type": "markdown",
   "metadata": {},
   "source": [
    "# Template inheritance\n",
    "\n",
    "Django模板引擎中最强大，也是最复杂的部分是模板继承。 模板继承允许您构建一个基本“骨架”模板，其中包含您网站的所有常见元素，并定义子模板可以覆盖的块。\n",
    "\n",
    "从一个例子开始，理解模板继承是最容易的："
   ]
  },
  {
   "cell_type": "markdown",
   "metadata": {},
   "source": [
    "```\n",
    "<!DOCTYPE html>\n",
    "<html lang=\"en\">\n",
    "<head>\n",
    "    <link rel=\"stylesheet\" href=\"style.css\" />\n",
    "    <title>{% block title %}My amazing site{% endblock %}</title>\n",
    "</head>\n",
    "\n",
    "<body>\n",
    "    <div id=\"sidebar\">\n",
    "        {% block sidebar %}\n",
    "        <ul>\n",
    "            <li><a href=\"/\">Home</a></li>\n",
    "            <li><a href=\"/blog/\">Blog</a></li>\n",
    "        </ul>\n",
    "        {% endblock %}\n",
    "    </div>\n",
    "\n",
    "    <div id=\"content\">\n",
    "        {% block content %}{% endblock %}\n",
    "    </div>\n",
    "</body>\n",
    "</html>\n",
    "```"
   ]
  },
  {
   "cell_type": "markdown",
   "metadata": {},
   "source": [
    "我们将这个模板称为base.html，它定义了一个简单的HTML骨架文档，您可以将它用于简单的两列页面。这是将用“子”模板的来填充内容的空白块。\n",
    "\n",
    "在这个例子中，块标签定义了三个可以填充子模板的块。所有块标签的作用是告诉模板引擎一个子模板可以覆盖模板的哪些部分。\n",
    "\n",
    "子模板可能如下所示："
   ]
  },
  {
   "cell_type": "markdown",
   "metadata": {},
   "source": [
    "```\n",
    "{% extends \"base.html\" %}\n",
    "\n",
    "{% block title %}My amazing blog{% endblock %}\n",
    "\n",
    "{% block content %}\n",
    "{% for entry in blog_entries %}\n",
    "    <h2>{{ entry.title }}</h2>\n",
    "    <p>{{ entry.body }}</p>\n",
    "{% endfor %}\n",
    "{% endblock %}\n",
    "```\n",
    "\n",
    "** 在父模板中申明了html的头部信息，一般就不需要在子模板中再申明这些重复的内容。**\n",
    "\n",
    "** 在子模板中定义需要重新定义的块内容即可。**"
   ]
  },
  {
   "cell_type": "markdown",
   "metadata": {},
   "source": [
    "extends 标签是这里的关键。 它告诉模板引擎该模板“extends”了另一个模板。当模板系统评估此模板时，首先找到父模板 - 在本例中为“base.html”。\n",
    "\n",
    "此时，模板引擎会注意到base.html中的三个块标签，并将这些块替换为子模板的内容。根据blog_entries的值，输出可能如下所示："
   ]
  },
  {
   "cell_type": "markdown",
   "metadata": {},
   "source": [
    "```\n",
    "<!DOCTYPE html>\n",
    "<html lang=\"en\">\n",
    "<head>\n",
    "    <link rel=\"stylesheet\" href=\"style.css\" />\n",
    "    <title>My amazing blog</title>\n",
    "</head>\n",
    "\n",
    "<body>\n",
    "    <div id=\"sidebar\">\n",
    "        <ul>\n",
    "            <li><a href=\"/\">Home</a></li>\n",
    "            <li><a href=\"/blog/\">Blog</a></li>\n",
    "        </ul>\n",
    "    </div>\n",
    "\n",
    "    <div id=\"content\">\n",
    "        <h2>Entry one</h2>\n",
    "        <p>This is my first entry.</p>\n",
    "\n",
    "        <h2>Entry two</h2>\n",
    "        <p>This is my second entry.</p>\n",
    "    </div>\n",
    "</body>\n",
    "</html>\n",
    "```"
   ]
  },
  {
   "cell_type": "markdown",
   "metadata": {},
   "source": [
    "请注意，由于子模板未定义边栏模块，因此将使用父模板的值。**父模板中{％block％}标记中的内容始终用作后备。**\n",
    "\n",
    "您可以根据需要使用尽可能多的继承级别。使用继承的一种常见方式是以下三层方法：\n",
    "\n",
    "> 创建一个base.html模板，该模板包含您网站的主要外观。\n",
    "\n",
    "> 为您网站的每个“部分”创建一个base_SECTIONNAME.html模板。 例如，base_news.html，base_sports.html。 这些模板全部扩展base.html并包含特定部分的样式/设计。\n",
    "\n",
    "> 为每种类型的页面创建单独的模板，例如新闻文章或博客条目。 这些模板扩展了适当的部分模板。\n",
    "\n",
    "此方法可最大限度地重复使用代码，并可轻松将项目添加到共享内容区域，例如部分范围的导航。"
   ]
  },
  {
   "cell_type": "markdown",
   "metadata": {},
   "source": [
    "这里有一些使用继承的技巧：\n",
    "\n",
    "> 如果您在模板中使用{％extends％}，则它必须是该模板中的第一个模板标记。否则，模板继承将不起作用。\n",
    "\n",
    "> 父模板中的{％block％}标记越多越好。请记住，子模板不必定义所有父块，因此您可以在多个块中填写合理的默认值，然后仅定义稍后需要的默认值。最好有更多的钩子而不是更少的钩子。\n",
    "\n",
    "> 如果您发现自己在多个模板中复制了内容，则可能意味着您应该将该内容移至父模板中的{％block％}。\n",
    "\n",
    "> 如果您需要从父模板获取块的内容，则{{block.super}}变量将执行该操作。如果你想添加父块的内容而不是完全覆盖父块的内容，这很有用。使用{{block.super}}插入的数据不会自动转义（请参阅下一节），因为它已经在父模板中被转义（如有必要）。\n",
    "\n",
    "> 使用模板标签作为语法在{％block％}之外创建的变量不能在块内使用。例如，该模板不会呈现任何内容："
   ]
  },
  {
   "cell_type": "markdown",
   "metadata": {},
   "source": [
    "```\n",
    "{% trans \"Title\" as title %}\n",
    "{% block content %}{{ title }}{% endblock %}\n",
    "```"
   ]
  },
  {
   "cell_type": "markdown",
   "metadata": {},
   "source": [
    "为了增加可读性，您可以选择为您的{％endblock％}标签指定一个名称。 例如："
   ]
  },
  {
   "cell_type": "markdown",
   "metadata": {},
   "source": [
    "```]\n",
    "{% block content %}\n",
    "...\n",
    "{% endblock content %}\n",
    "```"
   ]
  },
  {
   "cell_type": "markdown",
   "metadata": {},
   "source": [
    "在较大的模板中，此技术可帮助您查看哪些{％block％}标签正在关闭。\n",
    "\n",
    "最后，请注意，您无法在同一个模板中定义多个具有相同名称的块标记。 这种限制的存在是因为块标签在“两个”方向上工作。 也就是说，块标签不仅提供了一个要填充的洞 - 它还定义填充父项中的洞的内容。 如果模板中有两个相似命名的块标记，则该模板的父级不知道要使用哪个块的内容。"
   ]
  },
  {
   "cell_type": "markdown",
   "metadata": {},
   "source": []
  },
  {
   "cell_type": "markdown",
   "metadata": {},
   "source": [
    "详细信息可以参阅:\n",
    "\n",
    "[A reference of built-in tags](https://docs.djangoproject.com/en/2.0/ref/templates/builtins/#ref-templates-builtins-tags) \n",
    "\n",
    "[instruction for writing custom tags.](https://docs.djangoproject.com/en/2.0/howto/custom-template-tags/#howto-writing-custom-template-tags)"
   ]
  },
  {
   "cell_type": "markdown",
   "metadata": {},
   "source": [
    "## Comments\n",
    "\n",
    "要在模板中注释部分行，请使用注释语法：{＃＃}。\n",
    "\n",
    "例如，这个模板会呈现为'hello'：\n",
    "\n",
    "`{# greeting #}hello`\n",
    "\n",
    "'greeting'被注释掉，不会呈现出来。\n",
    "\n",
    "**多行注释：**\n",
    "\n",
    "在 {% comment %} and {% endcomment %}之间的代码会作为注释被忽略掉。\n",
    "\n",
    "在开始标签中可以插入一个说明，这在说明注释掉这段代码原因时非常有用。\n",
    "\n",
    "```\n",
    "Rendered text with {{ pub_date|date:\"c\" }}</p>\n",
    "{% comment \"Optional note\" %}\n",
    "    <p>Commented out text with {{ create_date|date:\"c\" }}</p>\n",
    "{% endcomment %}\n",
    "```\n",
    "Comments标记不能嵌套使用。\n",
    "\n",
    "[{% comment %} tag](https://docs.djangoproject.com/en/2.0/ref/templates/builtins/#std:templatetag-comment) 提供多行注释方法说明。"
   ]
  },
  {
   "cell_type": "markdown",
   "metadata": {},
   "source": [
    "# Components\n",
    "组件，这是Django模板语言的API概述。有关详细信息，请参阅[API reference.](https://docs.djangoproject.com/en/2.0/ref/templates/api/)."
   ]
  },
  {
   "cell_type": "markdown",
   "metadata": {},
   "source": [
    "## Engine\n",
    "\n",
    "Engine, 引擎\n",
    "\n",
    "django.template.Engine封装了Django模板系统的一个实例。直接实例化引擎的主要原因是在Django项目之外使用Django模板语言。\n",
    "\n",
    "django.template.backends.django.DjangoTemplates是一个简单的包装器，它将django.template.Engine改为Django的模板后端API。"
   ]
  },
  {
   "cell_type": "markdown",
   "metadata": {},
   "source": [
    "## Template\n",
    "\n",
    "Template, 模板\n",
    "\n",
    "django.template.Template代表一个已编译的模板。模板通过Engine.get_template（）或Engine.from_string（）获得。\n",
    "\n",
    "同样，django.template.backends.django.Template是一个很薄的包装器，它将django.template.Template调整为通用模板API。"
   ]
  },
  {
   "cell_type": "markdown",
   "metadata": {},
   "source": [
    "## Context\n",
    "\n",
    "Context, 上下文\n",
    "\n",
    "除了Context数据之外，django.template.Context还包含一些元数据。它传递给Template.render（）以渲染模板。\n",
    "\n",
    "django.template.RequestContext是Context的一个子类，它存储当前的HttpRequest并运行模板Context处理器。\n",
    "\n",
    "通用的API没有同等的概念。Context数据以明文形式传递，并且当前的HttpRequest根据需要分开传递。"
   ]
  },
  {
   "cell_type": "markdown",
   "metadata": {},
   "source": [
    "## Loaders\n",
    "\n",
    "Loaders, 加载器\n",
    "\n",
    "模板加载器负责定位模板，加载模板并返回模板对象。\n",
    "\n",
    "Django提供了几个内置模板加载器并支持自定义模板加载器。"
   ]
  },
  {
   "cell_type": "markdown",
   "metadata": {},
   "source": [
    "## Context processors\n",
    "\n",
    "Context processors, 上下文处理器\n",
    "\n",
    "上下文处理器是接收当前HttpRequest作为参数并返回要添加到渲染上下文的数据字典的函数。\n",
    "\n",
    "它们的主要用途是将所有模板共享的常见数据添加到上下文中，而不必在每个视图中重复代码。\n",
    "\n",
    "Django提供了许多内置的上下文处理器。实现自定义上下文处理器与定义函数一样简单。"
   ]
  },
  {
   "cell_type": "markdown",
   "metadata": {},
   "source": []
  },
  {
   "cell_type": "markdown",
   "metadata": {},
   "source": []
  },
  {
   "cell_type": "markdown",
   "metadata": {},
   "source": []
  },
  {
   "cell_type": "markdown",
   "metadata": {},
   "source": []
  },
  {
   "cell_type": "markdown",
   "metadata": {},
   "source": []
  }
 ],
 "metadata": {
  "kernelspec": {
   "display_name": "Python 3",
   "language": "python",
   "name": "python3"
  },
  "language_info": {
   "codemirror_mode": {
    "name": "ipython",
    "version": 3
   },
   "file_extension": ".py",
   "mimetype": "text/x-python",
   "name": "python",
   "nbconvert_exporter": "python",
   "pygments_lexer": "ipython3",
   "version": "3.6.4"
  }
 },
 "nbformat": 4,
 "nbformat_minor": 2
}
