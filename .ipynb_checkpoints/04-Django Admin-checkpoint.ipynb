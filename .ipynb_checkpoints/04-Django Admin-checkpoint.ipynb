{
 "cells": [
  {
   "cell_type": "markdown",
   "metadata": {},
   "source": [
    "Introduction th Django Admin\n",
    "===="
   ]
  },
  {
   "cell_type": "markdown",
   "metadata": {},
   "source": [
    "**Django的网站管理哲学**\n",
    "\n",
    "为员工或客户生成管理网站以添加，更改和删除内容是一项乏味冗长的工作，无需太多创造性。因此，Django完全自动地为模型创建管理界面。\n",
    "\n",
    "Django是在新闻编辑室编写的，在“内容发布者”和“公共”网站之间有着非常明确的分离。网站管理员使用该系统添加新闻报道，事件，体育比分等，并且该内容显示在公共站点上。Django解决了为站点管理员创建统一界面以编辑内容的问题。\n",
    "\n",
    "管理的功能不打算被网站访问者使用。它是给管理员使用的。"
   ]
  },
  {
   "cell_type": "markdown",
   "metadata": {},
   "source": [
    "# 创建一个管理员用户\n",
    "\n",
    "首先，我们需要创建一个可以登录管理网站的超级用户。运行以下命令：\n",
    "\n",
    "`$ python manage.py createsuperuser`\n",
    "\n",
    "输入你想要的用户名并按回车。\n",
    "\n",
    "`Username：admin`\n",
    "\n",
    "您将被提示输入您想要的电子邮件地址：\n",
    "\n",
    "`Email address：admin@example.com`\n",
    "\n",
    "最后一步是输入您的密码。 您将被要求输入两次密码，第二次作为第一次确认。\n",
    "\n",
    "```\n",
    "Password：**********\n",
    "Password（again）：*********\n",
    "```\n",
    "超级用户创建成功。"
   ]
  },
  {
   "cell_type": "markdown",
   "metadata": {},
   "source": [
    "# 启动开发服务器\n",
    "Django管理站点默认是激活的。 让我们开始开发服务器并探索它。\n",
    "\n",
    "如果服务器未运行，则启动它如下所示：\n",
    "\n",
    "`$ python manage.py runserver`\n",
    "\n",
    "现在，打开Web浏览器并转至本地域的“/ admin /” - 例如http://127.0.0.1:8000/admin ， 您应该看到管理员的登录屏幕："
   ]
  },
  {
   "cell_type": "markdown",
   "metadata": {},
   "source": [
    "<img src = \"https://github.com/Fan-Anguo/Fan-Img-to-Md/raw/master/Django%20Admin01.png\" width = 400px>"
   ]
  },
  {
   "cell_type": "markdown",
   "metadata": {},
   "source": [
    "由于默认情况下启用了翻译，因此根据您的浏览器设置以及Django是否具有该语言的翻译，登录屏幕可能会以您自己的语言显示。"
   ]
  },
  {
   "cell_type": "markdown",
   "metadata": {},
   "source": [
    "# 进入管理网站\n",
    "现在，尝试使用您在上一步中创建的超级用户帐户登录。应该看到Django管理索引页面："
   ]
  },
  {
   "cell_type": "markdown",
   "metadata": {},
   "source": [
    "<img src = \"https://github.com/Fan-Anguo/Fan-Img-to-Md/raw/master/Django%20Admin02.png\" width = 600px>"
   ]
  },
  {
   "cell_type": "markdown",
   "metadata": {},
   "source": [
    "您应该看到几种可编辑的内容：Groups 和 Users。 它们是由Django发布的认证框架`django.contrib.auth`提供的。"
   ]
  },
  {
   "cell_type": "markdown",
   "metadata": {},
   "source": [
    "# 修改admin,使管理员接收`polls`应用程序\n",
    "\n",
    "在管理索引页面上没有看到`polls`应用程序。\n",
    "\n",
    "需做一件事：我们需要告诉admin，Question对象有一个 admin 界面。打开`polls / admin.py`文件，并编辑它看起来像这样："
   ]
  },
  {
   "cell_type": "markdown",
   "metadata": {},
   "source": [
    "**polls/admin.py**\n",
    "```\n",
    "from django.contrib import admin\n",
    "\n",
    "from .models import Question\n",
    "\n",
    "admin.site.register(Question)\n",
    "```\n",
    "\n",
    "**在app的admin.py文件中，注册你的模块类即可在admin界面管理你的对象。**"
   ]
  },
  {
   "cell_type": "markdown",
   "metadata": {},
   "source": [
    "# 探索自由的管理功能\n",
    "\n",
    "现在我们已经注册了`Question`类，Django知道它应该显示在管理的索引页面上："
   ]
  },
  {
   "cell_type": "markdown",
   "metadata": {},
   "source": [
    "<img src = \"https://github.com/Fan-Anguo/Fan-Img-to-Md/raw/master/Django%20Admin03t.png\" width = 600px>"
   ]
  },
  {
   "cell_type": "markdown",
   "metadata": {},
   "source": [
    "点击“Questions”。 \n",
    "\n",
    "现在你在`Qusetins` 的 “Select question to change”页面。此页面显示数据库中的所有问题，并让您选择一个来修改它。我们之前创建的问题是“What's up？”："
   ]
  },
  {
   "cell_type": "markdown",
   "metadata": {},
   "source": [
    "<img src = \"https://github.com/Fan-Anguo/Fan-Img-to-Md/raw/master/Django%20Admin04.png\" width = 600px>"
   ]
  },
  {
   "cell_type": "markdown",
   "metadata": {},
   "source": [
    "**需要注意的事项：**\n",
    "\n",
    "- 表单是从Question模型自动生成的。\n",
    "- 不同的模型字段类型（DateTimeField，CharField）对应于相应的HTML输入小部件。 每种类型的领域都知道如何在Django管理中显示自己。\n",
    "- 每个DateTimeField都可以获得免费的JavaScript快捷方式。Date获取“Today”快捷键和日历弹出窗口，时间获取“Now”快捷方式以及列出常用时间的便捷弹出窗口。"
   ]
  },
  {
   "cell_type": "markdown",
   "metadata": {},
   "source": [
    "**页面的底部你几个选项：**\n",
    "\n",
    "- SAVE - 保存更改并返回到此类型对象的更改列表页面。\n",
    "- Save and condinue editing - 保存更改并重新加载此对象的管理页面。\n",
    "- Save and add another - 保存更改并为此类型的对象加载一个新的空白表单。\n",
    "- Delete - 显示删除确认页面。"
   ]
  },
  {
   "cell_type": "markdown",
   "metadata": {},
   "source": [
    "如果“Date published”的值与您在教程1中创建问题的时间不匹配，则可能意味着您忘记为TIME_ZONE设置正确的值。\n",
    "\n",
    "更改它，重新加载页面并检查是否显示正确的值。点击“Today” 和 “Now”快捷键，更改“Date published”。 然后点击“Save and continue editing”，然后点击右上角的“History”。您将看到一个页面，列出通过Django管理员对此对象所做的所有更改，以及进行更改的人员的时间戳和用户名："
   ]
  },
  {
   "cell_type": "markdown",
   "metadata": {},
   "source": [
    "<img src = \"https://github.com/Fan-Anguo/Fan-Img-to-Md/raw/master/Django%20Admin05.png\" width = 600px>"
   ]
  },
  {
   "cell_type": "markdown",
   "metadata": {},
   "source": [
    "已经熟悉了模型API，并熟悉了管理网站，下一步将讨论如何向`polls`应用添加更多视图。"
   ]
  }
 ],
 "metadata": {
  "kernelspec": {
   "display_name": "Python 3",
   "language": "python",
   "name": "python3"
  },
  "language_info": {
   "codemirror_mode": {
    "name": "ipython",
    "version": 3
   },
   "file_extension": ".py",
   "mimetype": "text/x-python",
   "name": "python",
   "nbconvert_exporter": "python",
   "pygments_lexer": "ipython3",
   "version": "3.6.4"
  }
 },
 "nbformat": 4,
 "nbformat_minor": 2
}
