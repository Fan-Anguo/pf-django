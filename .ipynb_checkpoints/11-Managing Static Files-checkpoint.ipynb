{
 "cells": [
  {
   "cell_type": "markdown",
   "metadata": {},
   "source": [
    "Managing Static Files\n",
    "===="
   ]
  },
  {
   "cell_type": "markdown",
   "metadata": {},
   "source": [
    "网站通常需要提供其他文件，如图像，JavaScript或CSS。 在Django中，我们将这些文件称为“静态文件”。\n",
    "\n",
    "Django提供了django.contrib.staticfiles来帮助管理这些静态文件。"
   ]
  },
  {
   "cell_type": "markdown",
   "metadata": {},
   "source": [
    "# 静态文件的组织\n",
    "\n",
    "静态文件有用于某个app的，有用于整个网站的，有css、js、 图片等格式文件，为了便于组织、管理、查找这些文件，避免各个app中同名静态文件引用等出现问题，在生产中，建议如下组织管理静态文件：\n",
    "\n",
    "- 在项目的根目录下创建`static`目录，\n",
    "> 该目录下创建`css`, `js`, `images`等子目录，存放用于整个站点通用的各类静态文件；\n",
    "\n",
    "- 在app下创建`static`目录，\n",
    "> 在该目录下创建一个与app同名的子目录；\n",
    ">> 在app子目录下创建`css`, `js`, `images`等子目录，分别存放用于该app的各类静态文件。\n",
    "\n",
    "在本示例中，创建了pyforest项目，创建了一个名为`blog`的app，用于存放静态文件的目录结构如下："
   ]
  },
  {
   "cell_type": "markdown",
   "metadata": {},
   "source": [
    "```\n",
    "I: pyforest_root  #这是创建项目时生成的根目录\n",
    "│  db.sqlite3\n",
    "│  manage.py\n",
    "│\n",
    "├─blog   # app目录\n",
    "│  │  admin.py\n",
    "│  │  apps.py\n",
    "│  │  models.py\n",
    "│  │  tests.py\n",
    "│  │  urls.py\n",
    "│  │  views.py\n",
    "│  │  __init__.py\n",
    "│  │\n",
    "│  ├─static  #用于存放app使用的静态文件\n",
    "│  │  └─blog #为了避免不同app同名静态文件引用错误，创建一个与app同名的子目录\n",
    "│  │      ├─css  #存放app的css文件\n",
    "│  │      │      bootstrap-theme.css\n",
    "│  │      │      bootstrap-theme.min.css\n",
    "│  │      │      style.css\n",
    "│  │      │\n",
    "│  │      ├─images  #存放app使用的图像文件\n",
    "│  │      │      bg.jpg\n",
    "│  │      │      sky.png\n",
    "│  │      │\n",
    "│  │      └─js #存放app使用的js文件\n",
    "│  │              bootstrap.js\n",
    "│  │              bootstrap.min.js\n",
    "│  │              npm.js\n",
    "│  │\n",
    "│  ├─templates\n",
    "│  │  └─blog\n",
    "│  │          base.html\n",
    "│  │          bottnav.html\n",
    "│  │          pyworld.html\n",
    "│  │          staticfiles.html\n",
    "│\n",
    "└─pyforest  #创建项目时建立的项目包目录\n",
    "    │  settings.py\n",
    "    │  urls.py\n",
    "    │  views00.py\n",
    "    │  wsgi.py\n",
    "    │  __init__.py\n",
    "    │\n",
    "    ├─static #存放整个项目通用的静态文件\n",
    "    │  ├─css #存放项目通用的css文件\n",
    "    │  │      bootstrap-grid.css\n",
    "    │  │      bootstrap-grid.min.css\n",
    "    │  │      style.css\n",
    "    │  │\n",
    "    │  ├─images #存放项目通用的images文件\n",
    "    │  │      bg.jpg\n",
    "    │  │      sky.png\n",
    "    │  │ \n",
    "    │  └─js #存放项目通用的js文件\n",
    "    │          bootstrap.bundle.js\n",
    "  ```"
   ]
  },
  {
   "cell_type": "markdown",
   "metadata": {},
   "source": [
    "# Configuring Static Files"
   ]
  },
  {
   "cell_type": "markdown",
   "metadata": {},
   "source": [
    "1.确保`django.contrib.staticfiles`包含在`INSTALLED_APPS`中。\n",
    "\n",
    "2.在你的设置文件中，定义STATIC_URL，例如：\n",
    "\n",
    ">  `STATIC_URL = '/static/'`\n",
    "\n",
    "3.在模板中，使用 static 模板标签，使用配置的`STATICFILES_STORAGE`为给定的相对路径构建URL。\n",
    "\n",
    "**注意：在模板中要使用`{% load ... %}`标记加载`static`标记，而不是直接使用`{% static %}`模板标记，因为它无法在静态文件中使用，比如由Django生成的样式表。**"
   ]
  },
  {
   "cell_type": "markdown",
   "metadata": {},
   "source": [
    "```\n",
    "{% load static %}\n",
    "<img src=\"{% static \"my_app/example.jpg\" %}\" alt=\"My image\"/>\n",
    "```"
   ]
  },
  {
   "cell_type": "markdown",
   "metadata": {},
   "source": [
    "4.将静态文件存储在应用程序中名为static的文件夹中。 例如my_app / static / my_app / example.jpg。"
   ]
  },
  {
   "cell_type": "markdown",
   "metadata": {},
   "source": [
    "**两种设置**\n",
    "```\n",
    "STATIC_URL = '/static/'                 #若存放静态文件的static目录在app目录下，则无需定义下面的\n",
    "\n",
    "STATICFILES_DIRS = [　　　　　　　　　　　　＃若存放静态文件的static目录在project目录下，则用该定义\n",
    "    os.path.join(BASE_DIR, \"static\"),\n",
    "]\n",
    "```"
   ]
  },
  {
   "cell_type": "markdown",
   "metadata": {},
   "source": [
    "# 提供文件\n",
    "\n",
    "将需要使用的静态文件，根据使用范围、文件类型存放到上述相应的目录中。\n",
    "\n",
    "在开发过程中，如果使用django.contrib.staticfiles，则当DEBUG设置为True时，`runserver`服务会自动搜索各个app下的`static`目录。（请参阅django.contrib.staticfiles.views.serve（））。\n",
    "\n",
    "**但是这种方法非常低效，可能不安全，所以不适合生产。**\n",
    "\n",
    "请参阅[Deploying static files]( https://docs.djangoproject.com/en/2.0/howto/static-files/deployment/)部署静态文件以获取正确的策略以在生产环境中提供静态文件。"
   ]
  },
  {
   "cell_type": "markdown",
   "metadata": {},
   "source": [
    "您的项目可能还会有不与特定应用绑定的静态资源。 **除了在应用程序中使用`static/`目录之外，您还可以在设置文件中定义一个目录列表（STATICFILES_DIRS）**，Django也将在其中查找静态文件。 例如："
   ]
  },
  {
   "cell_type": "markdown",
   "metadata": {},
   "source": [
    "```\n",
    "STATICFILES_DIRS = [\n",
    "    os.path.join(BASE_DIR, \"static\"),\n",
    "    '/var/www/static/',\n",
    "]\n",
    "```"
   ]
  },
  {
   "cell_type": "markdown",
   "metadata": {},
   "source": [
    "有关静态文件如何找到您的文件的详细信息，请参阅[STATICFILES_FINDERS](https://docs.djangoproject.com/en/2.0/ref/settings/#std:setting-STATICFILES_FINDERS)设置的文档。"
   ]
  },
  {
   "cell_type": "markdown",
   "metadata": {},
   "source": [
    "## 静态文件命名空间\n",
    "\n",
    "可以将我们的静态文件直接放在`my_app / static /`中（而不是创建另一个my_app子目录），但这实际上是一个坏主意。 Django将使用它找到的名称匹配的第一个静态文件，并且如果在不同的应用程序中有相同名称的静态文件，Django将无法区分它们。 我们需要能够将Django指向正确的位置，并且最简单的方法是通过命名它们来确保它是正确的。 也就是说，通过将这些静态文件放入为应用程序本身命名的另一个目录中。\n",
    "\n",
    "**如果是直接存放在`my_app / static /`中，在html中引用静态文件时，可以直接使用静态文件名。如果创建了`my_app`子目录，引用时则是`my_app/staticfile`。服务器是从`static`目录开始搜索**"
   ]
  },
  {
   "cell_type": "markdown",
   "metadata": {},
   "source": [
    "# 静态文件的引用方法\n",
    "\n",
    "通过示例来看各种情形下，Django是如何引用静态文件的。"
   ]
  },
  {
   "cell_type": "markdown",
   "metadata": {},
   "source": [
    "## css中引用背景图像\n",
    "\n",
    "以`blog` app的静态文件引用为例：\n",
    "\n",
    "- `blog/static/blog/images/`目录下有一张名为`bg.jpg`的图片;\n",
    "- 在`blog/static/blog/css/style.css`样式文件中引用这张图片作为`<body>`元素的背景；\n",
    "- 在`blog/templates/staticfiles.html`模板中引用该样式。\n",
    "\n",
    "**注意：css文件本身也是静态文件，将被引用到html模板中；而css中又引用了静态资源一张图片作为html元素的背景。**\n",
    "\n",
    "### 步骤一：\n",
    "\n",
    "在`settings.py`文件中，定义STATIC_URL：\n",
    "\n",
    "`STATIC_URL = '/static/'`\n",
    "\n",
    "默认设置里安装了django封闭的app `django.contrib.staticfiles`。\n",
    "```\n",
    "INSTALLED_APPS = [\n",
    "    ...\n",
    "    'django.contrib.staticfiles',\n",
    "    ...\n",
    "]\n",
    "```\n",
    "\n",
    "上述两项设置后，django服务会自动到各app下查找名为`/static/`的目录。\n",
    "\n",
    "### 步骤二：\n",
    "\n",
    "在`blog/static/blog/css`目录下创建一个`style.css`文件，文件中输入如下代码：\n",
    "\n",
    "```\n",
    "li a {\n",
    "    color: red;\n",
    "}\n",
    "\n",
    "body {\n",
    "    background: white url(\"../images/bg.jpg\") repeat-y;\n",
    "}\n",
    "```\n",
    "\n",
    "**css引用背景图片，与静态文件的思想无关。在css文件中引用`bg.jpg`图片，是相对路径的概念，css是主文件，要以这个主文件为参照。**"
   ]
  },
  {
   "cell_type": "markdown",
   "metadata": {},
   "source": [
    "### 步骤三：\n",
    "\n",
    "在`blog/templates/`目录下，创建一个`staticfiles.html`模板:\n",
    "\n",
    "模板中输入如下代码：\n",
    "\n",
    "```\n",
    "<!DOCTYPE html>\n",
    "<html lang=\"en\">\n",
    "<head>\n",
    "    <meta charset=\"UTF-8\">\n",
    "    <meta name=\"viewport\" content=\"width=device-width, initial-scale=1.0\">\n",
    "    <meta http-equiv=\"X-UA-Compatible\" content=\"ie=edge\">\n",
    "    <title>Static Files</title>\n",
    "      \n",
    "    {% load static %}\n",
    "    <link rel=\"stylesheet\" type=\"text/css\" href=\"{% static 'blog/css/style.css' %}\" />\n",
    "\n",
    "</head>\n",
    "<body>\n",
    "    <div>\n",
    "        <li><a>Python 森林</a></li>\n",
    "    </div>\n",
    "</body>\n",
    "</html>\n",
    "```"
   ]
  },
  {
   "cell_type": "markdown",
   "metadata": {},
   "source": [
    "在`<head>` 中使用内置的模板标记`{% load static %}`加载模板标记`static`\n",
    "\n",
    "使用html标记`<link>`链接外部的样式表`style.css`，它是一个静态文件。\n",
    "\n",
    "`<link rel=\"stylesheet\" type=\"text/css\" href=\"{% static 'blog/css/style.css' %}\" />`\n",
    "\n",
    "**因为`<link>`标记中使用了`{% static %}`静态文件标签，所以，前面需要先load这个标签，否则会触发没有static tag的错误。**\n",
    "\n",
    "**`href=\"{% static 'blog/css/style.css' %}\"`中，使用相对路径`'blog/css/style.css'`即可，因为系统会自动找到`static`目录。**\n",
    "\n",
    "**注意，模板中对静态文件的相对路径，是以`settings.py`文件中定义的`STATIC_URL = '/static/'`为参照的。不是以html文件为参照。主要原因是这个相对路径在`{% static %}`标签中。**"
   ]
  },
  {
   "cell_type": "markdown",
   "metadata": {},
   "source": [
    "**load 模板标记**\n",
    "\n",
    "加载自定义模板标签集。\n",
    "\n",
    "DTL中有些标签可以直接使用（系统内建的标签），而自定义的标签必须先加载（load）。\n",
    "\n",
    "例如，以下模板将加载注册在包软件包中某个库和其他库中的所有标签和过滤器：\n",
    "\n",
    "`{％ load somelibrary package.otherlibrary ％}`\n",
    "\n",
    "您也可以使用from参数选择性地从库中加载单个过滤器或标签。在本例中，名为 foo 和 bar 的模板标签/过滤器将从somelibrary加载：\n",
    "\n",
    "`{％ load foo bar from somelibrary ％}`\n",
    "\n",
    "请参阅自定义标签和过滤器库以获取更多信息"
   ]
  },
  {
   "cell_type": "markdown",
   "metadata": {},
   "source": [
    "## 插入图片的两种方式\n",
    "\n",
    "在网页中插入图片，有两种方式：\n",
    "\n",
    "1. 使用`<img>`标签，在`src=\"......\"中使用传统的图片路径；\n",
    "2. 使用`<img>`标签，在`src=\"......\"中使用`{% static \"......\" %}`标签。"
   ]
  },
  {
   "cell_type": "markdown",
   "metadata": {},
   "source": [
    "### 使用传统的图片路径\n",
    "\n",
    "在html模板中，插入如下代码：\n",
    "\n",
    "`<img src=\"../../static/blog/images/logic.png\" alt=\"插入的图片\"/>`\n",
    "\n",
    "html为引用图片的主文件，这里的图片路径是相对于该html文件的路径。这种方式与django的静态文件思想无关。"
   ]
  },
  {
   "cell_type": "markdown",
   "metadata": {},
   "source": [
    "### 使用`{% static \"......\" %}`标签\n",
    "\n",
    "在html模板中，插入如下代码：\n",
    "\n",
    "`<img src=\"{% static 'blog/images/sky.png' %}\" />`\n",
    "\n",
    "**在该html文件的前面必须已load static标签，否则会触发static tag错误。**\n",
    "\n",
    "这种引用的路径，从设置文件中定义的static路径出发。\n",
    "\n",
    "**推荐使用这种方式。**"
   ]
  },
  {
   "cell_type": "markdown",
   "metadata": {},
   "source": [
    "# 在开发过程中提供静态文件\n",
    "\n",
    "如果您按照上面的说明使用django.contrib.staticfiles，则当DEBUG设置为True时，runserver会自动执行此操作。 如果您在INSTALLED_APPS中没有django.contrib.staticfiles，则仍然可以使用django.views.static.serve（）视图手动提供静态文件。\n",
    "\n",
    "这不适合生产使用！ 对于一些常见的部署策略，请参阅部署静态文件。\n",
    "\n",
    "例如，如果您的STATIC_URL定义为/ static /，则可以通过将以下代码段添加到您的urls.py中来完成此操作："
   ]
  },
  {
   "cell_type": "markdown",
   "metadata": {},
   "source": [
    "```\n",
    "rom django.conf import settings\n",
    "from django.conf.urls.static import static\n",
    "\n",
    "urlpatterns = [\n",
    "    # ... the rest of your URLconf goes here ...\n",
    "] + static(settings.STATIC_URL, document_root=settings.STATIC_ROOT)\n",
    "```"
   ]
  },
  {
   "cell_type": "markdown",
   "metadata": {},
   "source": [
    "**注意**\n",
    "\n",
    "只有在给定前缀为本地（例如/ static /）而不是URL（例如 http://static.example.com/） 时，此辅助函数才能在调试模式下工作。\n",
    "\n",
    "此辅助函数也仅用于实际的STATIC_ROOT文件夹; 它不会像django.contrib.staticfiles一样执行静态文件发现。"
   ]
  },
  {
   "cell_type": "markdown",
   "metadata": {},
   "source": [
    "# 在开发过程中提供用户上传的文件\n",
    "在开发过程中，您可以使用django.views.static.serve（）视图为MEDIA_ROOT中的用户上传的媒体文件提供服务。\n",
    "\n",
    "这不适合生产使用！ 对于一些常见的部署策略，请参阅部署静态文件。\n",
    "\n",
    "例如，如果您的MEDIA_URL被定义为/ media /，则可以通过将以下代码段添加到您的urls.py中来完成此操作："
   ]
  },
  {
   "cell_type": "markdown",
   "metadata": {},
   "source": [
    "```\n",
    "from django.conf import settings\n",
    "from django.conf.urls.static import static\n",
    "\n",
    "urlpatterns = [\n",
    "    # ... the rest of your URLconf goes here ...\n",
    "] + static(settings.MEDIA_URL, document_root=settings.MEDIA_ROOT)\n",
    "```"
   ]
  },
  {
   "cell_type": "markdown",
   "metadata": {},
   "source": [
    "**注意**\n",
    "\n",
    "只有在给定的前缀是本地的（例如/ media /）而不是URL（例如 http://media.example.com/ ）时，此辅助函数才能在调试模式下工作。"
   ]
  },
  {
   "cell_type": "markdown",
   "metadata": {},
   "source": [
    "# 测试\n",
    "\n",
    "当运行使用实际的HTTP请求而不是内置的测试客户端的测试时（例如，当使用内置的LiveServerTestCase时），静态资产需要与其他内容一起提供，这样测试环境才能真实再现真实的可能，但LiveServerTestCase只具有非常基本的静态文件服务功能：它不知道静态文件应用程序的查找程序功能，并假定静态内容已在STATIC_ROOT下收集。\n",
    "\n",
    "正因为如此，静态文件自带了django.contrib.staticfiles.testing.StaticLiveServerTestCase，它是内置的一个子类，能够在执行这些测试期间透明地提供所有资源，这与我们获得的方式非常相似 在开发时使用DEBUG = True，即不必使用collectstatic首先收集它们。"
   ]
  },
  {
   "cell_type": "markdown",
   "metadata": {},
   "source": [
    "# 部署\n",
    "\n",
    "`django.contrib.staticfiles`提供了一个便捷的管理命令，用于在单个目录中收集静态文件，以便您可以轻松地为其提供服务。\n",
    "\n",
    "1.将STATIC_ROOT设置设置为您想要从中提供这些文件的目录，例如：\n",
    "\n",
    "> `STATIC_ROOT =“/var/www/example.com/static/”`\n",
    "\n",
    "2.运行`collectstatic`管理命令：\n",
    "\n",
    "> `$ python manage.py collectstatic`\n",
    "\n",
    "> 这会将静态文件夹中的所有文件复制到STATIC_ROOT目录中。\n",
    "\n",
    "3.使用您选择的Web服务器来提供文件。 [Deploying static files](https://docs.djangoproject.com/en/2.0/howto/static-files/deployment/)部署静态文件涵盖了静态文件的一些常见部署策略。"
   ]
  },
  {
   "cell_type": "markdown",
   "metadata": {},
   "source": [
    "有关django.contrib.staticfiles中包含的所有设置，命令，模板标记和其他部分的完整详细信息，请参阅[staticfiles reference](https://docs.djangoproject.com/en/2.0/ref/contrib/staticfiles/)。"
   ]
  },
  {
   "cell_type": "markdown",
   "metadata": {},
   "source": []
  },
  {
   "cell_type": "markdown",
   "metadata": {},
   "source": []
  },
  {
   "cell_type": "markdown",
   "metadata": {},
   "source": []
  },
  {
   "cell_type": "markdown",
   "metadata": {},
   "source": []
  },
  {
   "cell_type": "code",
   "execution_count": null,
   "metadata": {},
   "outputs": [],
   "source": []
  }
 ],
 "metadata": {
  "kernelspec": {
   "display_name": "Python 3",
   "language": "python",
   "name": "python3"
  },
  "language_info": {
   "codemirror_mode": {
    "name": "ipython",
    "version": 3
   },
   "file_extension": ".py",
   "mimetype": "text/x-python",
   "name": "python",
   "nbconvert_exporter": "python",
   "pygments_lexer": "ipython3",
   "version": "3.6.4"
  }
 },
 "nbformat": 4,
 "nbformat_minor": 2
}
