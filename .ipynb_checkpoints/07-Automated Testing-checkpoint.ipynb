{
 "cells": [
  {
   "cell_type": "markdown",
   "metadata": {},
   "source": [
    "Automated Testing\n",
    "===="
   ]
  },
  {
   "cell_type": "markdown",
   "metadata": {},
   "source": [
    "# 什么是自动化测试\n",
    "\n",
    "测试是检查代码操作的简单例程。\n",
    "\n",
    "测试在不同的层面上运行。一些测试可能适用于微小的细节（特定的模型方法是否像预期的那样返回值？），而其他测试则检查软件的整体操作（网站上的用户输入序列是否产生期望的结果？）。 这与您之前在教程2中进行的那种测试没有什么不同，使用shell来检查方法的行为，或运行应用程序并输入数据以检查其行为。\n",
    "\n",
    "自动化测试中的不同之处在于测试工作是由系统为您完成的。您只需创建一组测试，然后在对应用程序进行更改时，可以检查代码是否仍然按照您的初始设计进行工作，而无需执行耗时的手动测试。"
   ]
  },
  {
   "cell_type": "markdown",
   "metadata": {},
   "source": [
    "# 为什么要创建测试\n",
    "\n",
    "## 测试可以节省时间\n",
    "\n",
    "“检查它似乎工作”直到某一点将是一个令人满意的测试。在更复杂的应用程序中，组件之间可能会有数十个复杂的交互。\n",
    "\n",
    "任何这些组件的变化都会对应用程序的行为产生意想不到的后果。检查它仍然“似乎工作”可能意味着通过您的代码的功能运行20个不同的测试数据变化，以确保您没有损坏某些东西 - 不是很好地利用您的时间。\n",
    "\n",
    "当自动化测试可以在几秒钟内完成时，情况尤其如此。如果出现问题，测试还可以帮助识别导致意外行为的代码。\n",
    "\n",
    "有时，将自己从生产性的，富有创造性的编程工作中解放出来，面对写作测试这些毫无吸引力和令人沮丧的事情，特别是当你知道你的代码工作正常时，看起来很麻烦。\n",
    "\n",
    "然而，编写测试的任务要比花费几个小时手动测试应用程序或试图确定新引入问题的原因更有成就感。"
   ]
  },
  {
   "cell_type": "markdown",
   "metadata": {},
   "source": [
    "## 测试不只是发现问题，他们阻止他们¶\n",
    "\n",
    "即使是你自己写的代码，如果没有测试，应用程序的目的或预期行为可能会相当不透明，你有时会发现自己在试图弄清它到底在做什么。\n",
    "\n",
    "测试改变了这一点; 他们从内部照亮你的代码，当出现问题时，他们会把注意力集中在出错的部分 - 即使你甚至没有意识到出错了。"
   ]
  },
  {
   "cell_type": "markdown",
   "metadata": {},
   "source": [
    "## 测试使代码更具吸引力\n",
    "您可能已经创建了一个精彩的软件，但您会发现许多其他开发人员会拒绝查看它，因为它缺少测试; 没有测试，他们不会相信它。Django最初的开发人员之一Jacob Kaplan-Moss说：“没有测试的代码是按设计划分的。”\n",
    "\n",
    "其他开发人员希望在认真对待软件之前在软件中看到测试是您开始编写测试的另一个原因。"
   ]
  },
  {
   "cell_type": "markdown",
   "metadata": {},
   "source": [
    "## 测试可以帮助团队一起工作\n",
    "\n",
    "以前的观点是从单个开发人员维护应用程序的角度编写的。 复杂的应用程序将由团队维护。 测试保证同事不会无意中破坏你的代码（并且你不会在不知情的情况下破坏他们的代码）。 如果你想以Django程序员的身份谋生，你必须善于编写测试！"
   ]
  },
  {
   "cell_type": "markdown",
   "metadata": {},
   "source": [
    "# 基本的测试策略\n",
    "\n",
    "编写测试有很多方法。\n",
    "\n",
    "一些程序员遵循一种称为“测试驱动开发”的规则;他们在编写代码之前实际编写测试。这看起来可能与直觉相反，但实际上它与大多数人经常会做的事情类似：他们描述一个问题，然后创建一些代码来解决它。测试驱动开发只是在Python测试用例中形式化问题。\n",
    "\n",
    "更多的时候，测试的新手会创建一些代码，然后决定应该进行一些测试。也许早些时候写一些测试会更好，但开始之前永远不会太晚。\n",
    "\n",
    "有时候很难确定从哪里开始编写测试。如果您已经编写了几千行Python，则选择要测试的内容可能并不容易。在这种情况下，在您下次进行更改时编写第一个测试，无论是添加新功能还是修复错误，都是有益的。"
   ]
  },
  {
   "cell_type": "markdown",
   "metadata": {},
   "source": [
    "Writing our first test¶\n",
    "We identify a bug¶\n",
    "Fortunately, there’s a little bug in the polls application for us to fix right away: the Question.was_published_recently() method returns True if the Question was published within the last day (which is correct) but also if the Question’s pub_date field is in the future (which certainly isn’t).\n",
    "\n",
    "To check if the bug really exists, using the Admin create a question whose date lies in the future and check the method using the shell:"
   ]
  },
  {
   "cell_type": "markdown",
   "metadata": {},
   "source": [
    "# 编写第一个测试\n",
    "\n",
    "**识别一个错误**\n",
    "\n",
    "幸运的是，民意调查应用程序中有一个小错误可供我们立即修复：Question.was_published_recently()方法返回 True，如果问题是在最后一天内发布的（这是正确的），但是如果Question的pub_date字段是将来（当然不是）。\n",
    "\n",
    "要检查错误是否真的存在，使用Admin创建一个问题，它的日期在将来，并使用shell检查方法："
   ]
  },
  {
   "cell_type": "markdown",
   "metadata": {},
   "source": [
    "```\n",
    ">>> import datetime\n",
    ">>> from django.utils import timezone\n",
    ">>> from polls.models import Question\n",
    ">>> # create a Question instance with pub_date 30 days in the future\n",
    ">>> future_question = Question(pub_date=timezone.now() + datetime.timedelta(days=30))\n",
    ">>> # was it published recently?\n",
    ">>> future_question.was_published_recently()\n",
    "True\n",
    "```"
   ]
  },
  {
   "cell_type": "markdown",
   "metadata": {},
   "source": []
  },
  {
   "cell_type": "markdown",
   "metadata": {},
   "source": []
  },
  {
   "cell_type": "markdown",
   "metadata": {},
   "source": []
  },
  {
   "cell_type": "markdown",
   "metadata": {},
   "source": []
  },
  {
   "cell_type": "markdown",
   "metadata": {},
   "source": []
  }
 ],
 "metadata": {
  "kernelspec": {
   "display_name": "Python 3",
   "language": "python",
   "name": "python3"
  },
  "language_info": {
   "codemirror_mode": {
    "name": "ipython",
    "version": 3
   },
   "file_extension": ".py",
   "mimetype": "text/x-python",
   "name": "python",
   "nbconvert_exporter": "python",
   "pygments_lexer": "ipython3",
   "version": "3.6.4"
  }
 },
 "nbformat": 4,
 "nbformat_minor": 2
}
