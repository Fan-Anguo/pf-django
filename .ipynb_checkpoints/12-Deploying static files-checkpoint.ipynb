{
 "cells": [
  {
   "cell_type": "markdown",
   "metadata": {},
   "source": [
    "Deploying Static Files\n",
    "===="
   ]
  },
  {
   "cell_type": "markdown",
   "metadata": {},
   "source": [
    "# 在生产中提供静态文件\n",
    "\n",
    "将静态文件投入生产的基本方法很简单：在静态文件更改时运行collectstatic命令，然后将收集的静态文件目录（STATIC_ROOT）安排到静态文件服务器并提供服务。 根据STATICFILES_STORAGE，可能需要手动将文件移动到新的位置，否则Storage类的post_process方法可能会处理此问题。\n",
    "\n",
    "当然，就像所有部署任务一样，魔鬼在细节上。 每个生产设置都会有所不同，因此您需要调整基本轮廓以适应您的需求。 以下是一些可能有所帮助的常见模式。"
   ]
  },
  {
   "cell_type": "markdown",
   "metadata": {},
   "source": [
    "# 从同一台服务器提供站点和静态文件\n",
    "\n",
    "如果您想从已经为您的网站提供服务的同一服务器提供静态文件，则此过程可能如下所示：\n",
    "\n",
    "> 将代码推送到部署服务器。\n",
    "\n",
    "> 在服务器上运行collectstatic将所有静态文件复制到STATIC_ROOT。\n",
    "\n",
    "> 配置您的Web服务器以在STATIC_URL下的STATIC_ROOT中提供文件。例如，以下是如何使用Apache和mod_wsgi完成此操作。\n",
    "\n",
    "您可能希望自动执行此过程，特别是如果您拥有多个Web服务器。"
   ]
  },
  {
   "cell_type": "markdown",
   "metadata": {},
   "source": [
    "## 从专用服务器提供静态文件\n",
    "\n",
    "大多数较大的Django站点使用单独的Web服务器（即，也不是运行Django的服务器）来提供静态文件。 该服务器通常运行不同类型的Web服务器 - 速度更快但功能更少。 一些常见的选择是：\n",
    "\n",
    "`Nginx` \n",
    "\n",
    "> 一个精简版的Apache\n",
    "\n",
    "配置这些服务器超出了本文档的范围; 检查每个服务器的相应文档以获取说明。\n",
    "\n",
    "由于您的静态文件服务器不会运行Django，因此您需要修改部署策略，如下所示：\n",
    "\n",
    "> 当您的静态文件更改时，请在本地运行collectstatic。\n",
    "> 将您的本地STATIC_ROOT到达静态文件服务器，并将其推送到正在提供服务的目录中。 rsync是此步骤的常用选择，因为它只需传输已更改的静态文件的位。"
   ]
  },
  {
   "cell_type": "markdown",
   "metadata": {},
   "source": [
    "## 从云服务或CDN提供静态文件\n",
    "\n",
    "另一种常见策略是从Amazon S3和/或CDN（内容交付网络）等云存储提供商处提供静态文件。这可以让您忽略服务静态文件的问题，并且通常可以使Web页面更快加载（特别是在使用CDN时）。\n",
    "\n",
    "在使用这些服务时，基本工作流看起来有点像上面的，除了使用rsync将静态文件传输到服务器之外，您需要将静态文件传输到存储提供程序或CDN。\n",
    "\n",
    "有多种方式可以做到这一点，但如果提供者具有API，则自定义文件存储后端将使该过程变得非常简单。如果您已经编写或正在使用第三方自定义存储后端，则可以通过将STATICFILES_STORAGE设置为存储引擎来告诉collectstatic使用它。\n",
    "\n",
    "例如，如果您在myproject.storage.S3Storage中编写了S3存储后端，则可以将它用于：\n",
    "\n",
    "`STATICFILES_STORAGE ='myproject.storage.S3Storage'`\n",
    "\n",
    "完成之后，您只需运行collectstatic，并将静态文件通过存储包推送到S3。如果以后需要切换到不同的存储提供商，则可以像更改STATICFILES_STORAGE设置一样简单。\n",
    "\n",
    "有关如何编写其中一个后端的详细信息，请参阅编写定制存储系统。有第三方应用程序可用于为许多常见的文件存储API提供存储后端。 djangopackages.org上的概述是一个很好的起点。"
   ]
  },
  {
   "cell_type": "markdown",
   "metadata": {},
   "source": [
    "有关django.contrib.staticfiles中包含的所有设置，命令，模板标记和其他部分的完整详细信息，请参阅[staticfiles reference](https://docs.djangoproject.com/en/2.0/ref/contrib/staticfiles/)。"
   ]
  },
  {
   "cell_type": "markdown",
   "metadata": {},
   "source": []
  },
  {
   "cell_type": "markdown",
   "metadata": {},
   "source": []
  },
  {
   "cell_type": "markdown",
   "metadata": {},
   "source": []
  },
  {
   "cell_type": "markdown",
   "metadata": {},
   "source": []
  },
  {
   "cell_type": "code",
   "execution_count": null,
   "metadata": {},
   "outputs": [],
   "source": []
  },
  {
   "cell_type": "code",
   "execution_count": null,
   "metadata": {},
   "outputs": [],
   "source": []
  }
 ],
 "metadata": {
  "kernelspec": {
   "display_name": "Python 3",
   "language": "python",
   "name": "python3"
  },
  "language_info": {
   "codemirror_mode": {
    "name": "ipython",
    "version": 3
   },
   "file_extension": ".py",
   "mimetype": "text/x-python",
   "name": "python",
   "nbconvert_exporter": "python",
   "pygments_lexer": "ipython3",
   "version": "3.6.4"
  }
 },
 "nbformat": 4,
 "nbformat_minor": 2
}
