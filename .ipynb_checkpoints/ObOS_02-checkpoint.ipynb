{
 "cells": [
  {
   "cell_type": "markdown",
   "metadata": {},
   "source": [
    "在视图中渲染模板\n",
    "===="
   ]
  },
  {
   "cell_type": "markdown",
   "metadata": {},
   "source": [
    "在[One by One Step_01](One by One Step_01.ipynb)中，视图函数直接在代码中返回html要显示的内容，一个显示当前日期和时间的页面。\n",
    "\n",
    "实际开发中，html要呈现的内容很多，不可能仍然采取这种方式。解决的办法是将html代码保存在一个独立的html文件中，在视图中调用这个html文件。"
   ]
  },
  {
   "cell_type": "markdown",
   "metadata": {},
   "source": [
    "作为一个Web框架，Django需要一种方便的方式来动态生成HTML。最常用的方法是依靠模板。\n",
    "\n",
    "关于模板介绍请参见[Templates Language Introduction](08-Templates Language Introduction.ipynb)\n",
    "\n",
    "模板在形式上就是一个html文件，网站的很多页面具有相同的内容，比如顶部导航、底部信息、左侧目录结构等，只是中间的正文内容不同。共同部分就可以设计成一个html模板，类似的网页引用这个模板即可，这就实现了html代码的重用。"
   ]
  },
  {
   "cell_type": "markdown",
   "metadata": {},
   "source": [
    "# 创建一个模板文件"
   ]
  },
  {
   "cell_type": "markdown",
   "metadata": {},
   "source": [
    "在`blog`中创建一个目录，命名为`templates`，这个是固定的。在`templates`文件夹下再创建一个与app同名的文件夹，这里是'blog'，在`blog\\templates\\blog`目录里创建一个`base.html`文件。\n",
    "\n",
    "目录结构如下\n",
    "\n",
    "```\n",
    "I:.pyforest_root.blog\n",
    "│  admin.py\n",
    "│  apps.py\n",
    "│  models.py\n",
    "│  tests.py\n",
    "│  urls.py\n",
    "│  views.py\n",
    "│  __init__.py\n",
    "│\n",
    "├─templates\n",
    "│  └─blog\n",
    "│          base.html\n",
    "\n",
    " ```\n",
    "\n",
    "## Django 模板查找机制\n",
    "- Django 查找模板的过程是在每个 app 的 templates 文件夹中找（而不只是当前 app 中的代码只在当前的 app 的 templates 文件夹中找）。\n",
    "\n",
    "- 各个 app 的 templates 形成一个文件夹列表，Django 遍历这个列表，一个个文件夹进行查找，当在某一个文件夹找到的时候就停止。\n",
    "\n",
    "- 所有的都遍历完了还找不到指定的模板的时候就是 Template Not Found （过程类似于Python找包）。\n",
    "\n",
    "- 这样设计有利当然也有弊，有利是的地方是一个app可以用另一个app的模板文件，弊是有可能会找错了。\n",
    "\n",
    "- 所以我们使用的时候在 templates 中建立一个 app 同名的文件夹，仅和该app相关的模板放在 app/templates/app/ 目录下面。"
   ]
  },
  {
   "cell_type": "markdown",
   "metadata": {},
   "source": [
    "例如：项目`pyforest` 有两个 app，分别为 `blog` 和 `news`，每个app各有一个模板`base.html`。这样，使用的时候，模板就是 \"blog/base.html\" 和 \"news/base.html\" 这样有app作为名称的一部分，就不会混淆。"
   ]
  },
  {
   "cell_type": "markdown",
   "metadata": {},
   "source": [
    "**blog\\base.html 代码：**\n",
    "\n",
    "```\n",
    "<!DOCTYPE html>\n",
    "<html>\n",
    "<head>\n",
    "        <style type=\"text/css\">\n",
    "            h1 {color:green}\n",
    "            h2 {color:brown}\n",
    "            p {color:blue}\n",
    "            </style>\n",
    "   <title>欢迎光临</title>\n",
    "</head>\n",
    "<body>\n",
    "    <h1>欢迎来到 Python 森林！</h1>\n",
    "    <p>人生苦短，请用Python!</p>\n",
    "    <p>Python森林，无限风景！</p>\n",
    "</body>\n",
    "</html>\n",
    "```"
   ]
  },
  {
   "cell_type": "markdown",
   "metadata": {},
   "source": [
    "`base.html`是一个模板文件，也可以作为一个直接显示的页面。当访问`http://127.0.0.1:8000`这个时直接显示`base.html`。"
   ]
  },
  {
   "cell_type": "markdown",
   "metadata": {},
   "source": [
    "# 创建一个引用base.html模板的html\n",
    "\n",
    "创建另一个html文件`templates\\blog\\pyworld.html`，该文件引用`base.html`模板，并添一些自己的内容。\n",
    "```\n",
    "<!DOCTYPE html>\n",
    "<html>\n",
    "<head>\n",
    "        <style type=\"text/css\">\n",
    "            h1 {color:green}\n",
    "            h2 {color:brown}\n",
    "            p {color:blue}\n",
    "            </style>\n",
    "   <title>欢迎光临</title>\n",
    "</head>\n",
    "<body>\n",
    "\n",
    "     {% include 'blog/base.html' %}\n",
    "\n",
    "{% block content %}\n",
    "<div><h2>Python世界的众生</h2>\n",
    "    \n",
    "    我们要处理的“东西”就是Python世界里的“众生”；\n",
    "    <br>\n",
    "    众生就是我们要处理的“对象”；\n",
    "    <br>\n",
    "    .....\n",
    "    <br>\n",
    "    对象是谁？对象从哪里来？对象要到哪里去？对象的存在是为了什么？....\n",
    "    \n",
    "    ----这就是 Python 世界的哲学！</div>\n",
    "{% endblock %}\n",
    "\n",
    "</body>\n",
    "</html>\n",
    "```"
   ]
  },
  {
   "cell_type": "markdown",
   "metadata": {},
   "source": [
    "`{% include 'blog/base.html' %}`这段代码引用了模板，可以在其它页面中反复这样引用该模板。"
   ]
  },
  {
   "cell_type": "markdown",
   "metadata": {},
   "source": [
    "# 修改视图文件引用目标html文件\n",
    "\n",
    "修改`blog\\views.py`文件：\n",
    "\n",
    "```\n",
    "from django.shortcuts import render\n",
    "from django.http import HttpResponse\n",
    "from django.template import Context, Template\n",
    "\n",
    "def base(request):\n",
    "    return render (request,'blog/base.html')\n",
    "\n",
    "def pyworld(request):\n",
    "    return render(request, 'blog/pyworld.html')\n",
    "    \n",
    "```"
   ]
  },
  {
   "cell_type": "markdown",
   "metadata": {},
   "source": [
    "定义了两个视图函数：\n",
    "\n",
    "`base` 视图，调用 `blog/base.html` 模板渲染网页；\n",
    "\n",
    "`pyworld` 视图，调用 `blog/pyworld.html` 模板渲染网页。"
   ]
  },
  {
   "cell_type": "markdown",
   "metadata": {},
   "source": [
    "**render()**\n",
    "\n",
    "`render（request，template_name，context = None，content_type = None，status = None，using = None）[source]`\n",
    "\n",
    "将给定的模板与给定的上下文字典组合起来，并返回带有该呈现文本的`HttpResponse`对象。\n",
    "\n",
    "Django不提供返回`TemplateResponse`的快捷方式函数，因为`TemplateResponse`的构造函数提供了与render（）相同的便利级别。\n",
    "\n",
    "*所需参数*\n",
    "\n",
    "request: 用于生成此响应的请求对象。\n",
    "\n",
    "TEMPLATE_NAME: 要使用的模板的全名或模板名称的序列。如果给出了一个序列，将使用存在的第一个模板。"
   ]
  },
  {
   "cell_type": "markdown",
   "metadata": {},
   "source": [
    "# 修改一、二级路由逐级定向到目标视图"
   ]
  },
  {
   "cell_type": "markdown",
   "metadata": {},
   "source": [
    "**修改一级路由 pyforest\\urls.py:**\n",
    "```\n",
    "from django.urls import include, path\n",
    "\n",
    "urlpatterns = [\n",
    "\n",
    "    path('',include('blog.urls')),\n",
    "    path('world', include('blog.urls')),\n",
    "    \n",
    "       ]\n",
    "```\n",
    "一级路由将根路径访问重定向到`blog.urls`，将'world'路径访问也重定向到`blog.urls`。"
   ]
  },
  {
   "cell_type": "markdown",
   "metadata": {},
   "source": [
    "**修改二级路由 blog\\urls.py:**\n",
    "```\n",
    "from django.urls import path\n",
    "from . import views\n",
    "\n",
    "urlpatterns = [\n",
    "\n",
    "    path('', views.base, name='base'),\n",
    "    path('world', views.pyworld, name='pyworld'),\n",
    "\n",
    "]\n",
    "```\n",
    "\n",
    "二级路由将根路径访问指向`views.base`视图，将`world`路径访问指定`views.pyworld`视图。\n",
    "\n",
    "在视图文件中，两个视图分别被定义为调用`base.html`和`pyworld.html`模板渲染网页。\n",
    "\n",
    "启动django服务，在浏览器中输入请求：\n",
    "\n",
    "`http://127.0.0.1:8000/`就会访问`base.html`页面；\n",
    "\n",
    "输入请求：\n",
    "\n",
    "`http://127.0.0.1:8000/world`就会访问`pyworld.html`页面。"
   ]
  },
  {
   "cell_type": "code",
   "execution_count": null,
   "metadata": {},
   "outputs": [],
   "source": []
  }
 ],
 "metadata": {
  "kernelspec": {
   "display_name": "Python 3",
   "language": "python",
   "name": "python3"
  },
  "language_info": {
   "codemirror_mode": {
    "name": "ipython",
    "version": 3
   },
   "file_extension": ".py",
   "mimetype": "text/x-python",
   "name": "python",
   "nbconvert_exporter": "python",
   "pygments_lexer": "ipython3",
   "version": "3.6.4"
  }
 },
 "nbformat": 4,
 "nbformat_minor": 2
}
