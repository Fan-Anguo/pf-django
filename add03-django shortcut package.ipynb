{
 "cells": [
  {
   "cell_type": "markdown",
   "metadata": {},
   "source": [
    "the package *django.shortcuts*\n",
    "===="
   ]
  },
  {
   "cell_type": "markdown",
   "metadata": {},
   "source": [
    "django.shortcuts包收集了“跨越”多个级别MVC的非常有用的函数和类。换句话说，为了方便起见，这些函数/类引入了受控耦合。"
   ]
  },
  {
   "cell_type": "markdown",
   "metadata": {},
   "source": [
    "# render()\n",
    "```render(request, template_name, context=None, content_type=None, status=None, using=None)[source]```"
   ]
  },
  {
   "cell_type": "markdown",
   "metadata": {},
   "source": [
    "将给定的模板(template_name)与给定的上下文字典组（context）合起来，并返回带有该渲染文本的HttpResponse对象。\n",
    "\n",
    "Django的shortcuts不提供返回TemplateResponse的函数，因为构造函数 TemplateResponse提供了与render（）一样便利的功能。"
   ]
  },
  {
   "cell_type": "markdown",
   "metadata": {},
   "source": [
    "## 所需参数\n",
    "**request**\n",
    "\n",
    "用于生成此响应的请求对象。\n",
    "\n",
    "**TEMPLATE_NAME**\n",
    "\n",
    "要使用的模板的全名或模板名称的序列。如果给出了一个序列，将使用存在的第一个模板。"
   ]
  },
  {
   "cell_type": "markdown",
   "metadata": {},
   "source": [
    "## 可选参数\n",
    "\n",
    "**context**\n",
    "\n",
    "要添加到模板上下文的值的字典。默认情况下，这是一个空字典。如果字典中的值是可调用的，视图将在渲染模板之前调用它。\n",
    "\n",
    "通常在模板文件中用变量引入这个context内容。\n",
    "\n",
    "**content_type**\n",
    "\n",
    "用于生成文档的MIME类型。缺省值为DEFAULT_CONTENT_TYPE设置的值。\n",
    "\n",
    "**status**\n",
    "\n",
    "响应的状态码。 默认为200。\n",
    "\n",
    "**using**\n",
    "\n",
    "用于加载模板的模板引擎的名称。"
   ]
  },
  {
   "cell_type": "markdown",
   "metadata": {},
   "source": [
    "例：\n",
    "\n",
    "```\n",
    "from django.shortcuts import render\n",
    "from django.template import Context, Template\n",
    "\n",
    "def base(request):\n",
    "    page = {'P1':u'一','P2':u'二','P3':u'三'}\n",
    "    return render(request, 'blog/base.html', {'page': page})\n",
    "```"
   ]
  },
  {
   "cell_type": "markdown",
   "metadata": {},
   "source": [
    "上面的代码在base视图中定义了一个字典page；\n",
    "\n",
    "返回一个render对象，render()将request映射到模板`blog/base.html`，并设置了context参数，它是一个字典，该字典只有一个元素，键是page,值是前面定义的字典变量`page`。"
   ]
  },
  {
   "cell_type": "markdown",
   "metadata": {},
   "source": [
    "## 在html中引用context字典中的文本\n",
    "```\n",
    "<!DOCTYPE html>\n",
    "<html>\n",
    "\n",
    "这是网站的第 {{page.P1}} 页。\n",
    "\n",
    "<head>\n",
    "          <style type=\"text/css\">\n",
    "            h1 {color:green}\n",
    "            h2 {color:brown}\n",
    "            p {color:blue}\n",
    "            </style>\n",
    "   <title>欢迎光临</title>\n",
    "</head>\n",
    "\n",
    "<body>\n",
    "    <h1>欢迎来到 Python 森林！</h1>\n",
    "    <p>人生苦短，请用Python!</p>\n",
    "    <p>Python森林，无限风景！</p>\n",
    "</body>\n",
    "</html>\n",
    "```"
   ]
  },
  {
   "cell_type": "markdown",
   "metadata": {},
   "source": [
    "添加了一行`这是网站的第 {{P1}} 页。`\n",
    "\n",
    "` {{P1}}`是DTL语言中的“变量”标记，`{{...}}`，`P1`是变量名，它是视图函数中context字典参数中的一个键，在渲染网页时，它会用该键对应的值替换html中的变量标记。"
   ]
  },
  {
   "cell_type": "markdown",
   "metadata": {},
   "source": [
    "也可以直接在render()函数的context参数中定义字典：\n",
    "\n",
    "```\n",
    "from django.shortcuts import render\n",
    "from django.template import Context, Template\n",
    "\n",
    "def base(request):\n",
    "    page = {'P1':u'一','P2':u'二','P3':u'三'}\n",
    "    return render(request, 'blog/base.html', {'P1':'一','P2':'二','P3':'三'})\n",
    "    \n",
    "    ```"
   ]
  },
  {
   "cell_type": "markdown",
   "metadata": {},
   "source": [
    "修改base.html模板的代码：\n",
    "```\n",
    "<!DOCTYPE html>\n",
    "<html>\n",
    "\n",
    "这是网站的第 {{P2}} 页。\n",
    "\n",
    "<head>\n",
    "          <style type=\"text/css\">\n",
    "            h1 {color:green}\n",
    "            h2 {color:brown}\n",
    "            p {color:blue}\n",
    "            </style>\n",
    "   <title>欢迎光临</title>\n",
    "</head>\n",
    "\n",
    "<body>\n",
    "    <h1>欢迎来到 Python 森林！</h1>\n",
    "    <p>人生苦短，请用Python!</p>\n",
    "    <p>Python森林，无限风景！</p>\n",
    "</body>\n",
    "</html>\n",
    "```"
   ]
  },
  {
   "cell_type": "markdown",
   "metadata": {},
   "source": [
    "“这是网站的第 {{P2}} 页。”直接引用字典的元素即可。"
   ]
  },
  {
   "cell_type": "markdown",
   "metadata": {},
   "source": []
  },
  {
   "cell_type": "markdown",
   "metadata": {},
   "source": []
  }
 ],
 "metadata": {
  "kernelspec": {
   "display_name": "Python 3",
   "language": "python",
   "name": "python3"
  },
  "language_info": {
   "codemirror_mode": {
    "name": "ipython",
    "version": 3
   },
   "file_extension": ".py",
   "mimetype": "text/x-python",
   "name": "python",
   "nbconvert_exporter": "python",
   "pygments_lexer": "ipython3",
   "version": "3.6.4"
  }
 },
 "nbformat": 4,
 "nbformat_minor": 2
}
