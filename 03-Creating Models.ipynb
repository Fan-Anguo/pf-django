{
 "cells": [
  {
   "cell_type": "markdown",
   "metadata": {},
   "source": [
    "Creating Models\n",
    "====\n",
    "\n",
    "现在我们将定义您的模型 - 实质上是您的数据库布局以及其他元数据。"
   ]
  },
  {
   "cell_type": "markdown",
   "metadata": {},
   "source": [
    "**关于Models的哲学**\n",
    "\n",
    "模型是关于您的数据的单一，明确的真相来源。 它包含您正在存储的数据的重要字段和行为。 Django遵循DRY原则。 目标是在一个地方定义您的数据模型并自动从中推导出事物。\n",
    "\n",
    "这包括迁移 - 与Ruby On Rails不同，例如，迁移完全从您的模型文件派生而来，本质上只是Django可以滚动更新数据库模式以符合当前模型的历史记录。"
   ]
  },
  {
   "cell_type": "markdown",
   "metadata": {},
   "source": [
    "在`polls app`中，我们将创建两个模型：Question 和 Choise。 一个 Qusetion 有 question 和 发表的日期 date。 Choise 有两个字段：选择的文本和票数。 每个 Choise 都与一个 Question 相关联。这些概念由简单的Python类表示。 编辑polls / models.py文件，使其看起来像这样："
   ]
  },
  {
   "cell_type": "markdown",
   "metadata": {},
   "source": [
    "**polls/models.py**\n",
    "```\n",
    "from django.db import models\n",
    "\n",
    "\n",
    "class Question(models.Model):\n",
    "    question_text = models.CharField(max_length=200)\n",
    "    pub_date = models.DateTimeField('date published')\n",
    "\n",
    "\n",
    "class Choice(models.Model):\n",
    "    question = models.ForeignKey(Question, on_delete=models.CASCADE)\n",
    "    choice_text = models.CharField(max_length=200)\n",
    "    votes = models.IntegerField(default=0)\n",
    "```"
   ]
  },
  {
   "cell_type": "markdown",
   "metadata": {},
   "source": [
    "**模型代码解读**\n",
    "\n",
    "代码很简单。\n",
    "\n",
    "- 导入`django.db.models`模块，这个模块中有Model类，还有CharField、DateTimeField字段类型类；\n",
    "- 创建模型就是创建类class，一个模型对应一个类，所以这里创建了两个类：`Question, Choise`；\n",
    "- 它们都是`django.db.models.Model`类的子类；\n",
    "- 一个模型实际就是一个类，一个类实际就定义了数据库中的一张表；\n",
    "- 每个模型都有许多类变量，每个变量表示模型中的数据库字段；\n",
    "- 每个字段变量是一个Field类的实例，例如：字符字段CharField，日期时间字段DateTimeField。这告诉Django每个字段拥有什么类型的数据。\n",
    "- 每个Field实例的名称（例如question_text或pub_date）是机器友好格式的字段名称。将在后面的Python代码中使用此值，并且数据库将使用它作为列名称；\n",
    "- 可以使用字段的可选第一个位置参数来指定一个人类可读的名称。这在Django的一些内省部分中使用，并且它作为文档复制。如果未提供此字段，则Django将使用机器可读名称。在这个例子中，我们只为`Question.pub_date`定义了一个人类可读的名字。对于此模型中的所有其他字段，该字段的机器可读名称就足以作为其人类可读的名称；\n",
    "- 某些Field类需要参数。例如，CharField要求你给它一个max_length。这不仅在数据库模式中使用，而且在验证中使用，我们很快就会看到；\n",
    "- 一个字段也可以有各种可选的参数;在这种情况下，这里我们已将投票的默认值设置为0；\n",
    "- 最后，请注意使用ForeignKey定义的关系。这告诉Django每个Choice都与单个问题有关。 Django支持所有常见的数据库关系：多对一，多对多和一对一。"
   ]
  },
  {
   "cell_type": "markdown",
   "metadata": {},
   "source": [
    "# 激活模型\n",
    "这一小部分模型代码为Django提供了大量信息。有了它，Django能够：\n",
    "\n",
    "> 为此应用程序创建数据库模式（CREATE TABLE语句）。\n",
    "\n",
    "> 创建一个用于访问Question和Choice对象的Python数据库访问API。\n",
    "\n",
    "但首先我们需要告诉项目，`polls`应用程序已安装。"
   ]
  },
  {
   "cell_type": "markdown",
   "metadata": {},
   "source": [
    "**app安装的哲学**\n",
    "\n",
    "Django应用程序是“可插入的”：您可以在多个项目中使用应用程序，并且可以分发应用程序，因为它们不必绑定到给定的Django安装。"
   ]
  },
  {
   "cell_type": "markdown",
   "metadata": {},
   "source": [
    "要将该应用程序包含在我们的项目中，我们需要在项目包目录下的`settings.py`文件中的`INSTALLED_APPS`设置中添加对app配置类的引用。\n",
    "\n",
    "在本例中，`polls`应用程序的配置类是`PollsConfig`类，它位于`polls / apps.py`文件中，因此其点运算路径为`'polls.apps.PollsConfig'`。 `polls / apps.py`文件看起来是这样：\n",
    "\n",
    "```\n",
    "from django.apps import AppConfig\n",
    "\n",
    "\n",
    "class PollsConfig(AppConfig):\n",
    "    name = 'polls'\n",
    "```\n",
    "编辑`mysite / settings.py`文件并将点运算路径`'polls.apps.PollsConfig'`添加到`INSTALLED_APPS`设置中。它看起来像这样："
   ]
  },
  {
   "cell_type": "markdown",
   "metadata": {},
   "source": [
    "**mysite/settings.py**\n",
    "````\n",
    "INSTALLED_APPS = [\n",
    "    'polls.apps.PollsConfig',  #添加这一行\n",
    "    'django.contrib.admin',\n",
    "    'django.contrib.auth',\n",
    "    'django.contrib.contenttypes',\n",
    "    'django.contrib.sessions',\n",
    "    'django.contrib.messages',\n",
    "    'django.contrib.staticfiles',\n",
    "]\n",
    "```"
   ]
  },
  {
   "cell_type": "markdown",
   "metadata": {},
   "source": [
    "现在Django就知道包含`polls`应用程序。让我们运行另一个命令：\n",
    "\n",
    "`$ python manage.py makemigrations polls`\n",
    "\n",
    "应该看到类似于以下内容的内容：\n",
    "\n",
    "```\n",
    "I:\\FanGitHub\\mydjpro> python manage.py makemigrations polls\n",
    "Migrations for 'polls':\n",
    "  polls\\migrations\\0001_initial.py\n",
    "    - Create model Choice\n",
    "    - Create model Question\n",
    "    - Add field question to choice\n",
    "```"
   ]
  },
  {
   "cell_type": "markdown",
   "metadata": {},
   "source": [
    "通通过运行makemigrations，您告诉Django您已经对模型进行了一些更改（在这种情况下，您已经创建了新模型），并且希望将这些更改存储为迁移。\n",
    "\n",
    "迁移就是Django如何将更改存储到模型（以及数据库模式） - 它们只是磁盘上的文件。 如果你喜欢，你可以阅读新模型的迁移文件polls / migrations / 0001_initial.py。 别担心，你不想在Django每次创建它时都阅读它们，但是它们被设计成在您想要手动调整Django如何更改内容时，是可以人为编辑的。\n",
    "\n",
    "有一个命令可以运行迁移并自动管理你的数据库模式 - 这就是所谓的迁移，我们马上就会讨论它。 但我们先来看看迁移过程将运行的SQL。 sqlmigrate命令获取迁移名称并返回它们的SQL："
   ]
  },
  {
   "cell_type": "markdown",
   "metadata": {},
   "source": [
    "`$ python manage.py sqlmigrate polls 0001`\n",
    "\n",
    "您应该看到类似于以下内容的内容（为便于阅读，我们已将其重新格式化）："
   ]
  },
  {
   "cell_type": "markdown",
   "metadata": {},
   "source": [
    "```\n",
    "I:\\FanGitHub\\mydjpro>  python manage.py sqlmigrate polls 0001\n",
    "BEGIN;\n",
    "--\n",
    "-- Create model Choice\n",
    "--\n",
    "CREATE TABLE \"polls_choice\" (\"id\" integer NOT NULL PRIMARY KEY AUTOINCREMENT, \"choice_text\" varchar(200) NOT NULL, \"votes\" integer NOT NULL);\n",
    "--\n",
    "-- Create model Question\n",
    "--\n",
    "CREATE TABLE \"polls_question\" (\"id\" integer NOT NULL PRIMARY KEY AUTOINCREMENT, \"question_text\" varchar(200) NOT NULL, \"pub_date\" datetime NOT NULL);\n",
    "--\n",
    "-- Add field question to choice\n",
    "--\n",
    "ALTER TABLE \"polls_choice\" RENAME TO \"polls_choice__old\";\n",
    "CREATE TABLE \"polls_choice\" (\"id\" integer NOT NULL PRIMARY KEY AUTOINCREMENT, \"choice_text\" varchar(200) NOT NULL, \"votes\" integer NOT NULL, \"question_id\" integer NOT NULL REFERENCES \"polls_question\" (\"id\") DEFERRABLE INITIALLY DEFERRED);\n",
    "INSERT INTO \"polls_choice\" (\"id\", \"choice_text\", \"votes\", \"question_id\") SELECT \"id\", \"choice_text\", \"votes\", NULL FROM \"polls_choice__old\";\n",
    "DROP TABLE \"polls_choice__old\";\n",
    "CREATE INDEX \"polls_choice_question_id_c5b4b260\" ON \"polls_choice\" (\"question_id\");\n",
    "COMMIT;\n",
    "```"
   ]
  },
  {
   "cell_type": "markdown",
   "metadata": {},
   "source": [
    "**请注意以下几点：**\n",
    "\n",
    "- 确切的输出将取决于您使用的数据库。上面的例子是为PostgreSQL生成的。\n",
    "\n",
    "- 表名是通过组合应用程序的名称（polls）和模型名称的小写 - question和choise自动生成的。 （您可以重写此行为。）\n",
    "\n",
    "- 会自动添加主键（ID）。（你也可以重写它。）\n",
    "\n",
    "- 按照惯例，Django将“_id”附加到外键字段名称。（你也可以重写这个。）\n",
    "\n",
    "- 外键关系通过FOREIGN KEY约束来显式化。不要担心DEFERRABLE部件;这只是告诉PostgreSQL在事务结束之前不执行外键。\n",
    "\n",
    "- 它针对您正在使用的数据库量身定做，因此您可以自动处理特定于数据库的字段类型，例如auto_increment（MySQL），serial（PostgreSQL）或整数主键自动增量（SQLite）。字段名称的引用也是如此 - 例如，使用双引号或单引号。\n",
    "\n",
    "- sqlmigrate命令实际上并不在数据库上运行迁移 - 它只是将它打印到屏幕上，因此您可以看到SQL Django认为什么是必需的。这对于检查Django将要做什么，或者如果您有数据库管理员，他需要修改SQL脚本等情形很有用。\n"
   ]
  },
  {
   "cell_type": "markdown",
   "metadata": {},
   "source": [
    "如果你有兴趣，你也可以运行python manage.py check; 这可以检查项目中的任何问题，而无需进行迁移或触摸数据库。\n",
    "\n",
    "现在，再次运行迁移以在您的数据库中创建这些模型表：`$ python manage.py migrate`"
   ]
  },
  {
   "cell_type": "markdown",
   "metadata": {},
   "source": [
    "```\n",
    "I:\\FanGitHub\\mydjpro> python manage.py migrate\n",
    "Operations to perform:\n",
    "  Apply all migrations: admin, auth, contenttypes, polls, sessions\n",
    "Running migrations:\n",
    "  Applying polls.0001_initial... OK\n",
    "```"
   ]
  },
  {
   "cell_type": "markdown",
   "metadata": {},
   "source": [
    "migrate命令接受所有尚未应用的迁移（Django使用名为django_migrations的数据库中的特殊表追踪应用哪些迁移），并针对数据库运行它们 - 本质上，将您对带模式的模型所做的更改与数据库同步。\n",
    "\n",
    "迁移非常强大，随着时间的推移，您可以随时更改模型，而无需删除数据库或表并创建新的数据库 - 它专门用于实时升级数据库，而不会丢失数据。我们将在本教程的后面部分更深入地介绍它们，但现在请记住进行模型更改的三步指南：\n",
    "\n",
    "- 更改模型（在models.py中）。\n",
    "- 运行`python manage.py makemigrations`为这些更改创建迁移\n",
    "- 运行`python manage.py migrate`将这些更改应用到数据库。\n",
    "\n",
    "有单独的命令来进行和应用迁移的原因是因为您将迁移到您的版本控制系统并将它们与您的应用程序一起发送;它们不仅使您的开发更容易，而且还可以被其他开发人员和生产使用。\n",
    "\n",
    "阅读[django-admin文档](https://docs.djangoproject.com/en/2.0/ref/django-admin/)以获取有关manage.py实用程序可以执行的操作的完整信息。"
   ]
  },
  {
   "cell_type": "markdown",
   "metadata": {},
   "source": [
    "# 体验数据库API\n",
    "\n",
    "现在，让我们跳入交互式Python shell并使用Django提供的免费API。 要调用Python shell，请使用以下命令：\n",
    "\n",
    "`$ python manage.py shell`\n",
    "\n",
    "使用它而不是简单地键入“python”，因为manage.py设置了DJANGO_SETTINGS_MODULE环境变量，它使Django成为mysite / settings.py文件的Python导入路径。\n",
    "\n",
    "一旦你在shell中，探索数据库API："
   ]
  },
  {
   "cell_type": "markdown",
   "metadata": {},
   "source": [
    "```\n",
    "I:\\FanGitHub\\mydjpro> python manage.py shell\n",
    "Python 3.6.4 |Anaconda, Inc.| (default, Jan 16 2018, 10:22:32) [MSC v.1900 64 bit (AMD64)]\n",
    "Type 'copyright', 'credits' or 'license' for more information\n",
    "IPython 6.2.1 -- An enhanced Interactive Python. Type '?' for help.\n",
    "\n",
    "In [1]: from polls.models import Question, Choice\n",
    "\n",
    "In [2]: Question.objects.all()\n",
    "Out[2]: <QuerySet []>\n",
    "\n",
    "In [3]: from django.utils import timezone\n",
    "\n",
    "In [4]: q = Question(question_text=\"What's new?\", pub_date=timezone.now())\n",
    "\n",
    "In [5]: q.save()\n",
    "\n",
    "In [6]: q.id\n",
    "Out[6]: 1\n",
    "\n",
    "In [7]: q.question_text\n",
    "Out[7]: \"What's new?\"\n",
    "\n",
    "In [8]: q.pub_date\n",
    "Out[8]: datetime.datetime(2018, 5, 9, 1, 52, 0, 792992, tzinfo=<UTC>)\n",
    "\n",
    "In [9]: q.question_text = \"What's up?\"\n",
    "\n",
    "In [10]: q.save()\n",
    "\n",
    "In [11]: Question.objects.all()\n",
    "Out[11]: <QuerySet [<Question: Question object (1)>]>\n",
    "\n",
    "```"
   ]
  },
  {
   "cell_type": "markdown",
   "metadata": {},
   "source": [
    "`<Question: Question object (1)>`不是该对象的有用的友好表示。通过编辑`Question`模型（在`polls / models.py`文件中）并将`__str __（）`方法添加到Question和Choice中来解决这个问题："
   ]
  },
  {
   "cell_type": "markdown",
   "metadata": {},
   "source": [
    "**polls/models.py**\n",
    "```\n",
    "from django.db import models\n",
    "\n",
    "class Question(models.Model):\n",
    "    # ...\n",
    "    def __str__(self):\n",
    "        return self.question_text\n",
    "\n",
    "class Choice(models.Model):\n",
    "    # ...\n",
    "    def __str__(self):\n",
    "        return self.choice_text\n",
    "```"
   ]
  },
  {
   "cell_type": "markdown",
   "metadata": {},
   "source": [
    "将`__str __（）`方法添加到模型中很重要，不仅为了您在处理交互式提示时的方便，还因为在Django的自动生成的管理中使用了对象的表示。\n",
    "\n",
    "请注意，这些是普通的Python方法。 让我们添加一个自定义方法，仅供演示："
   ]
  },
  {
   "cell_type": "markdown",
   "metadata": {},
   "source": [
    "**polls/models.py**\n",
    "```\n",
    "import datetime\n",
    "\n",
    "from django.db import models\n",
    "from django.utils import timezone\n",
    "\n",
    "\n",
    "class Question(models.Model):\n",
    "    # ...\n",
    "    def was_published_recently(self):\n",
    "        return self.pub_date >= timezone.now() - datetime.timedelta(days=1)\n",
    "```"
   ]
  },
  {
   "cell_type": "markdown",
   "metadata": {},
   "source": [
    "请注意添加导入日期时间和django.utils导入时区，以分别引用Python的标准日期时间模块和Django的时区相关实用程序（分别为django.utils.timezone）。 如果您不熟悉Python中的时区处理，您可以在时区支持文档中了解更多信息。"
   ]
  },
  {
   "cell_type": "markdown",
   "metadata": {},
   "source": [
    "**现在`polls/models.py`文件如下：**\n",
    "\n",
    "```\n",
    "from django.db import models\n",
    "import datetime\n",
    "from django.utils import timezone\n",
    "\n",
    "# Create your models here.\n",
    "class Question(models.Model):\n",
    "    question_text = models.CharField(max_length=200)\n",
    "    pub_date = models.DateTimeField('date published')\n",
    "    \n",
    "    def __str__(self):\n",
    "        return self.question_text\n",
    "\n",
    "    def was_published_recently(self):\n",
    "        return self.pub_date >= timezone.now() - datetime.timedelta(days=1)\n",
    "\n",
    "class Choice(models.Model):\n",
    "    question = models.ForeignKey(Question, on_delete=models.CASCADE)\n",
    "    choice_text = models.CharField(max_length=200)\n",
    "    votes = models.IntegerField(default=0)\n",
    "    \n",
    "    def __str__(self):\n",
    "        return self.choice_text\n",
    "```\n"
   ]
  },
  {
   "cell_type": "markdown",
   "metadata": {},
   "source": [
    "保存这些更改并再次运行python manage.py shell来启动一个新的Python交互式shell："
   ]
  },
  {
   "cell_type": "markdown",
   "metadata": {},
   "source": [
    "```\n",
    ">>> from polls.models import Question, Choice\n",
    "\n",
    "# Make sure our __str__() addition worked.\n",
    ">>> Question.objects.all()\n",
    "<QuerySet [<Question: What's up?>]>\n",
    "\n",
    "# Django provides a rich database lookup API that's entirely driven by\n",
    "# keyword arguments.\n",
    ">>> Question.objects.filter(id=1)\n",
    "<QuerySet [<Question: What's up?>]>\n",
    ">>> Question.objects.filter(question_text__startswith='What')\n",
    "<QuerySet [<Question: What's up?>]>\n",
    "\n",
    "# Get the question that was published this year.\n",
    ">>> from django.utils import timezone\n",
    ">>> current_year = timezone.now().year\n",
    ">>> Question.objects.get(pub_date__year=current_year)\n",
    "<Question: What's up?>\n",
    "\n",
    "# Request an ID that doesn't exist, this will raise an exception.\n",
    ">>> Question.objects.get(id=2)\n",
    "Traceback (most recent call last):\n",
    "    ...\n",
    "DoesNotExist: Question matching query does not exist.\n",
    "\n",
    "# Lookup by a primary key is the most common case, so Django provides a\n",
    "# shortcut for primary-key exact lookups.\n",
    "# The following is identical to Question.objects.get(id=1).\n",
    ">>> Question.objects.get(pk=1)\n",
    "<Question: What's up?>\n",
    "\n",
    "# Make sure our custom method worked.\n",
    ">>> q = Question.objects.get(pk=1)\n",
    ">>> q.was_published_recently()\n",
    "True\n",
    "\n",
    "# Give the Question a couple of Choices. The create call constructs a new\n",
    "# Choice object, does the INSERT statement, adds the choice to the set\n",
    "# of available choices and returns the new Choice object. Django creates\n",
    "# a set to hold the \"other side\" of a ForeignKey relation\n",
    "# (e.g. a question's choice) which can be accessed via the API.\n",
    ">>> q = Question.objects.get(pk=1)\n",
    "\n",
    "# Display any choices from the related object set -- none so far.\n",
    ">>> q.choice_set.all()\n",
    "<QuerySet []>\n",
    "\n",
    "# Create three choices.\n",
    ">>> q.choice_set.create(choice_text='Not much', votes=0)\n",
    "<Choice: Not much>\n",
    ">>> q.choice_set.create(choice_text='The sky', votes=0)\n",
    "<Choice: The sky>\n",
    ">>> c = q.choice_set.create(choice_text='Just hacking again', votes=0)\n",
    "\n",
    "# Choice objects have API access to their related Question objects.\n",
    ">>> c.question\n",
    "<Question: What's up?>\n",
    "\n",
    "# And vice versa: Question objects get access to Choice objects.\n",
    ">>> q.choice_set.all()\n",
    "<QuerySet [<Choice: Not much>, <Choice: The sky>, <Choice: Just hacking again>]>\n",
    ">>> q.choice_set.count()\n",
    "3\n",
    "\n",
    "# The API automatically follows relationships as far as you need.\n",
    "# Use double underscores to separate relationships.\n",
    "# This works as many levels deep as you want; there's no limit.\n",
    "# Find all Choices for any question whose pub_date is in this year\n",
    "# (reusing the 'current_year' variable we created above).\n",
    ">>> Choice.objects.filter(question__pub_date__year=current_year)\n",
    "<QuerySet [<Choice: Not much>, <Choice: The sky>, <Choice: Just hacking again>]>\n",
    "\n",
    "# Let's delete one of the choices. Use delete() for that.\n",
    ">>> c = q.choice_set.filter(choice_text__startswith='Just hacking')\n",
    ">>> c.delete()\n",
    "```"
   ]
  },
  {
   "cell_type": "markdown",
   "metadata": {},
   "source": [
    "有关模型关系的更多信息，请参阅访[Accessing related objects](https://docs.djangoproject.com/en/2.0/ref/models/relations/)。 有关如何使用双下划线通过API执行字段查找的更多信息，请参阅[Field lookups](https://docs.djangoproject.com/en/2.0/topics/db/queries/#field-lookups-intro)。 有关数据库API的完整详细信息，请参阅[Database API reference](https://docs.djangoproject.com/en/2.0/topics/db/queries/)。"
   ]
  },
  {
   "cell_type": "markdown",
   "metadata": {},
   "source": []
  }
 ],
 "metadata": {
  "kernelspec": {
   "display_name": "Python 3",
   "language": "python",
   "name": "python3"
  },
  "language_info": {
   "codemirror_mode": {
    "name": "ipython",
    "version": 3
   },
   "file_extension": ".py",
   "mimetype": "text/x-python",
   "name": "python",
   "nbconvert_exporter": "python",
   "pygments_lexer": "ipython3",
   "version": "3.6.4"
  }
 },
 "nbformat": 4,
 "nbformat_minor": 2
}
