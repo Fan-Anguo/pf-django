{
 "cells": [
  {
   "cell_type": "markdown",
   "metadata": {},
   "source": [
    "# 1.创建项目：\n",
    "\n",
    "`Django-admin startproject pyforest`"
   ]
  },
  {
   "cell_type": "markdown",
   "metadata": {},
   "source": [
    "# 2.创建app\n",
    "\n",
    "```\n",
    "cd pyforest\n",
    "\n",
    "python manage.py startapp blog\n",
    "```"
   ]
  },
  {
   "cell_type": "markdown",
   "metadata": {},
   "source": [
    "# 3.创建app的urls.py\n",
    "\n",
    "在blog文件下，创建一个`urls.py`文件。"
   ]
  },
  {
   "cell_type": "markdown",
   "metadata": {},
   "source": [
    "**目录结构如下**\n",
    "```\n",
    "I:.\\pyforest\n",
    "│  db.sqlite3\n",
    "│  manage.py\n",
    "│\n",
    "├─blog\n",
    "│  │  admin.py\n",
    "│  │  apps.py\n",
    "│  │  models.py\n",
    "│  │  tests.py\n",
    "│  │  urls.py\n",
    "│  │  views.py\n",
    "│  │  __init__.py\n",
    "│ \n",
    "└─pyforest\n",
    "    │  settings.py\n",
    "    │  urls.py\n",
    "    │  wsgi.py\n",
    "    │  __init__.py\n",
    "```"
   ]
  },
  {
   "cell_type": "markdown",
   "metadata": {},
   "source": [
    "`.\\pyforest`是项目存放网站项目、app、管理文件等所有东西的根目录。这个目录实际上与项目无关，创建好后，可以为其它名字。为了便于说明操作目录，将这个目录重命名为`pyforest_root`。\n",
    "\n",
    "`blog`是 app 包，与app相关的文件都存放在这里。\n",
    "\n",
    "`.\\pyforest\\pyforest\\`目录是真正的项目包目录，项目配置文件、访问路径配置文件`urls.py`(URLConf)等放在这里。\n",
    "\n",
    "**改名后的目录结构如下：**\n",
    "```\n",
    "I:.\\pyforest_root\n",
    "│  db.sqlite3\n",
    "│  manage.py\n",
    "│\n",
    "├─blog\n",
    "│  │  admin.py\n",
    "│  │  apps.py\n",
    "│  │  models.py\n",
    "│  │  tests.py\n",
    "│  │  urls.py\n",
    "│  │  views.py\n",
    "│  │  __init__.py\n",
    "│ \n",
    "└─pyforest\n",
    "    │  settings.py\n",
    "    │  urls.py\n",
    "    │  wsgi.py\n",
    "    │  __init__.py\n",
    "```\n",
    "`pyforest_root`是项目所有内容的存放目录，启动服务、数据操作多数在这个目录下；\n",
    "\n",
    "`pyforest_root\\pyforest`是真正的项目包目录，项目的配置、项目一级路由的定义在这个目录下面；\n",
    "\n",
    "`pyforest_root\\blog`是`blog`app目录，与该app相关的模型、二级路由、视图等文件放在这个目录下面。"
   ]
  },
  {
   "cell_type": "markdown",
   "metadata": {},
   "source": [
    "# 4.配置app\n",
    "\n",
    "一个app实际就是网站的一个功能块，比如blog文章、评论、新闻版块。\n",
    "\n",
    "创建了`blog` app，需要在项目配置中告知项目，要使用这个app，也就是在`pyforest/setting.py`中设置`INSTALLED_APPS`选项。\n",
    "\n",
    "```\n",
    "INSTALLED_APPS = [\n",
    "    'django.contrib.admin',\n",
    "    'django.contrib.auth',\n",
    "    'django.contrib.contenttypes',\n",
    "    'django.contrib.sessions',\n",
    "    'django.contrib.messages',\n",
    "    'django.contrib.staticfiles',\n",
    "\n",
    "    'blog',\n",
    "]\n",
    "```\n",
    "`INSTALLED_APPS`选项是一个列表，每个app的名称字符串（可能包含点路径）是列表的一个元素，默认已加载一些系统自带的app。'blog'添加到列表中即可，记得在最后添加列表分隔符 ','。"
   ]
  },
  {
   "cell_type": "markdown",
   "metadata": {},
   "source": [
    "# 5.编写第一个视图\n",
    "\n",
    "视图实际就是一个python函数，它接受一个web请求，返回一个网页响应。\n",
    "\n",
    "多数视图应该属于某个app，因此视图函数多数都保存在对应app下的某个`.py`文件中，即保存在一个pyhton模块中。\n",
    "\n",
    "在创建app时，会默认在app目录下创建一个`views.py`文件，惯例是与这个app相关的视图（函数）都保存在这个文件中，本质上`views.py`就是一个python模块，每个函数就是这个模块的一个属性。\n",
    "\n",
    "通过导入`views`模块，就可以调用定义好的视图函数了。"
   ]
  },
  {
   "cell_type": "markdown",
   "metadata": {},
   "source": [
    "HTTP 协议的通信核心，无非就是请求内容和响应内容之间的交互。而请求内容由客户端生成，也就是用户的浏览器；响应内容则由服务器生成，作为web应用的开发者，大多数工作就是构造一个合适的响应内容。\n",
    "\n",
    "在 django 中，请求内容已经被封装成了 HttpRequest 对象，该对象的创建是自动的，且会传递给视图函数作为第一个参数。\n",
    "\n",
    "而 HttpResponse 对象则需要 web 开发者自己创建，一般在视图函数中 return 回去。\n",
    "\n",
    "我们在`blog`目录下的`views.py`文件中创建一个视图简单的视图函数：\n",
    "```\n",
    "from django.http import HttpResponse\n",
    "import datetime\n",
    "\n",
    "def current_datetime(request):\n",
    "    now = datetime.datetime.now()\n",
    "    html = \"<html><body>It is now %s.</body></html>\" % now\n",
    "    return HttpResponse(html)\n",
    "```\n",
    "这个视图函数命名为`current_datetime`，视图函数的命名只要遵守Python函数命名规则即可，但我们应该尽可能地给出一个友好的名字，即能尽可能地表达出该视图函数的作用。比如`current_datetime`即表示该视图函数用于返回当前的时间。\n",
    "\n",
    "视图函数需要引用 django.http 模块中的HttpResponse构造函数，这个构造函数将参数转换后反馈给视图函数。\n",
    "\n",
    "视图函数`current_datetime`的第一个参数（习惯性使用request）是由Django封装的HttpRequest函数根据客户端的请求自动创建并传递进来的。\n",
    "\n",
    "引用python的内置函数datetime，返回当前的时间。\n",
    "\n",
    "`HttpRequest`将当前时间作为响应反馈给视图函数`current_datetime`."
   ]
  },
  {
   "cell_type": "markdown",
   "metadata": {},
   "source": [
    "# 6.将url映射到视图"
   ]
  },
  {
   "cell_type": "markdown",
   "metadata": {},
   "source": [
    "上面的视图返回一个显示当前日期和时间的页面，要调用这个页面，需要在客户端的请求与这个视图之间建立映射。\n",
    "\n",
    "一个网站有很多视图（即页面），要让客户准确找到对应的视图，需要在请求与视图之间建立一对一的映射关系。\n",
    "\n",
    "假如要把上面的视图作为网站的首页来显示，即客户访问根网址时，就显示这个视图，需要进行url配置，即设置URLConf。\n",
    "\n",
    "在创建网站项目时，默认会在项目的包目录`pyforest`下创建一个`urls.py`模块，并且会将项目的`settings.py`的`ROOT_URLCONF`项设置为该目录的值 ：\n",
    "\n",
    "`ROOT_URLCONF = 'pyforest.urls'`\n",
    "\n",
    "即Django默认要使用的根URLconf模块是`pytforest.urls`。\n",
    "\n",
    "但是如果传入的HttpRequest对象具有urlconf属性（由中间件设置），则其值将用于替代ROOT_URLCONF设置。\n",
    "\n",
    "`Django`支持多级路由，这让分块存放、管理网站的文件提供了方便，即一个app的相关文件都放在app包目录下面，在本例中，与`blog`相关的文件，如视图、urlconf、模型文件等都放在`blog`目录下面。"
   ]
  },
  {
   "cell_type": "markdown",
   "metadata": {},
   "source": [
    "## 定义二级路由\n",
    "\n",
    "先在`blog`目录中创建一个`urls.py`文件(记住，它就是一个模块)，`blog`相关视图与请求之间的映射都在这个文件中定义。\n",
    "\n",
    "在`blog\\urls.py`文件中写入如下代码："
   ]
  },
  {
   "cell_type": "markdown",
   "metadata": {},
   "source": [
    "```\n",
    "from . import views\n",
    "from django.urls import path\n",
    "\n",
    "urlpatterns = [\n",
    "   path('', views.current_datetime, name='current_datetime'),\n",
    "]\n",
    "```"
   ]
  },
  {
   "cell_type": "markdown",
   "metadata": {},
   "source": [
    "- 因为目标视图是`views`模块里的函数，所以要先导入这个模块。\n",
    "- django.urls模块中的path函数用于在请求与视图之间建立映射路径。\n",
    "- urlpatterns是一个Python列表，path() 实例是列表的元素，每一个实例定义一个请求与视图之间的映射关系。\n",
    "- 上述代码将根目录请求映射到`views.current_datetime`视图。\n",
    "\n",
    "**path()**\n",
    "\n",
    "`path(route, view, kwargs=None, name=None)`\n",
    "\n",
    "**route** \n",
    "\n",
    "route参数必须是包含URL模式的字符串或gettext_lazy（）（请参阅[Translating URL patterns](https://docs.djangoproject.com/zh-hans/2.0/topics/i18n/translation/#translating-urlpatterns)）。该字符串可能包含尖括号（如上面的<username>）来捕获部分URL并将其作为关键字参数发送到视图。尖括号可以包含一个转换器规范（如<int：section>的int部分），它可以限制匹配的字符，还可以改变传递给视图的变量的类型。 例如，<int：section>匹配一串十进制数字并将该值转换为一个int。 有关更多详细信息，请参阅Django如何处理一个请求。\n",
    "\n",
    "**view**\n",
    "\n",
    "view参数是一个视图函数或as_view（）对基于类的视图的结果。它也可以是一个django.urls.include（）。\n",
    "\n",
    "**kwargs**\n",
    "\n",
    "kwargs参数允许您将其他参数传递给视图函数或方法。有关示例，请参阅传递额外选项以查看函数。\n",
    "\n",
    "**name**\n",
    "\n",
    "请参阅命名URL模式以了解名称参数为何有用。"
   ]
  },
  {
   "cell_type": "markdown",
   "metadata": {},
   "source": [
    "## 在一级路由中定向到二级路由\n",
    "\n",
    "由于Django默认设置请求首先访问项目包目录下的`urls`模块：\n",
    "\n",
    "`ROOT_URLCONF = 'pyforest.urls'`\n",
    "\n",
    "所以需要在这个一级路由中包括二级路由，即从一级定向到目标二级路由。\n",
    "\n",
    "修改`pyforest.urls`模块：\n",
    "\n",
    "```\n",
    "from django.urls import include, path\n",
    "\n",
    "urlpatterns = [\n",
    "    path('',include('blog.urls')),\n",
    "   ]\n",
    "```"
   ]
  },
  {
   "cell_type": "markdown",
   "metadata": {},
   "source": [
    "`path()`参数的第二个参数，可以是`django.urls.include（）`函数，include()函数可以以一个路由模块为参数，将请求转向到另一个路由模块去处理。\n",
    "\n",
    "这里将对根网站的访问，重定向到`blog.urls`模块去处理。\n",
    "\n",
    "**过程如下：**\n",
    "\n",
    "1. 用户在浏览器访问网站的根目录，在本机开发就是：http://127.0.0.1:8000/；\n",
    "2. Django默认调用`pytforest.urls`模块来处理客户端的请求；\n",
    "3. `pytforest.urls`模块中的urlpatterns中路由列表，对根目录的访问指向二级路由`blog.urls`；\n",
    "4. Django重定向到`blog.urls`模块，继续处理；\n",
    "5. `blog.urls`中的urlpatterns将对根目录（path（）的第一个参数是空的）的请求映射到`views.current_datetime`视图；\n",
    "6. `views.current_datetime`视图函数返回当前的日期和时间作为网页的内容。"
   ]
  },
  {
   "cell_type": "markdown",
   "metadata": {},
   "source": [
    "**include()**\n",
    "**include(module, namespace=None)[source]**\n",
    "**include(pattern_list)**\n",
    "**include((pattern_list, app_namespace), namespace=None)**\n",
    "\n",
    "include()函数，将一个完整的Python导入路径带到另一个被“include”的URLconf模块。（可选）也可以指定条目将包含到的应用程序名称空间和实例名称空间。\n",
    "\n",
    "**include()的主要功能就是将当前的路由路径重定向到include()函数参数传入的另一个URLconf模块。**\n",
    "\n",
    "通常，应用程序名称空间应该由包含的模块指定。如果设置了应用程序名称空间，则可以使用名称空间参数来设置不同的实例名称空间。\n",
    "\n",
    "include（）还接受作为参数的一个返回URL模式的迭代或包含这种迭代的2元组加上应用程序命名空间的名称。\n",
    "\n",
    "**参数：**\n",
    "- module - URLconf模块（或模块名称）\n",
    "- namespace（str） - 包含的URL条目的实例名称空间\n",
    "- pattern_list - 路径（）和/或re_path（）实例的Iterable。\n",
    "- app_namespace（str） - 包含的URL条目的应用程序名称空间"
   ]
  },
  {
   "cell_type": "markdown",
   "metadata": {},
   "source": [
    "## 修改请求，进一步验证请求与响应的关系\n",
    "\n",
    "修改`pyforest.urls`和`blog.urls`的路由定义，将path()函数的第一个参数由空改为`'dt'`。\n",
    "\n",
    "访问http://127.0.0.1:8000 将会出现Page not found (404)错误。\n",
    "\n",
    "如果访问http://127.0.0.1:8000/dt ，就又能返回显示当前日期和时间的网页了。\n",
    "\n",
    "现在就很清楚，Django的路由路径调度的思路是怎样的了，至于各种变化慢慢来。"
   ]
  },
  {
   "cell_type": "markdown",
   "metadata": {},
   "source": [
    "# HttpResponse类\n",
    "\n",
    "HTTP 协议的通信核心，无非就是请求报文和响应报文之间的交互。而请求报文由客户端生成，也就是用户的浏览器；响应报文则由服务器生成，作为web应用的开发者，大多数工作就是构造一个合适的响应报文。在 django 中，请求报文已经被封装成了 HttpRequest 对象，该对象的创建是自动的，且会传递给视图函数作为第一个参数。而 HttpResponse 对象则需要 web 开发者自己创建，一般在视图函数中 return 回去。下面我们就来看看 HttpResponse 对象的各种细节。\n",
    "\n",
    "首先，这个对象由 HttpResponse 类创建，这个类位于 django.http 模块中，所以在使用的时候还先从模块中导入这个类。\n",
    "\n",
    "例如：\n",
    "\n",
    "`from django.http import HttpResponse`\n",
    "\n",
    "然后，我们需要知道传递什么参数，这个时候先看看其构造函数是怎么样的。\n",
    "  \n",
    "`HttpResponse.__init__(content='', content_type=None, status=200, reason=None, charset=None) `\n",
    "\n",
    "　　**content**：可以是一个迭代器或字符串。如果是一个迭代器，HttpResponse 将立即处理这个迭代器, 把它的内容转成字符串，并丢弃这个迭代器。如果你需要从迭代器到客户端的数据响应以数据流的形式, 你必须用 StreamingHttpResponse 类代替；如果是一个字符串（迭代器处理后的或手动传入的），那么这个字符串将作为相应报文的主体内容，也就是说如果是一个 http 文档，那么这个文档将会放入响应报文的主体中，最后在浏览器中显示，这也是最为常用的方式之一。\n",
    "\n",
    "　　**content_type**：用于指定 MIME 类型和编码，例如：“text/html; charset=utf-8”。客户端需要知道主体是什么类型的资源，才能调用相应的插件或内置的程序去处理。如果不传入，也就是为 None 时，将使用 DEFAULT_CONTENT_TYPE 的值来指定 MIME 类型，这个值默认为：'text/html';使用 DEFAULT_CHARSET 的值来指定文件编码，默认为：'utf-8'。\n",
    "\n",
    "　　**status**：响应状态码，200代表成功，一般不需要改变，除非有特殊要求。\n",
    "\n",
    "　　**reason**：原因短语，也就是 200 ok 中的 ‘ok’，因为客户端是根据状态码来判断响应是否成功的，所以 reason 的影响几乎为 0 ，只是对人的提醒而已。如果没有指定, 则使用默认响应短语。也就是 200 就对应于 ok，404 就对应于 not found。\n",
    "\n",
    "　　**charset**：在response中被编码的字符集。如果没有给定（也就是为None），将会从 content_type 中提取，如果提取不成功， 那么 DEFAULT_CHARSET 的设定将被使用。"
   ]
  },
  {
   "cell_type": "markdown",
   "metadata": {},
   "source": [
    "## 直接在一级路由中访问app中的视图\n",
    "\n",
    "我们完全可以在一级路由，即`pyforest.urls`文件中定义路径映射，直接在一级路由中就访问`blog.views`视图。\n",
    "\n",
    "修改`pyforest.urls`文件如下：\n",
    "\n",
    "```\n",
    "from django.urls import include, path\n",
    "import sys\n",
    "sys.path.append(\"..\")\n",
    "import blog\n",
    "from blog import views\n",
    "\n",
    "urlpatterns = [\n",
    "\n",
    "     path('',views.current_datetime, name=\"current_datetime\"),\n",
    "     \n",
    "   ]\n",
    "```"
   ]
  },
  {
   "cell_type": "markdown",
   "metadata": {},
   "source": [
    "在pyforest.urls中要访问blog.views中的模块，首先需要导入python的sys模块，扩展python的系统路径，即将主文件的父目录添加到系统路径中。\n",
    "\n",
    "再导入`blog`包，再从包中导入视图函数所在的模块`views`，这样就可以直接从项目的一级URLconf访问app中的视图了。"
   ]
  },
  {
   "cell_type": "markdown",
   "metadata": {},
   "source": [
    "# 访问保存在项目包目录下的视图模块\n",
    "\n",
    "在项目包的根目录`pyforest`目录下创建一个`views00.py`文件，输入如下代码：\n",
    "\n",
    "```\n",
    "from django.http import HttpResponse\n",
    "import datetime\n",
    "\n",
    "def current_datetime(request):\n",
    "    now = datetime.datetime.now()\n",
    "    html = \"<html><body>现在时间是：%s.</body></html>\" % now\n",
    "    return HttpResponse(html)\n",
    "```\n",
    "为了清晰地知道针对相同的请求，urlconf是怎样映射到不同的视图的，仅把代码中的html变量中的`It is now`替换为'现在的时间是：'，即：\n",
    "\n",
    "`html = \"<html><body>It is now %s.</body></html>\" % now`\n",
    "\n",
    "修改为\n",
    "\n",
    "`html = \"<html><body>现在的时间是：%s.</body></html>\" % now`"
   ]
  },
  {
   "cell_type": "markdown",
   "metadata": {},
   "source": [
    "将`pyforest.urls`修改如下：\n",
    "\n",
    "```\n",
    "from django.urls import include, path\n",
    "from . import views00\n",
    "\n",
    "urlpatterns = [\n",
    "\n",
    "   path('', views00.current_datetime, name='current_datetime'),\n",
    "  \n",
    "   ]\n",
    "```"
   ]
  },
  {
   "cell_type": "markdown",
   "metadata": {},
   "source": [
    "启动Django服务，就会显示内容为\n",
    "\n",
    "“现在时间是：2018-06-14 14:56:54.075027.” 的页面。"
   ]
  },
  {
   "cell_type": "markdown",
   "metadata": {},
   "source": [
    "综上所述：\n",
    "\n",
    "- Django支持多级路由，即url路径的不断重定向，使用include()函数定向到二级路由；\n",
    "- 路由路径URLconf实际就是一个模块，使用Django内置的django.ruls.path()函数，建立请求与视图函数的一一映射关系；\n",
    "- URLconf模块既可以使用符合python命名规范的任意名字，也可以保存在任意目录下。但习惯命名为`urls.py`，并保存在各个app目录下。以保持清晰的文件组织结构；\n",
    "- 视图函数保存在一个模块中，这个模块同样使用符合命名规范的名字即可，也可以保存在任意目录下。但习惯命名为`views.py`，并保存在各个app目录下。"
   ]
  },
  {
   "cell_type": "markdown",
   "metadata": {},
   "source": []
  },
  {
   "cell_type": "markdown",
   "metadata": {},
   "source": []
  },
  {
   "cell_type": "markdown",
   "metadata": {},
   "source": []
  },
  {
   "cell_type": "markdown",
   "metadata": {},
   "source": []
  },
  {
   "cell_type": "markdown",
   "metadata": {},
   "source": []
  }
 ],
 "metadata": {
  "kernelspec": {
   "display_name": "Python 3",
   "language": "python",
   "name": "python3"
  },
  "language_info": {
   "codemirror_mode": {
    "name": "ipython",
    "version": 3
   },
   "file_extension": ".py",
   "mimetype": "text/x-python",
   "name": "python",
   "nbconvert_exporter": "python",
   "pygments_lexer": "ipython3",
   "version": "3.6.4"
  }
 },
 "nbformat": 4,
 "nbformat_minor": 2
}
