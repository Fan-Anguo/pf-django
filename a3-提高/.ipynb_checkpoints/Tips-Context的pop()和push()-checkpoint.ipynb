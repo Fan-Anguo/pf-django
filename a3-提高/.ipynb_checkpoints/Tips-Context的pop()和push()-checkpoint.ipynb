{
 "cells": [
  {
   "cell_type": "markdown",
   "metadata": {},
   "source": [
    "Context对象的pop()和push()方法\n",
    "===="
   ]
  },
  {
   "cell_type": "markdown",
   "metadata": {},
   "source": [
    "Context对象是一个 Stack（堆栈），实现了一个先进后出的数据结构。它有两个方法:\n",
    "\n",
    "- Context.pop()，移除栈顶（序列的最后一个）元素，pop, 取出。\n",
    "- Context.push()，在栈顶（序列的最后位置）增加元素，push, 增加。"
   ]
  },
  {
   "cell_type": "markdown",
   "metadata": {},
   "source": [
    "# push()\n",
    "\n",
    "```\n",
    "In [1]: from django.template import Context\n",
    "\n",
    "In [2]: c = Context()\n",
    "\n",
    "In [3]: c\n",
    "Out[3]: [{'True': True, 'False': False, 'None': None}]\n",
    "# 可以看出，Context对象是一个列表，字典是列表的每个元素；\n",
    "# Context列表的第一个字典有三个默认的头部元素--键、值对。\n",
    "# Context是一个列表式堆栈\n",
    "\n",
    "In [5]: c['mik']='111'  # 使用context['key']的形式添加一个字典键、值对\n",
    "\n",
    "In [6]: c\n",
    "Out[6]: [{'True': True, 'False': False, 'None': None, 'mik': '111'}]\n",
    "# 注意这种方式是将键值对添加到Context对象列表的最后一个字典\n",
    "\n",
    "In [7]: c.push({'mik':'222'}) #Context的push()方法是在列表中后面（堆栈的顶端）添加一个字典。\n",
    "Out[7]: {'mik': '222'}\n",
    "\n",
    "In [8]: c\n",
    "Out[8]: [{'True': True, 'False': False, 'None': None, 'mik': '111'}, {'mik': '222'}]\n",
    "# 注意后面新增的字典\n",
    "\n",
    "In [9]: c.push({'mik':'333'}) #再使用push()方法添加一个字典\n",
    "Out[9]: {'mik': '333'}\n",
    "\n",
    "In [10]: c\n",
    "Out[10]: [{'True': True, 'False': False, 'None': None, 'mik': '111'}, {'mik': '222'}, {'mik': '333'}]\n",
    "\n",
    "In [11]: c['mik']='444' \n",
    "#使用Context('key')函数给key赋值，如果在堆栈顶部字典中存在这个key，就修改它的值，否则在顶部字典中添加一个键值对\n",
    "\n",
    "In [12]: c\n",
    "Out[12]: [{'True': True, 'False': False, 'None': None, 'mik': '111'}, {'mik': '222'}, {'mik': '444'}]\n",
    "\n",
    "In [13]: c['notmik']='555' #堆栈顶的字典中没有这个key，就将新键值对添加进去\n",
    "\n",
    "In [14]: c\n",
    "Out[14]: [{'True': True, 'False': False, 'None': None, 'mik': '111'}, {'mik': '222'}, {'mik': '444', 'notmik': '555'}]\n",
    "# 注意最后一个字典中新增的元素\n",
    "\n",
    "\n",
    "In [15]: c['mik']='333' \n",
    "#如果在Context列表堆栈的多个字典中有重名的key，只能修改靠近堆栈顶部的同名key的值。\n",
    "\n",
    "In [16]: c\n",
    "Out[16]: [{'True': True, 'False': False, 'None': None, 'mik': '111'}, {'mik': '222'}, {'mik': '333', 'notmik': '555'}]\n",
    "```"
   ]
  },
  {
   "cell_type": "markdown",
   "metadata": {},
   "source": [
    "# pop()\n",
    "\n",
    "```\n",
    "In [17]: c.pop() #pop()方法移除栈顶，即序列的最后一个元素。\n",
    "Out[17]: {'mik': '333', 'notmik': '555'}\n",
    "\n",
    "In [18]: c\n",
    "Out[18]: [{'True': True, 'False': False, 'None': None, 'mik': '111'}, {'mik': '222'}]\n",
    "\n",
    "In [19]: c['mik']='changed' #修改栈顶的'mik'的值。\n",
    "\n",
    "In [20]: c\n",
    "Out[20]: [{'True': True, 'False': False, 'None': None, 'mik': '111'}, {'mik': 'changed'}]\n",
    "\n",
    "In [21]: c.pop() #再执行一次pop()\n",
    "Out[21]: {'mik': 'changed'}\n",
    "\n",
    "In [22]: c.pop() \n",
    "\n",
    "#当执行pop()的次数多于push()次数时，触发ContextPopException异常\n",
    "#注意，实际上是：Context对象实例化时，会创建一个默认字典元素，这个字典是不能通过pop()方法移除的。\n",
    "---------------------------------------------------------------------------\n",
    "ContextPopException                       Traceback (most recent call last)\n",
    "<ipython-input-22-c53a93bfccc7> in <module>()\n",
    "----> 1 c.pop()\n",
    "\n",
    "C:\\Anaconda3\\envs\\Anaconda3\\lib\\site-packages\\django\\template\\context.py in pop(self)\n",
    "     57     def pop(self):\n",
    "     58         if len(self.dicts) == 1:\n",
    "---> 59             raise ContextPopException\n",
    "     60         return self.dicts.pop()\n",
    "     61\n",
    "\n",
    "ContextPopException:\n",
    "```"
   ]
  },
  {
   "cell_type": "markdown",
   "metadata": {},
   "source": [
    "# 怎样修改堆栈下面的同名key值？\n",
    "\n",
    "前面的例子中有多个字典，每个字典中都有一个同名的'mik'键，`Context('key') = '***'`的方法只能修改栈顶那个key的值，怎样修改下面指定位置的key的值呢？\n",
    "\n",
    "目前我还没有找到方法，有知道的，请指教！"
   ]
  },
  {
   "cell_type": "markdown",
   "metadata": {},
   "source": [
    "Context对象虽然是一个列表堆栈，但它与列表不同，它只能通过键来操作键、值（添加修改），并且`Context('key') = '***'`这种方法只能访问栈顶的字典。如果栈顶字典中'key'存在，就修改它的值，如果不存在就添加一个键值对到栈顶字典中。\n",
    "\n",
    "也就是说，只有栈顶的字典是可操作的。"
   ]
  },
  {
   "cell_type": "markdown",
   "metadata": {},
   "source": [
    "```\n",
    "In [60]: c\n",
    "Out[60]: [{'True': True, 'False': False, 'None': None, 'mik': '000', 'diffkey': 'diff'}, {'mik': '111'}]\n",
    "# 注意这个Context对象c，它有两个字典元素，有一个同名的'mik'键\n",
    "\n",
    "In [61]: c['mik']='changed' #修改栈顶的'mik'值\n",
    "\n",
    "In [62]: c\n",
    "Out[62]: [{'True': True, 'False': False, 'None': None, 'mik': '000', 'diffkey': 'diff'}, {'mik': 'changed'}]\n",
    "\n",
    "In [63]: c['diffkey']='changed' \n",
    "# 注意虽然前面字典中有一个'diffkey'，但不会修改它。因栈顶字典没有'diffkey'，会在其中添加一个。\n",
    "\n",
    "In [64]: c\n",
    "Out[64]: [{'True': True, 'False': False, 'None': None, 'mik': '000', 'diffkey': 'diff'}, {'mik': 'changed', 'diffkey': 'changed'}]\n",
    "```"
   ]
  },
  {
   "cell_type": "code",
   "execution_count": null,
   "metadata": {},
   "outputs": [],
   "source": []
  }
 ],
 "metadata": {
  "kernelspec": {
   "display_name": "Python 3",
   "language": "python",
   "name": "python3"
  },
  "language_info": {
   "codemirror_mode": {
    "name": "ipython",
    "version": 3
   },
   "file_extension": ".py",
   "mimetype": "text/x-python",
   "name": "python",
   "nbconvert_exporter": "python",
   "pygments_lexer": "ipython3",
   "version": "3.6.4"
  }
 },
 "nbformat": 4,
 "nbformat_minor": 2
}
