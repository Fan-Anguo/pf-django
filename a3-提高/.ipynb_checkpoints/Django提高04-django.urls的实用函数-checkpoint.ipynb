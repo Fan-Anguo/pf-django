{
 "cells": [
  {
   "cell_type": "markdown",
   "metadata": {},
   "source": [
    "Django提高04\n",
    "====\n",
    "**django.urls模块的实用函数**"
   ]
  },
  {
   "cell_type": "markdown",
   "metadata": {},
   "source": [
    "如果您需要在代码中使用类似于url模板标记的内容，Django提供以下功能："
   ]
  },
  {
   "cell_type": "markdown",
   "metadata": {},
   "source": [
    "# reverse()\n",
    "\n",
    "**`reverse(viewname, urlconf=None, args=None, kwargs=None, current_app=None)[source]`**\n",
    "\n",
    "该函数的作用是逆向查找（解析）视图函数映射的url，查找出来的 url 值可以作为其它用作其它函数、表单等的参数。\n",
    "\n",
    "viewname 可以是URL模式名称或可调用视图的对象。例如，给定以下url："
   ]
  },
  {
   "cell_type": "markdown",
   "metadata": {},
   "source": [
    "```\n",
    "from news import views\n",
    "\n",
    "path('archive/', views.archive, name='news-archive')\n",
    "```"
   ]
  },
  {
   "cell_type": "markdown",
   "metadata": {},
   "source": [
    "您可以使用下面两种方法的一种来逆向解析网址："
   ]
  },
  {
   "cell_type": "markdown",
   "metadata": {},
   "source": [
    "```\n",
    "# using the named URL\n",
    "reverse('news-archive')\n",
    "\n",
    "# passing a callable object\n",
    "# (This is discouraged because you can't reverse namespaced views this way.)\n",
    "from news import views\n",
    "reverse(views.archive)\n",
    "```"
   ]
  },
  {
   "cell_type": "markdown",
   "metadata": {},
   "source": [
    "如果URL接受参数，您可以在args中传递它们。例如：\n",
    "```\n",
    "from django.urls import reverse\n",
    "\n",
    "def myview(request):\n",
    "    return HttpResponseRedirect(reverse('arch-summary', args=[1945]))\n",
    "    ```"
   ]
  },
  {
   "cell_type": "markdown",
   "metadata": {},
   "source": [
    "可以传递 kwargs 代替 传递 args，例如：\n",
    "\n",
    "```\n",
    ">>> reverse('admin:app_list', kwargs={'app_label': 'auth'})\n",
    "'/admin/auth/'\n",
    "```"
   ]
  },
  {
   "cell_type": "markdown",
   "metadata": {},
   "source": [
    "不能同时传递 args 和 kwargs 给reverse()。\n",
    "\n",
    "如果不能匹配，则 reverse() 引发 NoReverseMatch异常。\n",
    "\n",
    "reverse() 函数可以逆向解析 URL 的各种正则表达式模式，但不是每个可能的模式。目前的主要限制是模式不能包含使用竖线（“|”）字符的替代选择。您可以非常愉快地使用这些模式来匹配传入的URL并将它们发送到视图，但是您无法逆向解析这些模式。\n",
    "\n",
    "current_app参数允许您向解析程序提供一个提示，指示当前正在执行的视图所属的应用程序。根据命名空间的URL解析策略，此current_app参数用作提示，以将应用程序命名空间解析为特定应用程序实例上的URL。\n",
    "\n",
    "urlconf参数是URLconf模块，其中包含用于逆向解析的URL模式。默认情况下，使用当前线程的根URLconf。"
   ]
  },
  {
   "cell_type": "markdown",
   "metadata": {},
   "source": [
    "**注意**\n",
    "\n",
    "reverse() 返回的字符串已经是 urlquoted。 例如：\n",
    "\n",
    "```\n",
    ">>> reverse（'cities'，args = ['Orléans']）\n",
    "'... / ORL％C3％A9ans/'\n",
    "```\n",
    "将进一步的编码（ encoding ）（例如urllib.parse.quote（））应用于 reverse() 的输出可能会产生不良结果。"
   ]
  },
  {
   "cell_type": "markdown",
   "metadata": {},
   "source": [
    "# reverse_lazy()"
   ]
  },
  {
   "cell_type": "markdown",
   "metadata": {},
   "source": [
    "reverse()的延缓估值版本。\n",
    "\n",
    "**`reverse_lazy（viewname，urlconf = None，args = None，kwargs = None，current_app = None）`**\n",
    "\n",
    "当在加载项目的 URLConf 之前需要使用URL的逆向解析时，它非常有用。需要此功能的一些常见情况是：\n",
    "\n",
    "- 提供逆向 URL 作为基于通用类的视图的url属性。\n",
    "- 为装饰器提供逆向 URL（例如django.contrib.auth.decorators.permission_required（）装饰器的login_url参数）。\n",
    "- 提供逆向 URL 作为函数签名中参数的默认值。"
   ]
  },
  {
   "cell_type": "markdown",
   "metadata": {},
   "source": [
    "# resolve()\n",
    "\n",
    "resolve（）函数可用于解析相应视图函数的URL路径。 它有以下签名：\n",
    "\n",
    "** `resolve（path，urlconf = None）` **\n",
    "\n",
    "path 是您要解析的URL路径。与reverse() 一样，您不必担心urlconf参数。该函数返回ResolverMatch对象，该对象允许您访问有关已解析URL的各种元数据。\n",
    "\n",
    "如果URL未解析，则该函数会引发Resolver404异常（Http404的子类）。"
   ]
  },
  {
   "cell_type": "markdown",
   "metadata": {},
   "source": [
    "## ResolverMatch 类\n",
    "\n",
    "**·class ResolverMatch·**\n",
    "\n",
    "**func**\n",
    "\n",
    "用来服务URL的视图函数。\n",
    "\n",
    "**args**\n",
    "\n",
    "这个参数将传递给视图函数，从URL中解析出这个参数。\n",
    "\n",
    "**kwargs**\n",
    "\n",
    "这个关键字参数将传递给视图函数，从URL中解析出这个参数。\n",
    "\n",
    "**url_name**\n",
    "\n",
    "与URL匹配的URL模式的名称。\n",
    "\n",
    "**app_name**\n",
    "\n",
    "与URL匹配的URL模式的应用程序命名空间。\n",
    "\n",
    "**app_name**\n",
    "\n",
    "与URL匹配的URL模式的完整应用程序命名空间中的各个命名空间组件的列表。 例如，如果 app_name 是'foo：bar'，那么app_names将是['foo'，'bar']。\n",
    "\n",
    "**namespace**\n",
    "\n",
    "与URL匹配的URL模式的实例命名空间。\n",
    "\n",
    "**namespaces**\n",
    "\n",
    "与URL匹配的URL模式的完整实例命名空间中的各个命名空间组件的列表。 即，如果命名空间是foo：bar，那么命名空间将是['foo'，'bar']。\n",
    "\n",
    "**view_name**\n",
    "\n",
    "与URL匹配的视图的名称，包括名称空间（如果有）。"
   ]
  },
  {
   "cell_type": "markdown",
   "metadata": {},
   "source": [
    "然后可以询问 ResolverMatch 对象以提供有关与URL匹配的URL模式的信息：\n",
    "\n",
    "```\n",
    "# Resolve a URL\n",
    "match = resolve('/some/path/')\n",
    "# Print the URL pattern that matches the URL\n",
    "print(match.url_name)\n",
    "```"
   ]
  },
  {
   "cell_type": "markdown",
   "metadata": {},
   "source": [
    "ResolverMatch对象也可以分配给三元组：\n",
    "\n",
    "`func, args, kwargs = resolve('/some/path/')`"
   ]
  },
  {
   "cell_type": "markdown",
   "metadata": {},
   "source": [
    "resolve（）的一个可能用途是测试视图在重定向到它之前是否会引发Http404错误：\n",
    "\n",
    "```\n",
    "from urllib.parse import urlparse\n",
    "from django.urls import resolve\n",
    "from django.http import Http404, HttpResponseRedirect\n",
    "\n",
    "def myview(request):\n",
    "    next = request.META.get('HTTP_REFERER', None) or '/'\n",
    "    response = HttpResponseRedirect(next)\n",
    "\n",
    "    # modify the request and response as required, e.g. change locale\n",
    "    # and set corresponding locale cookie\n",
    "\n",
    "    view, args, kwargs = resolve(urlparse(next)[2])\n",
    "    kwargs['request'] = request\n",
    "    try:\n",
    "        view(*args, **kwargs)\n",
    "    except Http404:\n",
    "        return HttpResponseRedirect('/')\n",
    "    return response\n",
    "    ```"
   ]
  },
  {
   "cell_type": "markdown",
   "metadata": {},
   "source": [
    "# get_script_prefix()\n",
    "g\n",
    "**`et_script_prefix()[source]`**\n",
    "\n",
    "通常，您应该始终使用reverse（）来定义应用程序中的URL。 但是，如果您的应用程序构建了URL层次结构本身的一部分，您可能偶尔需要生成URL。 在这种情况下，您需要能够在其Web服务器中找到Django项目的基本URL（通常，reverse（）会为您处理此问题）。 在这种情况下，您可以调用get_script_prefix（），它将返回Django项目的URL的脚本前缀部分。 如果您的Django项目位于其Web服务器的根目录，则始终为“/”。"
   ]
  }
 ],
 "metadata": {
  "kernelspec": {
   "display_name": "Python 3",
   "language": "python",
   "name": "python3"
  },
  "language_info": {
   "codemirror_mode": {
    "name": "ipython",
    "version": 3
   },
   "file_extension": ".py",
   "mimetype": "text/x-python",
   "name": "python",
   "nbconvert_exporter": "python",
   "pygments_lexer": "ipython3",
   "version": "3.6.4"
  }
 },
 "nbformat": 4,
 "nbformat_minor": 2
}
