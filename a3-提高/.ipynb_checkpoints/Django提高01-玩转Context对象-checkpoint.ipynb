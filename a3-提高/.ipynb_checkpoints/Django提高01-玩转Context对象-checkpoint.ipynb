{
 "cells": [
  {
   "cell_type": "markdown",
   "metadata": {},
   "source": [
    "Django提高01\n",
    "====\n",
    "**玩转context对象**\n",
    "\n",
    "https://docs.djangoproject.com/en/2.0/ref/templates/api/#playing-with-context"
   ]
  },
  {
   "cell_type": "markdown",
   "metadata": {},
   "source": [
    "大多数情况下，通过将完全填充的字典传递给Context()来实例化Context对象。\n",
    "\n",
    "在字典被实例化为Context对象后，仍然可以使用标准字典语法对实例化后Context对象后添加和删除它们："
   ]
  },
  {
   "cell_type": "markdown",
   "metadata": {},
   "source": [
    "```\n",
    ">>> from django.template import Context\n",
    ">>> c = Context({\"foo\": \"bar\"})\n",
    ">>> c['foo']\n",
    "'bar'\n",
    ">>> del c['foo']\n",
    ">>> c['foo']\n",
    "Traceback (most recent call last):\n",
    "...\n",
    "KeyError: 'foo'\n",
    ">>> c['newvariable'] = 'hello'\n",
    ">>> c['newvariable']\n",
    "'hello'\n",
    "```\n"
   ]
  },
  {
   "cell_type": "markdown",
   "metadata": {},
   "source": [
    "# Context.get(key, otherwise=None)\n",
    "\n",
    "Context对象的 get 方法，如果 key 在 Context 中，就返回 key 对应的值；否则返回 otherwise 参数值。"
   ]
  },
  {
   "cell_type": "markdown",
   "metadata": {},
   "source": [
    "```\n",
    "python manage.py shell\n",
    "\n",
    "from django.template import Context\n",
    "\n",
    "c = Context({'art_tag':'Django','author':'Anguo','last_time':'20180601'})\n",
    "\n",
    "c.get('art_tag','无此键')  #otherwise可以是一个字符串，也可以是一个变量\n",
    "\n",
    "In [7]: c.get('art_tag','无此键')\n",
    "Out[7]: 'Django'\n",
    "\n",
    "In [8]: c.get('author','无此键')\n",
    "Out[8]: 'Anguo'\n",
    "\n",
    "In [9]: c.get('title','无此键')\n",
    "Out[9]: '无此键'\n",
    "\n",
    "In [10]: c.get('last_time','无此键')\n",
    "Out[10]: '20180601'\n",
    "```"
   ]
  },
  {
   "cell_type": "markdown",
   "metadata": {},
   "source": [
    "# Context.setdefault(key, default=None)\n",
    "\n",
    "如果Context对象中有这个 key，就返回它的值。否则就插入这个key，并映射 default 值，再返回 default 值。"
   ]
  },
  {
   "cell_type": "markdown",
   "metadata": {},
   "source": [
    "```\n",
    "In [65]: c=Context()\n",
    "\n",
    "In [66]: c['keya']='aaa'\n",
    "\n",
    "In [67]: c['keyb']='bbb'\n",
    "\n",
    "In [68]: c\n",
    "Out[68]: [{'True': True, 'False': False, 'None': None, 'keya': 'aaa', 'keyb': 'bbb'}]\n",
    "\n",
    "In [69]: c.setdefault('keyd','ddd')\n",
    "Out[69]: 'ddd'\n",
    "\n",
    "In [70]: c\n",
    "Out[70]: [{'True': True, 'False': False, 'None': None, 'keya': 'aaa', 'keyb': 'bbb', 'keyd': 'ddd'}]\n",
    "\n",
    "In [71]: c.setdefault('keya','ddd')\n",
    "Out[71]: 'aaa'\n",
    "```"
   ]
  },
  {
   "cell_type": "markdown",
   "metadata": {},
   "source": [
    "Context对象是一个 Stack（堆栈），实现了一个先进后出的数据结构。它有两个方法:\n",
    "\n",
    "- Context.pop()，移除栈顶（序列的最后一个）元素，pop, 取出。\n",
    "- Context.push()，在栈顶（序列的最后位置）增加元素，push, 增加。\n",
    "\n",
    "当pop()次数比push()次数多时就会抛出ContextPopException异常。\n",
    "\n",
    "```\n",
    "class ContextPopException(Exception):\n",
    "    \"pop() has been called more times than push()\"\n",
    "    pass\n",
    "```"
   ]
  },
  {
   "cell_type": "markdown",
   "metadata": {},
   "source": [
    "可以使用 push() 作为上下文管理器来确保调用匹配的 pop()。"
   ]
  },
  {
   "cell_type": "markdown",
   "metadata": {},
   "source": [
    "```\n",
    ">>> c = Context()\n",
    ">>> c['foo'] = 'first level'\n",
    ">>> with c.push():\n",
    "...     c['foo'] = 'second level'\n",
    "...     c['foo']\n",
    "'second level'\n",
    ">>> c['foo']\n",
    "'first level'\n",
    "```"
   ]
  },
  {
   "cell_type": "markdown",
   "metadata": {},
   "source": [
    "传递给 push() 的所有参数都将传递给dict构造函数用于构建新一级上下文。"
   ]
  },
  {
   "cell_type": "markdown",
   "metadata": {},
   "source": [
    "```\n",
    "In [18]: c=Context()\n",
    "\n",
    "In [19]: c\n",
    "Out[19]: [{'True': True, 'False': False, 'None': None}]\n",
    "\n",
    "In [20]: c['mik']='first level'\n",
    "\n",
    "In [21]: c\n",
    "Out[21]: [{'True': True, 'False': False, 'None': None, 'mik': 'first level'}]\n",
    "\n",
    "In [31]: with c.push(mik='second level'):\n",
    "    ...:     print(c)\n",
    "    ...:\n",
    "[{'True': True, 'False': False, 'None': None, 'mik': 'first level'}, {'mik': 'second level'}]\n",
    "\n",
    "In [32]: c\n",
    "Out[32]: [{'True': True, 'False': False, 'None': None, 'mik': 'first level'}]\n",
    "\n",
    "```"
   ]
  },
  {
   "cell_type": "markdown",
   "metadata": {},
   "source": [
    "# Context.update(other_dict)\n",
    "\n",
    "除了push（）和pop（）之外，Context对象还定义了update（）方法。 这与push（）类似，但是将字典作为参数，并将该字典推送到堆栈而不是空字典。"
   ]
  },
  {
   "cell_type": "markdown",
   "metadata": {},
   "source": [
    "```\n",
    ">>> c = Context()\n",
    ">>> c['foo'] = 'first level'\n",
    ">>> c.update({'foo': 'updated'})\n",
    "{'foo': 'updated'}\n",
    ">>> c['foo']\n",
    "'updated'\n",
    ">>> c.pop()\n",
    "{'foo': 'updated'}\n",
    ">>> c['foo']\n",
    "'first level'\n",
    "```"
   ]
  },
  {
   "cell_type": "markdown",
   "metadata": {},
   "source": [
    "与 push() 一样，您可以使用 update() 作为上下文管理器来确保调用匹配的 pop()。"
   ]
  },
  {
   "cell_type": "markdown",
   "metadata": {},
   "source": [
    "```\n",
    ">>> c = Context()\n",
    ">>> c['foo'] = 'first level'\n",
    ">>> with c.update({'foo': 'second level'}):\n",
    "...     c['foo']\n",
    "'second level'\n",
    ">>> c['foo']\n",
    "'first level'\n",
    "```\n",
    "\n"
   ]
  },
  {
   "cell_type": "markdown",
   "metadata": {},
   "source": [
    "在一些自定义模板标记中，使用上下文作为堆栈非常方便。"
   ]
  },
  {
   "cell_type": "markdown",
   "metadata": {},
   "source": [
    "# Context.flatten()\n",
    "\n",
    "使用flatten（）方法，可以将整个Context堆栈作为一个字典，包括内置变量。"
   ]
  },
  {
   "cell_type": "markdown",
   "metadata": {},
   "source": [
    "```\n",
    ">>> c = Context()\n",
    ">>> c['foo'] = 'first level'\n",
    ">>> c.update({'bar': 'second level'})\n",
    "{'bar': 'second level'}\n",
    ">>> c.flatten()\n",
    "{'True': True, 'None': None, 'foo': 'first level', 'False': False, 'bar': 'second level'}\n",
    "```"
   ]
  },
  {
   "cell_type": "markdown",
   "metadata": {},
   "source": [
    "flatten（）方法也在内部用于使Context对象具有可比性。"
   ]
  },
  {
   "cell_type": "markdown",
   "metadata": {},
   "source": [
    "```\n",
    ">>> c1 = Context()\n",
    ">>> c1['foo'] = 'first level'\n",
    ">>> c1['bar'] = 'second level'\n",
    ">>> c2 = Context()\n",
    ">>> c2.update({'bar': 'second level', 'foo': 'first level'})\n",
    "{'foo': 'first level', 'bar': 'second level'}\n",
    ">>> c1 == c2\n",
    "True\n",
    "```"
   ]
  },
  {
   "cell_type": "markdown",
   "metadata": {},
   "source": [
    "flatten（）的结果在单元测试中可用于比较 Context 与 dict：\n",
    "\n",
    "```\n",
    "class ContextTest(unittest.TestCase):\n",
    "    def test_against_dictionary(self):\n",
    "        c1 = Context()\n",
    "        c1['update'] = 'value'\n",
    "        self.assertEqual(c1.flatten(), {\n",
    "            'True': True,\n",
    "            'None': None,\n",
    "            'False': False,\n",
    "            'update': 'value',\n",
    "        })\n",
    "```"
   ]
  },
  {
   "cell_type": "markdown",
   "metadata": {},
   "source": []
  },
  {
   "cell_type": "markdown",
   "metadata": {},
   "source": []
  }
 ],
 "metadata": {
  "kernelspec": {
   "display_name": "Python 3",
   "language": "python",
   "name": "python3"
  },
  "language_info": {
   "codemirror_mode": {
    "name": "ipython",
    "version": 3
   },
   "file_extension": ".py",
   "mimetype": "text/x-python",
   "name": "python",
   "nbconvert_exporter": "python",
   "pygments_lexer": "ipython3",
   "version": "3.6.4"
  }
 },
 "nbformat": 4,
 "nbformat_minor": 2
}
