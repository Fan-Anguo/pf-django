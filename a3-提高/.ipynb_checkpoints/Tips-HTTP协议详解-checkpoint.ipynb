{
 "cells": [
  {
   "cell_type": "markdown",
   "metadata": {},
   "source": [
    "HTTP协议详解\n",
    "===="
   ]
  },
  {
   "cell_type": "markdown",
   "metadata": {},
   "source": [
    "# 什么是HTTP协议\n",
    "\n",
    "协议是指计算机网络通信中，两台计算机之间进行通信所必须共同遵守的规定或规则，超文本传输协议(HTTP)是一种通信协议，它允许将超文本标记语言(HTML)文档从Web服务器传送到客户端的浏览器。目前我们使用的是HTTP/1.1 版本\n",
    "\n",
    "## 浏览器-服务器-浏览器\n",
    "\n",
    "当我们打开浏览器（客户端），在地址栏中输入URL，然后我们就看到了网页。\n",
    "\n",
    "其原理是：\n",
    "\n",
    "- 用户在浏览器输入URL后，浏览器给 Web 服务器发送了一个Request 请求。这个Request请求信息是按照一定的格式结构组织，再发送的。具体的格式由网络通讯协议约定。\n",
    "\n",
    "- Web服务器接到 Request 后进行处理（按照协议规则解读Request信息），再生成相应的 Response。同样的，Response的响应信息也是按照一定的格式结构组织的。\n",
    "\n",
    "- 服务器将 Response 信息后发送给浏览器，浏览器解析 Response 中的 HTML，这样我们就看到了网页。\n",
    "\n",
    "在这个过程中，怎样传输、解读、解析各种消息，需要遵守一套规则，这就是HTTP协议。"
   ]
  },
  {
   "cell_type": "markdown",
   "metadata": {},
   "source": [
    "# URL详解\n",
    "\n",
    "上述的网络交互通信过程由客户在浏览器地址栏中输入URL地址触发，一切都是从这个输入的URL开始的。\n",
    "\n",
    "URL(Uniform Resource Locator) 地址用于描述一个网络上的资源，基本格式如下\n",
    "\n",
    "`schema://host[:port#]/path/.../[?query-string][#anchor]`\n",
    "\n",
    "- **scheme** 指定低层使用的协议(例如：http, https, ftp)\n",
    "- **host** HTTP服务器的IP地址或者域名\n",
    "- **port#** HTTP服务器的默认端口是80，这种情况下端口号可以省略。如果使用了别的端口，必须指明，例如 http://www.cnblogs.com:8080/\n",
    "- **path** 访问资源的路径\n",
    "- **query-string** 发送给http服务器的数据\n",
    "- **anchor-** 锚"
   ]
  },
  {
   "cell_type": "markdown",
   "metadata": {},
   "source": [
    "**URL 的一个例子**\n",
    "\n",
    "`http://www.mywebsite.com/sj/test/test.aspx?name=sviergn&x=true#stuff`\n",
    "\n",
    "- Schema： http\n",
    "- host： www.mywebsite.com\n",
    "- path：  /sj/test/test.aspx\n",
    "- Query-String： name=sviergn&x=true\n",
    "- Anchor： stuff"
   ]
  },
  {
   "cell_type": "markdown",
   "metadata": {},
   "source": [
    "# HTTP消息的结构\n",
    "\n",
    "## Request 消息结构\n",
    "先看Request 消息的结构, Request 消息分为3部分，第一部分叫Request line, 第二部分叫Request header, 第三部分是body。 header和body之间有个空行，结构如下图：\n",
    "\n",
    "<img src=\"../../../pf-img-store/django/HTTP-Request01.png\">\n",
    "\n",
    "第一行中的 Method 表示请求方法，比如\"POST\"，\"GET\",  Path-to-resoure表示请求的资源， Http/version-number 表示HTTP协议的版本号\n",
    "\n",
    "当使用的是 “GET” 方法的时候， body是为空的。"
   ]
  },
  {
   "cell_type": "markdown",
   "metadata": {},
   "source": [
    "## Response 消息结构\n",
    "再看 Response 消息的结构, 和 Request 消息的结构基本一样。 同样也分为三部分,第一部分叫Response line, 第二部分叫Response header，第三部分是body. header和body之间也有个空行,结构如下图：\n",
    "\n",
    "<img src=\"../../../pf-img-store/django/HTTP-Response01.png\">"
   ]
  },
  {
   "cell_type": "markdown",
   "metadata": {},
   "source": []
  },
  {
   "cell_type": "markdown",
   "metadata": {},
   "source": []
  },
  {
   "cell_type": "markdown",
   "metadata": {},
   "source": []
  }
 ],
 "metadata": {
  "kernelspec": {
   "display_name": "Python 3",
   "language": "python",
   "name": "python3"
  },
  "language_info": {
   "codemirror_mode": {
    "name": "ipython",
    "version": 3
   },
   "file_extension": ".py",
   "mimetype": "text/x-python",
   "name": "python",
   "nbconvert_exporter": "python",
   "pygments_lexer": "ipython3",
   "version": "3.6.4"
  }
 },
 "nbformat": 4,
 "nbformat_minor": 2
}
