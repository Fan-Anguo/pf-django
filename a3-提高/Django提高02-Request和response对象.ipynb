{
 "cells": [
  {
   "cell_type": "markdown",
   "metadata": {},
   "source": [
    "Django提高02\n",
    "====\n",
    "**Request和response对象**"
   ]
  },
  {
   "cell_type": "markdown",
   "metadata": {},
   "source": [
    "web框架最基础、最核心的任务是：建立请求request和响应response之间的处理机制，即对一个请求，怎样做出响应，并反馈怎样的状态信息。"
   ]
  },
  {
   "cell_type": "markdown",
   "metadata": {},
   "source": [
    "在Django系统中，当请求页面时：\n",
    "- Django创建一个HttpRequest对象，其中包含有关请求的元数据。\n",
    "- URLConf的 path 中定义请求调用的视图。\n",
    "- Django加载URLConf中定义的视图，将HttpRequest作为第一个参数传递给view函数。\n",
    "- 每个视图都负责返回一个HttpResponse对象。"
   ]
  },
  {
   "cell_type": "markdown",
   "metadata": {},
   "source": [
    "在Django的 django.http 模块中有两类对象分别用于处理 Request 和 response：\n",
    "\n",
    "- HttpRequest objects\n",
    "- HttpResponse objects\n",
    "\n",
    "HttpRequest对象由Django自动创建，而创建HttpResponse则是设计者的任务。\n",
    "\n",
    "编写的每个视图都负责填充参数，并返回一个HttpResponse实例化对象。"
   ]
  },
  {
   "cell_type": "markdown",
   "metadata": {},
   "source": [
    "# HttpRequest\n",
    "\n",
    "`class HttpRequest`\n",
    "\n",
    "当Django接受到一个请求时，就会自动创建一个HttpRequest实例化对象，其中包含由请求的元数据。\n",
    "\n",
    "我们主要是使用这个HttpRequest对象的属性和方法。"
   ]
  },
  {
   "cell_type": "markdown",
   "metadata": {},
   "source": [
    "## HttpRequest通过app代码设置的属性\n",
    "\n",
    "在django配置中不设置 HttpRequest 的 `current_app` 和 `urlconf` 两个属性，但是可以通过自己创建的 app 来设置。\n",
    "\n",
    "**`HttpRequest.current_app`**\n",
    "\n",
    "url模板标记将使用该属性的值作为 reverse() 的 current_app 参数\n",
    "\n",
    "**`HttpRequest.urlconf`**\n",
    "\n",
    "在代码中设置该属性值，将用作当前请求的根 URLconf ，覆盖 ROOT_URLCONF 设置。请参阅 Django 如何处理详细请求。\n",
    "\n",
    "urlconf可以设置为 None 以恢复先前中间件所做的任何更改并返回使用 ROOT_URLCONF。"
   ]
  },
  {
   "cell_type": "markdown",
   "metadata": {},
   "source": []
  },
  {
   "cell_type": "markdown",
   "metadata": {},
   "source": []
  },
  {
   "cell_type": "markdown",
   "metadata": {},
   "source": [
    "# HttpResponse\n",
    "\n",
    "`class HttpResponse`\n",
    "\n",
    "HttpResponse 是一个构造函数。接受参数，构造并返回一个 HttpResonse对象。\n",
    "\n",
    "创建实例化HttpResponse对象web设计者的主要任务之一。编写的每个视图都负责实例化，填充和返回一个实例化的 HttpResponse 对象。"
   ]
  },
  {
   "cell_type": "markdown",
   "metadata": {},
   "source": [
    "**用法：**\n",
    "\n",
    "HttpResponse 用法主要有四个方面：\n",
    "\n",
    "传递字符串；\n",
    "传递迭代器；\n",
    "设置头部字段；\n",
    "告诉浏览器将响应视为文件附件。"
   ]
  },
  {
   "cell_type": "markdown",
   "metadata": {},
   "source": [
    "## 传递字符串\n",
    "\n",
    "HttpRespons 构造典型用法是将页面内容作为字符串传递给HttpResponse构造函数：\n",
    "\n",
    "典型用法是将页面内容作为字符串传递给HttpResponse构造函数："
   ]
  },
  {
   "cell_type": "markdown",
   "metadata": {},
   "source": [
    "```\n",
    ">>> from django.http import HttpResponse\n",
    ">>> response = HttpResponse(\"Here's the text of the Web page.\")\n",
    ">>> response = HttpResponse(\"Text only, please.\", content_type=\"text/plain\")\n",
    "```"
   ]
  },
  {
   "cell_type": "markdown",
   "metadata": {},
   "source": [
    "如果要以增量方式添加内容，可以将响应当作类似文件的对象（可以使用它的write()方法）：\n",
    "```\n",
    ">>> response = HttpResponse()\n",
    ">>> response.write(\"<p>Here's the text of the Web page.</p>\")\n",
    ">>> response.write(\"<p>Here's another paragraph.</p>\")\n",
    "```"
   ]
  },
  {
   "cell_type": "markdown",
   "metadata": {},
   "source": [
    "## 传递迭代器\n",
    "\n",
    "现在还可以传递一个迭代器给 HttpResponse，而不是字符串。HttpResponse将立即使用迭代器，将其内容存储为字符串，然后丢弃它。 具有 close() 方法的对象（如文件和生成器）会立即关闭。\n",
    "\n",
    "如果需要将响应从迭代器流式传输到客户端(而不是迭代后生成的字符串)，则必须使用 StreamingHttpResponse 类。"
   ]
  },
  {
   "cell_type": "markdown",
   "metadata": {},
   "source": [
    "## 设置头部字段\n",
    "\n",
    "每个Response都有一个header部分。参见[HTTP协议详解](Tips-HTTP协议详解.ipynb)\n",
    "\n",
    "要设置或删除Response中的 header 部分中的字段，将其当作字典处理：\n",
    "\n",
    "```\n",
    ">>> response = HttpResponse()\n",
    ">>> response['Age'] = 120\n",
    ">>> del response['Age']\n",
    "```"
   ]
  },
  {
   "cell_type": "markdown",
   "metadata": {},
   "source": [
    "**请注意**，与字典不同，如果 header 字段不存在，del不会引发KeyError。\n",
    "\n",
    "为了设置 Cache-Control 和 Vary 的 header 字段，建议使用django.utils.cache中的patch_cache_control() 和 patch_vary_headers() 方法，因为这些字段可以有多个以逗号分隔的值。 “patch” 方法确保其他值，例如 由中间件添加，不会被删除。\n",
    "\n",
    "HTTP header 字段不能包含换行符。 尝试设置包含换行符（CR或LF）的标题字段将引发BadHeaderError。"
   ]
  },
  {
   "cell_type": "markdown",
   "metadata": {},
   "source": [
    "## 告诉浏览器将响应视为文件的附件"
   ]
  },
  {
   "cell_type": "markdown",
   "metadata": {},
   "source": [
    "要告诉浏览器将响应视为文件附件，使用content_type参数并设置Content-Disposition的头部。 例如，下面这段代码可以返回Microsoft Excel电子表格的方式：\n",
    "\n",
    "```\n",
    ">>> response = HttpResponse(my_data, content_type='application/vnd.ms-excel')\n",
    ">>> response['Content-Disposition'] = 'attachment; filename=\"foo.xls\"'\n",
    "```"
   ]
  },
  {
   "cell_type": "markdown",
   "metadata": {},
   "source": [
    "没有关于Content-Disposition 标头的Django特定内容。"
   ]
  },
  {
   "cell_type": "code",
   "execution_count": null,
   "metadata": {},
   "outputs": [],
   "source": []
  }
 ],
 "metadata": {
  "kernelspec": {
   "display_name": "Python 3",
   "language": "python",
   "name": "python3"
  },
  "language_info": {
   "codemirror_mode": {
    "name": "ipython",
    "version": 3
   },
   "file_extension": ".py",
   "mimetype": "text/x-python",
   "name": "python",
   "nbconvert_exporter": "python",
   "pygments_lexer": "ipython3",
   "version": "3.6.4"
  }
 },
 "nbformat": 4,
 "nbformat_minor": 2
}
