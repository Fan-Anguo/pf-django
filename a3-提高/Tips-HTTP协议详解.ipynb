{
 "cells": [
  {
   "cell_type": "markdown",
   "metadata": {},
   "source": [
    "HTTP协议详解\n",
    "===="
   ]
  },
  {
   "cell_type": "markdown",
   "metadata": {},
   "source": [
    "# 什么是HTTP协议\n",
    "\n",
    "协议是指计算机网络通信中，两台计算机之间进行通信所必须共同遵守的规定或规则，超文本传输协议(HTTP)是一种通信协议，它允许将超文本标记语言(HTML)文档从Web服务器传送到客户端的浏览器。目前我们使用的是HTTP/1.1 版本\n",
    "\n",
    "## 浏览器-服务器-浏览器\n",
    "\n",
    "当我们打开浏览器（客户端），在地址栏中输入URL，然后我们就看到了网页。\n",
    "\n",
    "其原理是：\n",
    "\n",
    "- 用户在浏览器输入URL后，浏览器给 Web 服务器发送了一个Request 请求。这个Request请求信息是按照一定的格式结构组织，再发送的。具体的格式由网络通讯协议约定。\n",
    "\n",
    "- Web服务器接到 Request 后进行处理（按照协议规则解读Request信息），再生成相应的 Response。同样的，Response的响应信息也是按照一定的格式结构组织的。\n",
    "\n",
    "- 服务器将 Response 信息后发送给浏览器，浏览器解析 Response 中的 HTML，这样我们就看到了网页。\n",
    "\n",
    "在这个过程中，怎样传输、解读、解析各种消息，需要遵守一套规则，这就是HTTP协议。"
   ]
  },
  {
   "cell_type": "markdown",
   "metadata": {},
   "source": [
    "# URL详解\n",
    "\n",
    "上述的网络交互通信过程由客户在浏览器地址栏中输入URL地址触发，一切都是从这个输入的URL开始的。\n",
    "\n",
    "URL(Uniform Resource Locator) 地址用于描述一个网络上的资源，基本格式如下\n",
    "\n",
    "`schema://host[:port#]/path/.../[?query-string][#anchor]`\n",
    "\n",
    "- **scheme** 指定低层使用的协议(例如：http, https, ftp)\n",
    "- **host** HTTP服务器的IP地址或者域名\n",
    "- **port#** HTTP服务器的默认端口是80，这种情况下端口号可以省略。如果使用了别的端口，必须指明，例如 http://www.cnblogs.com:8080/\n",
    "- **path** 访问资源的路径\n",
    "- **query-string** 发送给http服务器的数据\n",
    "- **anchor-** 锚"
   ]
  },
  {
   "cell_type": "markdown",
   "metadata": {},
   "source": [
    "**URL 的一个例子**\n",
    "\n",
    "`http://www.mywebsite.com/sj/test/test.aspx?name=sviergn&x=true#stuff`\n",
    "\n",
    "- Schema： http\n",
    "- host： www.mywebsite.com\n",
    "- path：  /sj/test/test.aspx\n",
    "- Query-String： name=sviergn&x=true\n",
    "- Anchor： stuff"
   ]
  },
  {
   "cell_type": "markdown",
   "metadata": {},
   "source": [
    "**Anchor**\n",
    "\n",
    "Anchor 对象表示 HTML 超链接\n",
    "\n",
    "在 HTML 文档中 <a> 标签每出现一次，就会创建 Anchor 对象；\n",
    "\n",
    "锚可用于创建指向另一个文档的链接（通过 href 属性），或者创建文档内的书签（通过 name 属性）；\n",
    "\n",
    "可以通过搜索 Document 对象中的 anchors[] 数组来访问锚，或者使用document.getElementById()\n",
    "\n",
    "Anchor 对象的部分属性\n",
    "- target：设置或返回在何处打开链接\n",
    "- href：设置或返回被链接资源的 URL\n",
    "- name：设置或返回一个链接的名称\n",
    "- id：设置或返回一个链接的 id\n",
    "- Anchor 对象的方法\n",
    "\n",
    ">> blur()：把焦点从链接上移开\n",
    "\n",
    ">> focus()：给链接应用焦点\n",
    "\n",
    ">> anchor() 方法用于创建 HTML 锚"
   ]
  },
  {
   "cell_type": "markdown",
   "metadata": {},
   "source": [
    "# HTTP协议是无状态的\n",
    "http协议是无状态的，同一个客户端的这次请求和上次请求是没有对应关系，对http服务器来说，它并不知道这两个请求来自同一个客户端。 为了解决这个问题， Web程序引入了Cookie机制来维护状态."
   ]
  },
  {
   "cell_type": "markdown",
   "metadata": {},
   "source": [
    "# HTTP消息的结构\n",
    "\n",
    "## Request 消息结构\n",
    "先看Request 消息的结构, Request 消息分为3部分，第一部分叫Request line, 第二部分叫Request header, 第三部分是body。 header和body之间有个空行，结构如下图：\n",
    "\n",
    "<img src=\"../../../pf-img-store/django/HTTP-Request01.png\">\n",
    "\n",
    "第一行中的 Method 表示请求方法，比如\"POST\"，\"GET\",  Path-to-resoure表示请求的资源， Http/version-number 表示HTTP协议的版本号\n",
    "\n",
    "当使用的是 “GET” 方法的时候， body是为空的。"
   ]
  },
  {
   "cell_type": "markdown",
   "metadata": {},
   "source": [
    "## Response 消息结构\n",
    "再看 Response 消息的结构, 和 Request 消息的结构基本一样。 同样也分为三部分,第一部分叫Response line, 第二部分叫Response header，第三部分是body. header和body之间也有个空行,结构如下图：\n",
    "\n",
    "<img src=\"../../../pf-img-store/django/HTTP-Response01.png\">"
   ]
  },
  {
   "cell_type": "markdown",
   "metadata": {},
   "source": [
    "# Get和Post方法的区别\n",
    "Http协议定义了很多与服务器交互的方法，最基本的有4种，分别是：\n",
    "\n",
    "- GET,\n",
    "- POST,\n",
    "- PUT,\n",
    "- DELETE.\n",
    "\n",
    "一个URL地址用于描述一个网络上的资源，而HTTP中的GET, POST, PUT, DELETE就对应着对这个资源的查，改，增，删4个操作。\n",
    "\n",
    "最常见的就是 **GET** 和 **POST** 了。GET 一般用于获取/查询资源信息，而 POST 一般用于更新资源信息.\n",
    "\n",
    "**GET** 和 **POST** 的区别：\n",
    "\n",
    "1. GET提交的数据会放在URL之后，以?分割URL和传输数据，参数之间以&相连，如EditPosts.aspx?name=test1&id=123456。 POST方法是把提交的数据放在HTTP包的Body中.\n",
    "\n",
    "2. GET提交的数据大小有限制（因为浏览器对URL的长度有限制），而POST方法提交的数据没有限制.\n",
    "\n",
    "3. GET方式需要使用Request.QueryString来取得变量的值，而POST方式通过Request.Form来获取变量的值。\n",
    "\n",
    "4. GET方式提交数据，会带来安全问题，比如一个登录页面，通过GET方式提交数据时，用户名和密码将出现在URL上，如果页面可以被缓存或者其他人可以访问这台机器，就可以从历史记录获得该用户的账号和密码."
   ]
  },
  {
   "cell_type": "markdown",
   "metadata": {},
   "source": [
    "# 状态码\n",
    "\n",
    "Response 消息中的第一行叫做状态行，由HTTP协议版本号， 状态码， 状态消息 三部分组成。\n",
    "\n",
    "状态码用来告诉HTTP客户端,HTTP服务器是否产生了预期的Response.\n",
    "\n",
    "HTTP/1.1中定义了5类状态码， 状态码由三位数字组成，第一个数字定义了响应的类别\n",
    "\n",
    "- 1XX  提示信息 - 表示请求已被成功接收，继续处理\n",
    "\n",
    "- 2XX  成功 - 表示请求已被成功接收，理解，接受\n",
    "\n",
    "- 3XX  重定向 - 要完成请求必须进行更进一步的处理\n",
    "\n",
    "- 4XX  客户端错误 -  请求有语法错误或请求无法实现\n",
    "\n",
    "- 5XX  服务器端错误 -   服务器未能实现合法的请求"
   ]
  },
  {
   "cell_type": "markdown",
   "metadata": {},
   "source": []
  }
 ],
 "metadata": {
  "kernelspec": {
   "display_name": "Python 3",
   "language": "python",
   "name": "python3"
  },
  "language_info": {
   "codemirror_mode": {
    "name": "ipython",
    "version": 3
   },
   "file_extension": ".py",
   "mimetype": "text/x-python",
   "name": "python",
   "nbconvert_exporter": "python",
   "pygments_lexer": "ipython3",
   "version": "3.6.4"
  }
 },
 "nbformat": 4,
 "nbformat_minor": 2
}
