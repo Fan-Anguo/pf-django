{
 "cells": [
  {
   "cell_type": "markdown",
   "metadata": {},
   "source": [
    "Django的两个render()\n",
    "===="
   ]
  },
  {
   "cell_type": "markdown",
   "metadata": {},
   "source": [
    "Django中有两个render():\n",
    "\n",
    "- django.shortcuts 模块中有一个render()函数；\n",
    "- django.template 模块中的`Template`类对象有一个render()方法。\n",
    "\n",
    "这个两render()的用途、语法不同，要注意区别。"
   ]
  },
  {
   "cell_type": "markdown",
   "metadata": {},
   "source": [
    "# django.shortcuts 模块中的 render() 函数\n",
    "\n",
    "django.shortcuts 模块中的 render() 函数主要用于视图函数，代替HttpResponse函数，建立一个request 与一个模板的映射关系，返回一个HttpResponse对象，并且该对象带有一个**context字典**，模板在渲染呈现时会使用这个**context字典**中的值替换模板中相应的变量。"
   ]
  },
  {
   "cell_type": "markdown",
   "metadata": {},
   "source": [
    "## render()函数语法\n",
    "\n",
    "**语法**\n",
    "\n",
    "`render(request, template_name, context=None, content_type=None, status=None, using=None)[source]`\n",
    "\n",
    "将给定模板与给定的上下文字典组合，并返回带有该呈现文本的HttpResponse对象。\n",
    "\n",
    "Django没有提供返回TemplateResponse的快捷函数，因为TemplateResponse的构造函数提供了与render（）相同的便利性。\n",
    "\n",
    "### 必需参数\n",
    "\n",
    "**request**\n",
    "\n",
    ">用于生成响应的请求对象。\n",
    "\n",
    "**template_name**\n",
    "\n",
    "> 要使用的模板的全名或模板名称的序列。如果给出序列，则将使用存在的第一个模板。\n",
    "\n",
    "## 可选参数\n",
    "\n",
    "**context**\n",
    "\n",
    "> 要添加到模板上下文的值的字典。 默认情况下，**这是一个空字典**。 如果字典中的值是可调用的，则视图将在呈现模板之前调用它。\n",
    "\n",
    ">> *注意：这里的 context 是一个典型的字典。而不是 Context 对象。*\n",
    "\n",
    "**content_type**\n",
    "\n",
    ">用于生成文档的MIME类型。 默认为DEFAULT_CONTENT_TYPE设置的值。\n",
    "\n",
    "**status**\n",
    "\n",
    ">响应的状态代码。 默认为200。\n",
    "\n",
    "**using**\n",
    "\n",
    "> 用于加载模板的模板引擎的名称。"
   ]
  },
  {
   "cell_type": "markdown",
   "metadata": {},
   "source": [
    "# django.template 模块中的 Template 类对象的render()方法\n",
    "\n",
    "使用Django模板系统有三个步骤：\n",
    "\n",
    "- 配置引擎，使用Django自己的模板系统。在创建项目时默认已配置好；\n",
    "- 将代码编译为模板（编译生成模板对象）。使用默认引擎，直接实例化 django.template.Template 类即可生成一个模板对象；\n",
    "- 直接实例化 `class Context(dict_=None)`类，生成一个Context对象；\n",
    "- 调用 `Template.render(context)` 方法，使用Context对象渲染实例化生成的 `Template` 对象。"
   ]
  },
  {
   "cell_type": "markdown",
   "metadata": {},
   "source": [
    "## 实例化 Template 对象\n",
    "\n",
    "实例化 Template 对象，就是传递一个参数给 Template 类，这个参数有两种形式：\n",
    "\n",
    "- 一段原生的模板代码，即一段带有模板标记的文本字符串；\n",
    "- 指定模板文件路径，即这个字符串也可以指向一个文本文件，文本文件的内容就是原生的模板代码。"
   ]
  },
  {
   "cell_type": "markdown",
   "metadata": {},
   "source": [
    "```\n",
    "from django.template import Template\n",
    "\n",
    "template = Template(\"My name is {{ my_name }}.\")\n",
    "```\n",
    "\n",
    "导入django.template模块的 Template，即可使用 Template 将一段字符串（原生的模板代码）实例化为一个 Template 对象。"
   ]
  },
  {
   "cell_type": "markdown",
   "metadata": {},
   "source": [
    "## 实例化 Context 对象\n",
    "\n",
    "django.template 模块中的 Context 可以将一个典型的字典实例化为一个 Context 对象。\n",
    "\n",
    "```\n",
    "from django.template import Context\n",
    "c = Context({\"foo\": \"bar\"})\n",
    "```\n",
    "\n",
    "Context类接受一个典型的字典作为参数，将这个字典实例化为一个Context对象。\n",
    "\n",
    "**注意：** 字典被实例后的Context对象与原来的字典已是不同的对象。"
   ]
  },
  {
   "cell_type": "markdown",
   "metadata": {},
   "source": [
    "## Template.render(context)方法\n",
    "\n",
    "前面实例化创建了一个 Template 对象，实例化创建了一个 Context 对象（已不是字典）。\n",
    "\n",
    "就可以调用 Template.render(context) 方法，将Context对象传递给这个方法，使用 Context对象中的值渲染该模板。"
   ]
  },
  {
   "cell_type": "markdown",
   "metadata": {},
   "source": [
    "# 两个render()的区别\n",
    "\n",
    "- 来自两个不同的模块：django.shortcuts （前者） 和 django.template （后者）;\n",
    "- 前者是模块中的一个函数，后者是模块中类的一个方法；\n",
    "- 功能不同，前者返回一个HttpResponse对象，后者直接渲染呈现模板；\n",
    "- 参数不同，前者有2个必需参数+4个可选参数，后者只要一个参数；\n",
    "- 前者可选参数中的context是一个字典，后者的context参数是字典被Context实例化的Context对象。\n",
    "- 前者传入一个Context对象，后者直接传入一个字典都会引发错误。"
   ]
  },
  {
   "cell_type": "markdown",
   "metadata": {},
   "source": []
  }
 ],
 "metadata": {
  "kernelspec": {
   "display_name": "Python 3",
   "language": "python",
   "name": "python3"
  },
  "language_info": {
   "codemirror_mode": {
    "name": "ipython",
    "version": 3
   },
   "file_extension": ".py",
   "mimetype": "text/x-python",
   "name": "python",
   "nbconvert_exporter": "python",
   "pygments_lexer": "ipython3",
   "version": "3.6.4"
  }
 },
 "nbformat": 4,
 "nbformat_minor": 2
}
