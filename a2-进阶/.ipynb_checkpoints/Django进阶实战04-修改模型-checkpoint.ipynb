{
 "cells": [
  {
   "cell_type": "markdown",
   "metadata": {},
   "source": [
    "进阶实战-04\n",
    "====\n",
    "**修改模型 model **"
   ]
  },
  {
   "cell_type": "markdown",
   "metadata": {},
   "source": [
    "# 添加列\n",
    "\n",
    "上一篇，创建了一个模型'Article'，并成功迁移到数据库，在网站管理界面对数据进行了管理操作。\n",
    "\n",
    "本篇对上述模型添加两个属性，也就是对应的数据库表增加两列，并重新迁移到数据库。"
   ]
  },
  {
   "cell_type": "markdown",
   "metadata": {},
   "source": [
    "打开 'tnt/models.py'文件，添加两个属性：\n",
    "\n",
    "```\n",
    "from django.db import models\n",
    "\n",
    "# Create your models here.\n",
    "\n",
    "class Article(models.Model):\n",
    "    art_title = models.CharField(max_length=100)\n",
    "    art_tag = models.CharField(max_length=50)\n",
    "    second_tag = models.CharField(max_length=50) #添加的字段\n",
    "    author = models.CharField(max_length=30)  #添加的字段\n",
    "    art_abstract = models.TextField()\n",
    "    first_date = models.DateField()\n",
    "    last_date = models.DateField(auto_now=True)\n",
    "    \n",
    "    \n",
    "    def __str__(self):\n",
    "        return self.art_title\n",
    "```"
   ]
  },
  {
   "cell_type": "markdown",
   "metadata": {},
   "source": [
    "# 应用模型的修改\n",
    "\n",
    "## 生成迁移\n",
    "\n",
    "在终端在转到项目根目录，执行 'makemigration' 命令，生成迁移：\n",
    "\n",
    "```\n",
    "PS I:\\FanGitHub\\pyforest400> python manage.py makemigrations\n",
    "You are trying to add a non-nullable field 'second_tag' to article without a default; we can't do that (the database needs something to populate existing rows).\n",
    "Please select a fix:\n",
    " 1) Provide a one-off default now (will be set on all existing rows with a null value for this column)\n",
    " 2) Quit, and let me add a default in models.py\n",
    "Select an option: 1\n",
    "```"
   ]
  },
  {
   "cell_type": "markdown",
   "metadata": {},
   "source": [
    "执行命令后，终端会提示：\n",
    "\n",
    "```\n",
    "您试图在没有默认值的情况下向文章添加不可为空的字段“second_tag”; 我们不能这样做（数据库需要一些东西来填充现有的行）。\n",
    "请选择一个修复：\n",
    "\n",
    "  1）现在提供一次性默认值（将在此列的所有现有行上设置为空值）\n",
    "  \n",
    "  2）退出，让我在models.py中添加默认值\n",
    "```"
   ]
  },
  {
   "cell_type": "markdown",
   "metadata": {},
   "source": [
    "输入 1，"
   ]
  },
  {
   "cell_type": "markdown",
   "metadata": {},
   "source": [
    "```\n",
    "Please enter the default value now, as valid Python\n",
    "The datetime and django.utils.timezone modules are available, so you can do e.g. timezone.now\n",
    "Type 'exit' to exit this prompt\n",
    ">>> ''\n",
    "Migrations for 'tnt':\n",
    "  tnt\\migrations\\0003_article_second_tag.py\n",
    "    - Add field second_tag to article\n",
    "```"
   ]
  },
  {
   "cell_type": "markdown",
   "metadata": {},
   "source": [
    "输入一个默认值，如果是文本需要引号包住。如果是空的，输入引号，**但引号中间不要有空格。**"
   ]
  },
  {
   "cell_type": "markdown",
   "metadata": {},
   "source": [
    "## 应用迁移\n",
    "\n",
    "执行：` python manage.py migrate`\n",
    "\n",
    "```\n",
    ".> python manage.py migrate\n",
    "Operations to perform:\n",
    "  Apply all migrations: admin, auth, contenttypes, sessions, tnt\n",
    "Running migrations:\n",
    "  Applying tnt.0003_article_second_tag... OK\n",
    "```"
   ]
  },
  {
   "cell_type": "markdown",
   "metadata": {},
   "source": [
    "# 检查模型的修改"
   ]
  },
  {
   "cell_type": "markdown",
   "metadata": {},
   "source": [
    "启动django服务，在浏览器中输入：http://127.0.0.1:8000/admin/\n",
    "\n",
    "出现管理界面，打开Article表，就会发现增加了两个字段。"
   ]
  },
  {
   "cell_type": "markdown",
   "metadata": {},
   "source": [
    "<img src=\"../../../pf-img-store/django/article-changed.png\" width=\"500px\"/>"
   ]
  }
 ],
 "metadata": {
  "kernelspec": {
   "display_name": "Python 3",
   "language": "python",
   "name": "python3"
  },
  "language_info": {
   "codemirror_mode": {
    "name": "ipython",
    "version": 3
   },
   "file_extension": ".py",
   "mimetype": "text/x-python",
   "name": "python",
   "nbconvert_exporter": "python",
   "pygments_lexer": "ipython3",
   "version": "3.6.4"
  }
 },
 "nbformat": 4,
 "nbformat_minor": 2
}
