{
 "cells": [
  {
   "cell_type": "markdown",
   "metadata": {},
   "source": [
    "Django进阶实战-08\n",
    "====\n",
    "**模板的常用标签**"
   ]
  },
  {
   "cell_type": "markdown",
   "metadata": {},
   "source": [
    "标签看起来像这样：{％tag％}。\n",
    "\n",
    "标签比变量更复杂：有些在输出中创建文本，有些通过执行循环或逻辑来控制流，有些则将外部信息加载到模板中以供后来的变量使用。\n",
    "\n",
    "某些标签需要开始和结束标签（即 {％tag％} ...标签内容... {％endtag％}）。\n",
    "\n",
    "Django附带了大约24个内置模板标签。关于Django内置标签的完整信息，请参见[built-in tag reference](https://docs.djangoproject.com/en/2.0/ref/templates/builtins/#ref-templates-builtins-tags)\n",
    "\n",
    "下是一些更常用的标签："
   ]
  },
  {
   "cell_type": "markdown",
   "metadata": {},
   "source": [
    "# for\n",
    "\n",
    "{% for %} 允许我们在一个序列上迭代。与Python的 for 语句的情形类似，循环语法是 for X in Y ，Y是\n",
    "要迭代的序列而X是在每一个特定的循环中使用的变量名称。每一次循环中，模板系统会渲染在 {% for %} 和{% endfor %} 之间的所有内容。\n",
    "\n",
    "例如，要显示运动员列表中提供的运动员列表：\n",
    "\n",
    "```\n",
    "<ul>\n",
    "{% for athlete in athlete_list %}\n",
    "    <li>{{ athlete.name }}</li>\n",
    "{% endfor %}\n",
    "</ul>\n",
    "```"
   ]
  },
  {
   "cell_type": "markdown",
   "metadata": {},
   "source": [
    "## for 的反向迭代\n",
    "\n",
    "给标签增加一个 reversed 使得该列表被反向迭代：\n",
    "\n",
    "```\n",
    "{% for athlete in athlete_list reversed %}\n",
    "...\n",
    "{% endfor %}\n",
    "```"
   ]
  },
  {
   "cell_type": "markdown",
   "metadata": {},
   "source": [
    "## 嵌套的 for 标签\n",
    "\n",
    "可以嵌套使用 {% for %} 标签：\n",
    "\n",
    "```\n",
    "{% for athlete in athlete_list %}\n",
    "    <h1>{{ athlete.name }}</h1>\n",
    "    <ul>\n",
    "        {% for sport in athlete.sports_played %}\n",
    "            <li>{{ sport }}</li>\n",
    "        {% endfor %}\n",
    "    </ul>\n",
    "{% endfor %}\n",
    "```"
   ]
  },
  {
   "cell_type": "markdown",
   "metadata": {},
   "source": [
    "## for 循环前执行 if 检查 \n",
    "\n",
    "在执行循环之前先检测列表的大小是一个通常的做法，当列表为空时输出一些特别的提示。\n",
    "\n",
    "```\n",
    "{% if athlete_list %}\n",
    "\n",
    "    {% for athlete in athlete_list %}\n",
    "        <p>{{ athlete.name }}</p>\n",
    "    \n",
    "    {% endfor %}\n",
    "\n",
    "    {% else %}\n",
    "        <p>There are no athletes. Only computer programmers.</p>\n",
    "\n",
    "{% endif %}\n",
    "```"
   ]
  },
  {
   "cell_type": "markdown",
   "metadata": {},
   "source": [
    "## for 的 empty 分句\n",
    "\n",
    "for 标签支持一个可选的 {% empty %} 分句，通过它我们可以定义当列表为空时的输出内容 下面的例子与之前那个等价：\n",
    "\n",
    "```\n",
    "{% for athlete in athlete_list %}\n",
    "    <p>{{ athlete.name }}</p>\n",
    "    \n",
    "    {% empty %}\n",
    "        <p>There are no athletes. Only computer programmers.</p>\n",
    "\n",
    "{% endfor %}\n",
    "```\n",
    "\n",
    "Django不支持退出循环操作。如果我们想退出循环，可以改变正在迭代的变量，让其仅仅包含需要迭代的项目。\n",
    "\n",
    "同理，Django也不支持continue语句，我们无法让当前迭代操作跳回到循环头部。"
   ]
  },
  {
   "cell_type": "markdown",
   "metadata": {},
   "source": [
    "在每个` {% for %} 循环里有一个称为 forloop ` 的模板变量。这个变量有一些提示循环进度信息\n",
    "的属性。"
   ]
  },
  {
   "cell_type": "markdown",
   "metadata": {},
   "source": [
    "## forloop 变量\n",
    "\n",
    "在每个 {% for %} 循环里有一个称为 forloop 的模板变量。这个变量有一些提示循环进度信息的属性。\n",
    "\n",
    "> **forloop.counter** 总是一个表示当前循环的执行次数的整数计数器。 这个计数器是从1开始的，所以在第一次循环时 forloop.counter 将会被设置为1。\n",
    "\n",
    "```\n",
    "{% for item in todo_list %}\n",
    "    <p>{{ forloop.counter }}: {{ item }}</p>\n",
    "{% endfor %}\n",
    "```\n",
    "> **forloop.counter0** 类似于 forloop.counter ，但是它是从0计数的。 第一次执行循环时这个变量会被设置为0。\n",
    "\n",
    "> **forloop.revcounter** 是表示循环中剩余项的整型变量。 在循环初次执行时 forloop.revcounter 将被\n",
    "设置为序列中项的总数。 最后一次循环执行中，这个变量将被置1。\n",
    "\n",
    "> **forloop.revcounter0** 类似于 forloop.revcounter ，但它以0做为结束索引。 在第一次执行循环时，\n",
    "该变量会被置为序列的项的个数减1。"
   ]
  },
  {
   "cell_type": "markdown",
   "metadata": {},
   "source": [
    "> **forloop.first** 是一个布尔值，如果该迭代是第一次执行，那么它被置为```` 在下面的情形中这个变量是\n",
    "很有用的：\n",
    "\n",
    "```\n",
    "{% for object in objects %}\n",
    "\n",
    "    {% if forloop.first %}\n",
    "        <li class=\"first\">{% else %}<li>\n",
    "    {% endif %}\n",
    "    \n",
    "    {{ object }}\n",
    "    </li>\n",
    "\n",
    "{% endfor %}r %}\n",
    "```"
   ]
  },
  {
   "cell_type": "markdown",
   "metadata": {},
   "source": [
    "> **forloop.last** 是一个布尔值；在最后一次执行循环时被置为True。 一个常见的用法是在一系列的链接之间放置管道符（|）\n",
    "\n",
    "```\n",
    "{% for link in links %}{{ link }}{% if not forloop.last %} | {% endif %}{% endfor %}\n",
    "```"
   ]
  },
  {
   "cell_type": "markdown",
   "metadata": {},
   "source": [
    "# if\n",
    "\n",
    "计算变量的值，如果结果为\"true\"，就显示标签块的内容，否则就不显示。\n",
    "\n",
    "```\n",
    "{% if today_is_weekend %}\n",
    "    <p>Welcome to the weekend!</p>\n",
    "{% endif %}\n",
    "```"
   ]
  },
  {
   "cell_type": "markdown",
   "metadata": {},
   "source": [
    "## if 的 else 标签\n",
    "\n",
    "if标签可以嵌套一个else标签：\n",
    "\n",
    "```\n",
    "{% if today_is_weekend %}\n",
    "        <p>Welcome to the weekend!</p>\n",
    "    {% else %}\n",
    "        <p>Get back to work.</p>\n",
    "{% endif %}\n",
    "```"
   ]
  },
  {
   "cell_type": "markdown",
   "metadata": {},
   "source": [
    "## if 的 elif 标签\n",
    "\n",
    "```\n",
    "{% if athlete_list %}\n",
    "    Number of athletes: {{ athlete_list|length }}\n",
    "    \n",
    "    {% elif athlete_in_locker_room_list %}\n",
    "        Athletes should be out of the locker room soon!\n",
    "    \n",
    "    {% else %}\n",
    "        No athletes.\n",
    "\n",
    "{% endif %}\n",
    "```\n",
    "**注意：嵌套的 else 和 elif 标签没有结束标签。而每个 if 标签都必须用 endif 关闭。**"
   ]
  },
  {
   "cell_type": "markdown",
   "metadata": {},
   "source": [
    "## Python 的“真值”\n",
    "\n",
    "在Python和Django模板系统中，以下这些对象相当于布尔值的False：\n",
    "\n",
    "- 空列表([] )\n",
    "- 空元组(() )\n",
    "- 空字典({} )\n",
    "- 空字符串('' )\n",
    "- 零值(0 )\n",
    "- 特殊对象None\n",
    "- 对象False（很明显）\n",
    "\n",
    "提示：你也可以在自定义的对象里定义他们的布尔值属性(这个是python的高级用法)。\n",
    "\n",
    "除以上几点以外的所有东西都视为` True `"
   ]
  },
  {
   "cell_type": "markdown",
   "metadata": {},
   "source": [
    "## if 接受逻辑操作符\n",
    "\n",
    "{% if %} 标签接受 and ， or 或者 not 关键字来对多个变量做判断 ，或者对变量取反（ not )，例如：\n",
    "\n",
    "```\n",
    "{% if athlete_list and coach_list %}\n",
    "    Both athletes and coaches are available.\n",
    "{% endif %}\n",
    "\n",
    "{% if not athlete_list %}\n",
    "    There are no athletes.\n",
    "{% endif %}\n",
    "\n",
    "{% if athlete_list or coach_list %}\n",
    "    There are some athletes or some coaches.\n",
    "{% endif %}\n",
    "\n",
    "{% if not athlete_list or coach_list %}\n",
    "    There are no athletes or there are some coaches.\n",
    "{% endif %}\n",
    "\n",
    "{% if athlete_list and not coach_list %}\n",
    "    There are some athletes and absolutely no coaches.\n",
    "{% endif %}\n",
    "```"
   ]
  },
  {
   "cell_type": "markdown",
   "metadata": {},
   "source": [
    "{% if %} 标签不允许在同一个标签中同时使用 and 和 or ，因为逻辑上可能模糊的，例如，这样的代码是不合法的：\n",
    "\n",
    "`{% if athlete_list and coach_list or cheerleader_list %}`\n",
    "\n",
    "系统不支持用圆括号来组合比较操作。如果你确实需要用到圆括号来组合表达你的逻辑式，考虑将它移到模板之外处理，然后以模板变量的形式传入结果吧。或者，仅仅用嵌套的{% if %}标签替换吧，就像这样：\n",
    "\n",
    "```\n",
    "{% if athlete_list %}\n",
    "{% if coach_list or cheerleader_list %}\n",
    "    We have athletes, and either coaches or cheerleaders!\n",
    "{% endif %}\n",
    "{% endif %}\n",
    "```\n",
    "\n",
    "多次使用同一个逻辑操作符是没有问题的，但是我们不能把不同的操作符组合起来。 例如，这是合法的：\n",
    "\n",
    "`{% if athlete_list or coach_list or parent_list or teacher_list %}`"
   ]
  },
  {
   "cell_type": "markdown",
   "metadata": {},
   "source": []
  },
  {
   "cell_type": "markdown",
   "metadata": {},
   "source": []
  },
  {
   "cell_type": "code",
   "execution_count": null,
   "metadata": {},
   "outputs": [],
   "source": []
  },
  {
   "cell_type": "code",
   "execution_count": null,
   "metadata": {},
   "outputs": [],
   "source": []
  },
  {
   "cell_type": "code",
   "execution_count": null,
   "metadata": {},
   "outputs": [],
   "source": []
  }
 ],
 "metadata": {
  "kernelspec": {
   "display_name": "Python 3",
   "language": "python",
   "name": "python3"
  },
  "language_info": {
   "codemirror_mode": {
    "name": "ipython",
    "version": 3
   },
   "file_extension": ".py",
   "mimetype": "text/x-python",
   "name": "python",
   "nbconvert_exporter": "python",
   "pygments_lexer": "ipython3",
   "version": "3.6.4"
  }
 },
 "nbformat": 4,
 "nbformat_minor": 2
}
