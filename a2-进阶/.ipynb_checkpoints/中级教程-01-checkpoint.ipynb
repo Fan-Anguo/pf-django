{
 "cells": [
  {
   "cell_type": "markdown",
   "metadata": {},
   "source": [
    "Django 中级教程-01\n",
    "====\n",
    "\n",
    "在基础实例中，将要呈现给用户的信息内容直接写在了视图函数的代码中，在实际的网站开发中，这是不可行。\n",
    "\n",
    "django将传统的MVC web开发模式中的“V（views）”分解为两个部分：\n",
    "\n",
    "- views\n",
    "- templates\n",
    "\n",
    "这就是MVT模式。我们对基础实例进行修改、扩展，将views函数分解为views、templates两个部分。"
   ]
  },
  {
   "cell_type": "markdown",
   "metadata": {},
   "source": [
    "# 了解 templates \n",
    "\n",
    "作为一个Web框架，Django需要一种动态生成HTML的便捷方式。最常见的方法依赖于模板。模板包含所需HTML输出的静态部分以及描述如何插入动态内容的一些特殊语法。\n",
    "\n",
    "Django有一个自己的模板系统，并提供内置的后端，并设计了一套Django模板语言（DTL）。\n",
    "\n",
    "当然，也有一些第三方的模板言和后端，比如流行的Jinja2。\n",
    "\n",
    "Django项目可以配置一个或多个模板引擎（如果不使用模板，甚至可以为零）。\n",
    "\n",
    "Django定义了一个标准API，用于加载和呈现模板，无论后端如何。\n",
    "\n",
    "Django模板语言是Django自己的模板系统。它是一个很好的模板库，没有什么特别的情况，推荐使用DTL，尤其是在编写可插拔应用程序并打算分发模板时，这样能尽可能保障程序的兼容和稳定性。\n",
    "\n",
    "模板引擎的通用支持和Django模板语言的实现都存在于django.template命名空间中。\n",
    "\n",
    "templates实际上就是一个文本文件，它使用了指定（在模板引擎配置中设置的引擎）的模板语言（特殊的标记语言）而已。\n",
    "\n",
    "html文件本质上就是使用html标记语言的文本文件。\n",
    "\n",
    "所以，我们先可以简单地把django模板理解为一个html文件。\n",
    "\n",
    "事实上，一个传统的html文件，其中没有使用DTL语言，在django仍然可以被当作一个模板使用。\n",
    "\n",
    "**django的模板，本质上就是一个文本文件，最常见的是html文件。**"
   ]
  },
  {
   "cell_type": "markdown",
   "metadata": {},
   "source": [
    "# templates文件的组织管理\n",
    "\n",
    "要在django项目中使用模板，须要先配置`setting.py`中的`'TEMPLATES'`选项，也就是设置模板引擎和后端。\n",
    "\n",
    "`'TEMPLATES'`选项是一个列表，每个引擎的配置内容以一个字典的形式构成这个列表的一个元素。\n",
    "\n",
    "默认的，django在创建项目时，会自动配置django自带的模板系统，并app目录下的`templates`目录设置为默认的模板搜索路径。\n",
    "\n",
    "可以添加多个第三方模板引擎，但这里我们使用默认的引擎和配置。\n",
    "\n",
    "但在创建app时，不会自动创建templates目录，所以我们手动在app目录下创建一个templates目录。"
   ]
  },
  {
   "cell_type": "markdown",
   "metadata": {},
   "source": []
  },
  {
   "cell_type": "markdown",
   "metadata": {},
   "source": []
  },
  {
   "cell_type": "markdown",
   "metadata": {},
   "source": []
  },
  {
   "cell_type": "markdown",
   "metadata": {},
   "source": []
  },
  {
   "cell_type": "markdown",
   "metadata": {},
   "source": []
  },
  {
   "cell_type": "markdown",
   "metadata": {},
   "source": []
  }
 ],
 "metadata": {
  "kernelspec": {
   "display_name": "Python 3",
   "language": "python",
   "name": "python3"
  },
  "language_info": {
   "codemirror_mode": {
    "name": "ipython",
    "version": 3
   },
   "file_extension": ".py",
   "mimetype": "text/x-python",
   "name": "python",
   "nbconvert_exporter": "python",
   "pygments_lexer": "ipython3",
   "version": "3.6.4"
  }
 },
 "nbformat": 4,
 "nbformat_minor": 2
}
