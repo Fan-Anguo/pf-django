{
 "cells": [
  {
   "cell_type": "markdown",
   "metadata": {},
   "source": [
    "Django 进阶实战-01\n",
    "====\n",
    "\n",
    "**Templates，模板初步。**\n",
    "\n",
    "在基础实例中，将呈现给用户的信息内容和呈现的方式，一段html直接写在了视图函数的代码中:\n",
    "\n",
    "```\n",
    "from django.http import HttpRequest, HttpResponse\n",
    "\n",
    "# Create your views here.\n",
    "def index(request):\n",
    "    return HttpResponse('<h1>欢迎访问 python 森林！</h1>')\n",
    "    \n",
    "``` "
   ]
  },
  {
   "cell_type": "markdown",
   "metadata": {},
   "source": [
    "这就是通常所说的硬编码。\n",
    "\n",
    "尽管这种技术便于解释视图是如何工作的，但直接将HTML硬编码到你的视图里却并不是一个好主意。为什么：\n",
    "\n",
    "- 对页面设计进行的任何改变都必须对 Python 代码进行相应的修改。站点设计的修改往往比底层 Python 代码的修改要频繁得多，因此如果可以在不进行 Python 代码修改的情况下变更设计，将会方便得多。\n",
    "\n",
    "- Python 代码编写和 HTML 设计是两项不同的工作，大多数专业的网站开发环境都将他们分配给不同的人员（甚至不同部门）来完成。 设计者和HTML/CSS的编码人员不应该被要求去编辑Python的代码来完成他们的工作。\n",
    "\n",
    "- 程序员编写 Python代码和设计人员制作模板两项工作同时进行的效率是最高的，远胜于让一个人等待另一个人完成对某个既包含 Python又包含 HTML 的文件的编辑工作。\n",
    "\n",
    "基于这些原因，将页面的设计和Python的代码分离开会更干净简洁更容易维护。Django 的模板系统 (Template System) 就是为了将页面设计与Ptyhon代码分开的开发模式。"
   ]
  },
  {
   "cell_type": "markdown",
   "metadata": {},
   "source": [
    "django将传统的MVC web开发模式中的“V（views）”分解为两个部分：\n",
    "\n",
    "- views，python代码\n",
    "- templates，页面设计\n",
    "\n",
    "这就是MVT模式。\n",
    "\n",
    "我们对基础实例进行修改、扩展，将views函数分解为views、templates两个部分。并在视图函数中调用相应的模板作为响应。\n",
    "\n",
    "**仍然是从整体上了解 templates是什么？ django模板是怎样工作的？**\n",
    "\n",
    "至于模板的语法细节后面再详细讨论。"
   ]
  },
  {
   "cell_type": "markdown",
   "metadata": {},
   "source": [
    "# 了解 templates \n",
    "\n",
    "作为一个Web框架，Django需要一种动态生成HTML的便捷方式。最常见的方法依赖于模板。模板包含所需HTML输出的静态部分以及描述如何插入动态内容的一些特殊语法（标签，标记出动态内容块）。\n",
    "\n",
    "Django有一个自己的模板系统，并提供内置的后端，设计了一套Django模板语言（DTL）。\n",
    "\n",
    "当然，也有一些第三方的模板和后端，比如流行的Jinja2。\n",
    "\n",
    "Django项目可以配置一个或多个模板引擎（如果不使用模板，甚至可以为零）。\n",
    "\n",
    "Django定义了一个标准API，用于加载和呈现模板，无论后端如何。\n",
    "\n",
    "Django自已的模板系统使用django模板语言--DTL。它是一个很好的模板库，没有什么特别的情况，推荐使用DTL，尤其是在编写可插拔应用程序并打算分发模板时，这样能尽可能保障程序的兼容和稳定性。\n",
    "\n",
    "**模板引擎的通用支持和Django模板语言的实现都存在于django.template命名空间中。**\n",
    "\n",
    "templates实际上就是一个文本文件，它使用了指定（在模板引擎配置中设置的引擎）的模板语言（特殊的标记语言）而已。\n",
    "\n",
    "html文件本质就是使用html标记语言的文本文件。\n",
    "\n",
    "所以，我们先可以简单地把django模板理解为一个html文件。\n",
    "\n",
    "事实上，一个传统的html文件，其中没有使用DTL语言，在django仍然可以被当作一个模板使用。\n",
    "\n",
    "**django的模板，本质上就是一个文本文件，最常见的是html文件。**\n",
    "\n",
    "**但动态才是模板的精髓！**"
   ]
  },
  {
   "cell_type": "markdown",
   "metadata": {},
   "source": [
    "# templates文件的组织管理\n",
    "\n",
    "要在django项目中使用模板，须要先配置`setting.py`中的`'TEMPLATES'`选项，也就是设置模板引擎、后端、模板目录等。\n",
    "\n",
    "`'TEMPLATES'`选项是一个列表，每个引擎的配置内容以一个字典的形式构成这个列表的一个元素。\n",
    "\n",
    "django在创建项目时，默认会自动配置使用django自带的模板系统，并将app目录下的`templates`目录设置为默认的模板搜索路径。\n",
    "\n",
    "可以添加多个第三方模板引擎，但我们先使用默认的模板引擎和配置。\n",
    "\n",
    "但在创建app时，不会自动创建templates目录，所以我们手动在app目录下创建一个templates目录。\n",
    "\n",
    "一个项目可能有多个app，不同app下可能会有同名的模板文件（如，每个app下都有一个首页，使用了index.html），为了避免django错误地调用模板，应该在templates目录下创建与app同名的子目录，在这个子目录下保存该app相关的模板文件。\n",
    "\n",
    "我们的实战项目下有两个app: \n",
    "- `tnt`\n",
    "- `forum`\n",
    "\n",
    "在这两个app包目录下各创建一个`templates`目录，并在`templates`各创建一个与app同名的子目录。\n",
    "\n",
    "**现在项目的目录结构如下：**"
   ]
  },
  {
   "cell_type": "markdown",
   "metadata": {},
   "source": [
    "```\n",
    "I:.pyfoest400  #这是项目的根目录\n",
    "│  db.sqlite3\n",
    "│  manage.py\n",
    "│\n",
    "├─forum   #app\n",
    "│  │  admin.py\n",
    "│  │  apps.py\n",
    "│  │  models.py\n",
    "│  │  tests.py\n",
    "│  │  urls.py\n",
    "│  │  views.py\n",
    "│  │  __init__.py\n",
    "│  │\n",
    "│  ├─templates  #app下的模板目录\n",
    "│  │  └─forum   #模板目录下与app同名的子目录，与该app相关的模板都保存在这里\n",
    "│ \n",
    "├─pyforest #这是项目的包目录\n",
    "│  │  settings.py\n",
    "│  │  urls.py\n",
    "│  │  wsgi.py\n",
    "│  │  __init__.py\n",
    "│\n",
    "└─tnt  #app\n",
    "    │  admin.py\n",
    "    │  apps.py\n",
    "    │  models.py\n",
    "    │  tests.py\n",
    "    │  urls.py\n",
    "    │  views.py\n",
    "    │  __init__.py\n",
    "    ├─templates  #app的模板目录\n",
    "    │  ├─tnt     #模板目录下与app同名的子目录\n",
    "```"
   ]
  },
  {
   "cell_type": "markdown",
   "metadata": {},
   "source": [
    "# 写html文件作为模板\n",
    "\n",
    "在`tnt/templates/tnt/index.html`文件中写入如下代码：\n",
    "\n",
    "```\n",
    "<!DOCTYPE html>\n",
    "<html lang=\"en\">\n",
    "<head>\n",
    "    <meta charset=\"UTF-8\">\n",
    "    <meta name=\"viewport\" content=\"width=device-width, initial-scale=1.0\">\n",
    "    <meta http-equiv=\"X-UA-Compatible\" content=\"ie=edge\">\n",
    "    <title>Document</title>\n",
    "</head>\n",
    "<body>\n",
    "    \n",
    "    <h1>欢迎来到 Pyhton 森林！</h1>\n",
    "    <h3>这是由\"tnt/templates/tnt/index.html\"模板文件呈现的页面！</h3>\n",
    "\n",
    "</body>\n",
    "</html>\n",
    "```"
   ]
  },
  {
   "cell_type": "markdown",
   "metadata": {},
   "source": [
    "# 修改views，调用模板\n",
    "\n",
    "**修改`tnt/views.py`文件如下：**"
   ]
  },
  {
   "cell_type": "markdown",
   "metadata": {},
   "source": [
    "```\n",
    "from django.http import HttpRequest, HttpResponse\n",
    "from django.shortcuts import render\n",
    "\n",
    "# Create your views here.\n",
    "def index(request):\n",
    "    return render(request,'tnt/index.html') #修改每行的return语句\n",
    "\n",
    "def pandasindex(request):\n",
    "    return render(request,'tnt/pandasindex.html')\n",
    "\n",
    "def djangoindex(request):\n",
    "    return render(request,'tnt/djangoindex.html')\n",
    "```"
   ]
  },
  {
   "cell_type": "markdown",
   "metadata": {},
   "source": [
    "**修改`forum/views.py`文件如下：**"
   ]
  },
  {
   "cell_type": "markdown",
   "metadata": {},
   "source": [
    "```\n",
    "from django.shortcuts import render\n",
    "from django.http import HttpRequest, HttpResponse\n",
    "# Create your views here.\n",
    "\n",
    "def forumindex(request):\n",
    "    return render(request,'forum/forumindex.html')\n",
    "```"
   ]
  },
  {
   "cell_type": "markdown",
   "metadata": {},
   "source": [
    "上面的修改，就是修改了每个视图的return语句，调用了`django.shortcuts`模块的`render()`函数，该函数用context渲染指定的模板对象后作为响应返回。"
   ]
  },
  {
   "cell_type": "markdown",
   "metadata": {},
   "source": [
    "## render()\n",
    "\n",
    "**语法**\n",
    "\n",
    "`render(request, template_name, context=None, content_type=None, status=None, using=None)[source]`\n",
    "\n",
    "将给定模板与给定的上下文字典组合，并返回带有该呈现文本的HttpResponse对象。\n",
    "\n",
    "Django没有提供返回TemplateResponse的快捷函数，因为TemplateResponse的构造函数提供了与render（）相同的便利性。\n",
    "\n",
    "### 必需参数\n",
    "\n",
    "**request**\n",
    "\n",
    ">用于生成响应的请求对象。\n",
    "\n",
    "**template_name**\n",
    "\n",
    "> 要使用的模板的全名或模板名称的序列。如果给出序列，则将使用存在的第一个模板。\n",
    "\n",
    "## 可选参数\n",
    "\n",
    "**context**\n",
    "\n",
    "> 要添加到模板上下文的值的字典。 默认情况下，这是一个空字典。 如果字典中的值是可调用的，则视图将在呈现模板之前调用它。\n",
    "\n",
    "**content_type**\n",
    "\n",
    ">用于生成文档的MIME类型。 默认为DEFAULT_CONTENT_TYPE设置的值。\n",
    "\n",
    "**status**\n",
    "\n",
    ">响应的状态代码。 默认为200。\n",
    "\n",
    "**using**\n",
    "\n",
    "> 用于加载模板的模板引擎的名称。"
   ]
  },
  {
   "cell_type": "markdown",
   "metadata": {},
   "source": [
    "# 启动服务检测结果\n",
    "\n",
    "启动django服务，在浏览器中输入http://127.0.0.1:8000/index  ，就会出现如下页面："
   ]
  },
  {
   "cell_type": "markdown",
   "metadata": {},
   "source": [
    "<img width=\"500 px\" src = \"../../pf-img-store/django/进阶index.png\"/>"
   ]
  },
  {
   "cell_type": "markdown",
   "metadata": {},
   "source": [
    "输入：http://127.0.0.1:8000/tnt/pandas , 就会显示："
   ]
  },
  {
   "cell_type": "markdown",
   "metadata": {},
   "source": [
    "<img width = \"500px\" src = \"../../pf-img-store/django/进阶pandasindex.png\">"
   ]
  },
  {
   "cell_type": "markdown",
   "metadata": {},
   "source": [
    "输入：http://127.0.0.1:8000/tnt/django  和 输入：http://127.0.0.1:8000/forum 就会返回另两个页面。\n",
    "\n",
    "**请对照基础实例部分的不同。**"
   ]
  },
  {
   "cell_type": "markdown",
   "metadata": {},
   "source": [
    "虽然本篇中并没有用到 django 模板精髓---动态渲染的内容，但先理解模板的调用工作机制是用好模板的基础。\n",
    "\n",
    "**注意本篇与基础实例的区别，现在的视图中已没有响应信息的硬编码了。要呈现的内容都写在了模板中。**"
   ]
  },
  {
   "cell_type": "code",
   "execution_count": null,
   "metadata": {},
   "outputs": [],
   "source": []
  }
 ],
 "metadata": {
  "kernelspec": {
   "display_name": "Python 3",
   "language": "python",
   "name": "python3"
  },
  "language_info": {
   "codemirror_mode": {
    "name": "ipython",
    "version": 3
   },
   "file_extension": ".py",
   "mimetype": "text/x-python",
   "name": "python",
   "nbconvert_exporter": "python",
   "pygments_lexer": "ipython3",
   "version": "3.6.4"
  }
 },
 "nbformat": 4,
 "nbformat_minor": 2
}
