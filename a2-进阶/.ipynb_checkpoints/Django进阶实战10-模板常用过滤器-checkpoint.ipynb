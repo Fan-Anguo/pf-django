{
 "cells": [
  {
   "cell_type": "markdown",
   "metadata": {},
   "source": [
    "Django进阶实战09\n",
    "====\n",
    "**模板常用过滤器**"
   ]
  },
  {
   "cell_type": "markdown",
   "metadata": {},
   "source": [
    "Built-in filter reference\n",
    "add\n",
    "addslashes\n",
    "capfirst\n",
    "center\n",
    "cut\n",
    "date\n",
    "default\n",
    "default_if_none\n",
    "dictsort\n",
    "dictsortreversed\n",
    "divisibleby\n",
    "escape\n",
    "escapejs\n",
    "filesizeformat\n",
    "first\n",
    "floatformat\n",
    "force_escape\n",
    "get_digit\n",
    "iriencode\n",
    "join\n",
    "last\n",
    "length\n",
    "length_is\n",
    "linebreaks\n",
    "linebreaksbr\n",
    "linenumbers\n",
    "ljust\n",
    "lower\n",
    "make_list\n",
    "phone2numeric\n",
    "pluralize\n",
    "pprint\n",
    "random\n",
    "rjust\n",
    "safe\n",
    "safeseq\n",
    "slice\n",
    "slugify\n",
    "stringformat\n",
    "striptags\n",
    "time\n",
    "timesince\n",
    "timeuntil\n",
    "title\n",
    "truncatechars\n",
    "truncatechars_html\n",
    "truncatewords\n",
    "truncatewords_html\n",
    "unordered_list\n",
    "upper\n",
    "urlencode\n",
    "urlize\n",
    "urlizetrunc\n",
    "wordcount\n",
    "wordwrap\n",
    "yesno\n",
    "Internationalization tags and filters\n",
    "i18n\n",
    "l10n\n",
    "tz\n",
    "Other tags and filters libraries\n",
    "django.contrib.humanize\n",
    "stati"
   ]
  },
  {
   "cell_type": "markdown",
   "metadata": {},
   "source": []
  },
  {
   "cell_type": "markdown",
   "metadata": {},
   "source": []
  },
  {
   "cell_type": "markdown",
   "metadata": {},
   "source": []
  },
  {
   "cell_type": "markdown",
   "metadata": {},
   "source": []
  },
  {
   "cell_type": "markdown",
   "metadata": {},
   "source": []
  },
  {
   "cell_type": "markdown",
   "metadata": {},
   "source": []
  },
  {
   "cell_type": "markdown",
   "metadata": {},
   "source": []
  },
  {
   "cell_type": "markdown",
   "metadata": {},
   "source": []
  },
  {
   "cell_type": "markdown",
   "metadata": {},
   "source": []
  },
  {
   "cell_type": "markdown",
   "metadata": {},
   "source": []
  },
  {
   "cell_type": "markdown",
   "metadata": {},
   "source": []
  },
  {
   "cell_type": "markdown",
   "metadata": {},
   "source": []
  }
 ],
 "metadata": {
  "kernelspec": {
   "display_name": "Python 3",
   "language": "python",
   "name": "python3"
  },
  "language_info": {
   "codemirror_mode": {
    "name": "ipython",
    "version": 3
   },
   "file_extension": ".py",
   "mimetype": "text/x-python",
   "name": "python",
   "nbconvert_exporter": "python",
   "pygments_lexer": "ipython3",
   "version": "3.6.4"
  }
 },
 "nbformat": 4,
 "nbformat_minor": 2
}
