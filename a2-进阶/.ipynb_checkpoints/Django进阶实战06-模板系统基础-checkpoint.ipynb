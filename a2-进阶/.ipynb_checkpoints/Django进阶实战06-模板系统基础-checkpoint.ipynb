{
 "cells": [
  {
   "cell_type": "markdown",
   "metadata": {},
   "source": [
    "Django进阶实战06\n",
    "====\n",
    "**模板系统**"
   ]
  },
  {
   "cell_type": "markdown",
   "metadata": {},
   "source": [
    "在[Django进阶实战01](Django进阶实战01-初识模板.ipynb)中介绍了Django的模板是什么？模板文件的组织管理，模板文件与视图的结合使用的实例。\n",
    "\n",
    "[Django进阶实战06](Django进阶实战-模板调用模型数据.ipynb)中用实例展示了模板动态地调用模型数据。"
   ]
  },
  {
   "cell_type": "markdown",
   "metadata": {},
   "source": [
    "本篇将进一步了解Django模板系统的本质，它是如何工作的，会触及DTL（Django模板语言）的一些基础语法。"
   ]
  },
  {
   "cell_type": "markdown",
   "metadata": {},
   "source": [
    "# 模板系统基本知识\n",
    "\n",
    "Django模板有两种形式：\n",
    "\n",
    "- 一个文本文档\n",
    "- 或使用Django模板语言标记的Python字符串。\n",
    "\n",
    "模板的作用是用于分离文档的表现形式和内容。\n",
    "\n",
    "模板中的一些“构造”由模板引擎识别和解释。主要是变量和标签。\n",
    "\n",
    "模板定义了**占位符**以及各种用于规范文档该**如何显示**的各部分基本逻辑（模板标签）。\n",
    "\n",
    "使用上下文 context 呈现模板。呈现就是用上下文的值替换变量，这些值在上下文中查找，并执行标记。其他所有内容都按原样输出。\n",
    "\n",
    "Django 模板含有很多内置的 tags（标签）和 filters（过滤器）。**注意：Django中说到的过滤器，多数时候起到格式转换的作用，如大小写。**\n",
    "\n",
    "模板通常用于产生HTML，但是Django的模板也能产生任何基于文本格式的文档。"
   ]
  },
  {
   "cell_type": "markdown",
   "metadata": {},
   "source": [
    "通常模板和视图一起使用，但是Django模板系统是一个Python库，可以在任何地方使用它，而不仅仅是在Django视图中。\n",
    "\n",
    "**在`python manage.py shell`的python命令行模式写模板，并以context为参数，print模板的render()输出结果，有助于透彻地理解Django的模板。** 参见[使用模板系统](Django进阶实战07-使用模板系统.ipynb)"
   ]
  },
  {
   "cell_type": "markdown",
   "metadata": {},
   "source": [
    "## Django模板语言的四种结构"
   ]
  },
  {
   "cell_type": "markdown",
   "metadata": {},
   "source": [
    "**Variables**\n",
    "\n",
    "变量从上下文输出一个值，这是一个类似于dict的对象，它将键映射到值。\n",
    "\n",
    "变量被 `{{` 和 `}}` 包围，如下所示：\n",
    "\n",
    "`My first name is {{ first_name }}. My last name is {{ last_name }}.`\n",
    "\n",
    "使用` {'first_name'：'John'，'last_name'：'Doe'} `的上下文，此模板呈现为：\n",
    "\n",
    "*My first name is John. My last name is Doe.*\n",
    "\n",
    "字典查找，属性查找和列表索引查找使用点表示法实现：\n",
    "\n",
    "```\n",
    "{{ my_dict.key }}\n",
    "{{ my_object.attribute }}\n",
    "{{ my_list.0 }}\n",
    "```\n",
    "如果变量解析为可调用对象，则模板系统将调用不带参数的对象，并使用其结果而不是可调用的对象。"
   ]
  },
  {
   "cell_type": "markdown",
   "metadata": {},
   "source": [
    "**Tags**\n",
    "\n",
    "标签在渲染过程中提供随意的逻辑。\n",
    "\n",
    "“随意”的意思是标签可以被替换为你想呈现的多种对象。例如，标签可以输出内容，用作控制结构，例如 “if”语句或“for”循环，从数据库中获取内容，甚至允许访问其他模板标记。\n",
    "\n",
    "标签被 {％ 和 ％} 包围，如下所示："
   ]
  },
  {
   "cell_type": "markdown",
   "metadata": {},
   "source": [
    "`{% csrf_token %}`"
   ]
  },
  {
   "cell_type": "markdown",
   "metadata": {},
   "source": [
    "大多数标签接受参数：\n",
    "\n",
    "`{% cycle 'odd' 'even' %}`"
   ]
  },
  {
   "cell_type": "markdown",
   "metadata": {},
   "source": [
    "有些标签需要开始和结束标记，如：\n",
    "\n",
    "```\n",
    "{% if user.is_authenticated %}Hello, {{ user.username }}.{% endif %}\n",
    "```\n",
    "\n",
    "Django内置有很多标签，详细用法参见：[内置标签参考](https://docs.djangoproject.com/en/2.0/ref/templates/builtins/#ref-templates-builtins-tags)"
   ]
  },
  {
   "cell_type": "markdown",
   "metadata": {},
   "source": [
    "**Filters**\n",
    "\n",
    "过滤器转换变量和标记参数的值。\n",
    "\n",
    "它们看起来像这样："
   ]
  },
  {
   "cell_type": "markdown",
   "metadata": {},
   "source": [
    "`{{ django|title }}`\n",
    "\n",
    "*title*\n",
    "\n",
    "*title*是DTL内置的过滤器，通过使单词以大写字符开头而其余字符以小写字母开头，将字符串转换为标题。此标记不会将“琐碎的单词”保留为小写。\n",
    "\n",
    "有一个 context 是 {'django': 'the web framework for perfectionists with deadlines'}, 这个模板将被呈现为:\n",
    "\n",
    "`The Web Framework For Perfectionists With Deadlines`"
   ]
  },
  {
   "cell_type": "markdown",
   "metadata": {},
   "source": [
    "有些过滤器需要一个参数：\n",
    "\n",
    "`{{ my_date|date:\"Y-m-d\" }}`\n",
    "\n",
    "关于Django内置过滤的详细信息，参见[内置过滤器参考](https://docs.djangoproject.com/en/2.0/ref/templates/builtins/#ref-templates-builtins-filters)"
   ]
  },
  {
   "cell_type": "markdown",
   "metadata": {},
   "source": [
    "**Comments**\n",
    "\n",
    "Comments，注释看来如下：\n",
    "\n",
    "`{# this won't be rendered #}`\n",
    "\n",
    " {% comment %} 标签提供多行注释。\n",
    " \n",
    "忽略 {% comment %} 和 {% endcomment %} 标签之间的所有内容。可以在第一个标签中插入简短的提示。例如，在用于记录被注释掉的代码被禁用的原因时，这非常有用。\n",
    "\n",
    "示例：\n",
    "\n",
    "```\n",
    "<p>Rendered text with {{ pub_date|date:\"c\" }}</p>\n",
    "{% comment \"Optional note\" %}\n",
    "    <p>Commented out text with {{ create_date|date:\"c\" }}</p>\n",
    "{% endcomment %}\n",
    "```\n",
    "\n",
    "{% comment %} 标签不能嵌套使用。"
   ]
  }
 ],
 "metadata": {
  "kernelspec": {
   "display_name": "Python 3",
   "language": "python",
   "name": "python3"
  },
  "language_info": {
   "codemirror_mode": {
    "name": "ipython",
    "version": 3
   },
   "file_extension": ".py",
   "mimetype": "text/x-python",
   "name": "python",
   "nbconvert_exporter": "python",
   "pygments_lexer": "ipython3",
   "version": "3.6.4"
  }
 },
 "nbformat": 4,
 "nbformat_minor": 2
}
