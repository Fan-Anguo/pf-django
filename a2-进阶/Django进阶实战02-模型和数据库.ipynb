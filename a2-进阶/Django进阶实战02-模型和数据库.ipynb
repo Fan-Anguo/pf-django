{
 "cells": [
  {
   "cell_type": "markdown",
   "metadata": {},
   "source": [
    "进阶实战-02\n",
    "===="
   ]
  },
  {
   "cell_type": "markdown",
   "metadata": {},
   "source": [
    "# 数据驱动网站\n",
    "\n",
    "前面用一些实例介绍了用 Django 建造网站的基本途径：\n",
    "\n",
    "- 建立视图\n",
    "- 配置URLConf\n",
    "\n",
    "针对请求，沿着设置的路径，访问合适的视图，使用模块将响应信息呈现给用户。\n",
    "\n",
    "视图建立的是业务逻辑，“请求---响应”的一一映射。视图负责处理一些主观逻辑，然后返回响应结果。\n",
    "\n",
    "URLConf是路由路径。\n",
    "\n",
    "但此前的实例都是一些简单的静态内容。\n",
    "\n",
    "实际生产中，多数都是数据驱动的网站，在后台连接数据库服务器，从中取出一些数据，然后在 Web 页面用漂亮的格式展示这些数据。这个网站也可能会向访问者提供修改数据库数据的方法。\n",
    "\n",
    "许多复杂的网站都提供了以上两个功能的结合。例如 Amazon.com 就是一个数据库驱动站点的范例。本质上，每个产品页面都是数据库中数据以 HTML格式进行的展现，而当你发表客户评论时，该评论被插入评论数据库中。\n",
    "\n",
    "由于先天具备 Python 简单而强大的数据库查询执行方法，Django 非常适合开发数据库驱动网站。 "
   ]
  },
  {
   "cell_type": "markdown",
   "metadata": {},
   "source": [
    "# 再谈Django的开发模式\n",
    "\n",
    "Django 紧紧地遵循 MVC web开发模式，可以称得上是一种 MVC 框架。 以下是 Django 中 M、V 和 C 各自的含义：\n",
    "\n",
    "- M ，数据存取部分，由django数据库层处理，本章要讲述的内容。\n",
    "- V ，选择显示哪些数据要显示以及怎样显示的部分，由视图和模板处理。\n",
    "- C ，根据用户输入委派视图的部分，由 Django 框架根据 URLconf 设置，对给定 URL 调用适当的\n",
    "Python 函数。\n",
    "\n",
    "在Django中，C 由框架自行处理，而 Django 更关注的是模型（Model）、模板(Template)和视图（Views），Django 也被称为 MTV 框架 。在 MTV 开发模式中：\n",
    "\n",
    "- M 代表模型（Model），即数据存取层。该层处理与数据相关的所有事务： 如何存取、如何验证有效性、包含哪些行为以及数据之间的关系等。\n",
    "- T 代表模板(Template)，即表现层。 该层处理与表现相关的决定： 如何在页面或其他类型文档中进行显示。\n",
    "- V 代表视图（View），即业务逻辑层。 该层包含存取模型及调取恰当模板的相关逻辑。你可以把它看作模型与模板之间的桥梁。"
   ]
  },
  {
   "cell_type": "markdown",
   "metadata": {},
   "source": [
    "在[进阶实战-01](进阶实战-01.ipynb)中，我们了解了T, V层是如何工作的。\n",
    "\n",
    "接下来，我们来了解 **Django 数据库和 model层**的工作机制。"
   ]
  },
  {
   "cell_type": "markdown",
   "metadata": {},
   "source": [
    "要开发数据驱动网站，就需要配置Django的数据库支持。在创建Django项目时，默认是支持sqlite3的。\n",
    "\n",
    "在创建项目时，默认已配置了sqplite3数据库的后端和引擎。"
   ]
  },
  {
   "cell_type": "markdown",
   "metadata": {},
   "source": [
    "```\n",
    "DATABASES = {\n",
    "    'default': {\n",
    "        'ENGINE': 'django.db.backends.sqlite3',\n",
    "        'NAME': os.path.join(BASE_DIR, 'db.sqlite3'),\n",
    "    }\n",
    "}\n",
    "```"
   ]
  },
  {
   "cell_type": "markdown",
   "metadata": {},
   "source": [
    "要操控（创建表，存、取、删除...数据）数据库，使用数据库查询语言是最原始、直接的方法，但这很烦琐。\n",
    "\n",
    "Django设计了“模型model”操控数据的工作机制。"
   ]
  },
  {
   "cell_type": "markdown",
   "metadata": {},
   "source": [
    "# model\n",
    "\n",
    "model基础：\n",
    "\n",
    "- 每个模型都是一个Python类，它继承django.db.models.Model；\n",
    "- 一个模型代表数据库中的一张表；\n",
    "- 模型的每个属性代表一个数据库字段；\n",
    "- 模型的一个实例是数据库表的一条记录。\n",
    "\n",
    "通常，每个模型都映射到单个数据库表。模型是有关数据的单一，明确的信息来源。它包含您要存储的数据的基本字段和行为。\n",
    "\n",
    "Django在model的基类中设计了一套方法，调用这些方法，就会在后台自动生成相应的sql语句，操控后台的数据库，实现对web数据的管理，这就是django数据库访问API。"
   ]
  },
  {
   "cell_type": "markdown",
   "metadata": {},
   "source": [
    "# 创建一个model\n",
    "\n",
    "app的相关的模型存放在对应的app目录下，在创建app时，默认已创建了一个` models.py `文件，编辑这个文件，写入如下代码：\n",
    "\n",
    "```\n",
    "from django.db import models\n",
    "\n",
    "class Article(models.Model):\n",
    "    art_title = models.CharField(max_length=100)\n",
    "    art_tag = models.CharField(max_lenght=50)\n",
    "    art_abstract = models.TextField()\n",
    "    first_date = models.DateField()\n",
    "    last_date = models.DateFiels(auto_now=True)\n",
    "    author = models.CharFiels(max_length=30)\n",
    "    \n",
    "\n",
    "    def __str__(self):\n",
    "        return self.art_title\n",
    "```"
   ]
  },
  {
   "cell_type": "markdown",
   "metadata": {},
   "source": [
    "创建模型，实际就是新建一个继承`'django.db.moels.model`类的子类，并定义子类的属性。子类就是一张数据库表，属性就是表字段。\n",
    "\n",
    "该子类的一个实例就是数据库表的一条记录。"
   ]
  },
  {
   "cell_type": "markdown",
   "metadata": {},
   "source": [
    "上面的模型，创建了一个文章记录表，有5个字段，分别是文章的标题(art_title)、分类标签(art_tag)、摘要(art_abstract)、文章首创日期(first_date)、文章的最后修改日期(last_date)。"
   ]
  },
  {
   "cell_type": "markdown",
   "metadata": {},
   "source": [
    "# 将模型传播到数据库模式\n",
    "\n",
    "建立了模型，但还需要将模型的更改（新建、修改、添加、删除等）应用到数据库中，这个处理过程被称之为迁移`'migrate'`。\n",
    "\n",
    "django通过一些简单的命令在后台执行相应操作的sql语句，将模型的更改传播到数据库中。\n",
    "\n",
    "有几个命令用于迁移和与Django处理数据库模式进行交互：\n",
    "\n",
    "- migrate，负责应用和取消应用迁移。\n",
    "- makemigrations，负责根据您对模型所做的更改创建新的迁移。\n",
    "- sqlmigrate，显示迁移的SQL语句。\n",
    "- showmigrations，列出项目的迁移及其状态。"
   ]
  },
  {
   "cell_type": "markdown",
   "metadata": {},
   "source": [
    "先要根据对模型的更改创建新的迁移，使用`'makemigrations'`命令：\n",
    "\n",
    "```\n",
    ">> python manage.py makemigrations\n",
    "Migrations for 'tnt':\n",
    "  tnt\\migrations\\0001_initial.py\n",
    "    - Create model Article\n",
    "```\n"
   ]
  },
  {
   "cell_type": "markdown",
   "metadata": {},
   "source": [
    "再使用`'migrate`命令，应用上面创建的迁移：\n",
    "```\n",
    "python manage.py migrate\n",
    "Operations to perform:\n",
    "  Apply all migrations: admin, auth, contenttypes, sessions, tnt\n",
    "Running migrations:\n",
    "  Applying tnt.0001_initial... OK\n",
    "```"
   ]
  },
  {
   "cell_type": "markdown",
   "metadata": {},
   "source": [
    "通过运行makemigrations命令，告诉Django你对模型做了改动，并且你想把这些改动保存为一个“迁移(migration)”。\n",
    "\n",
    "migrations是Django保存模型修改记录的文件，这些文件保存在磁盘上。在例子中，它就是`tnt/migrations/0001_initial.py`，可以打开它看看，里面保存的都是可读并且可编辑的内容。\n",
    "\n",
    "`migrate` 命令将对数据库执行真正的迁移动作。\n",
    "\n",
    "在做真正的迁移前，还可以先看看在migration的时候实际执行的SQL语句是什么。有一个叫做sqlmigrate的命令可以展示SQL语句。"
   ]
  },
  {
   "cell_type": "markdown",
   "metadata": {},
   "source": [
    "建立了模型，并通过迁移命令将模型传播到了数据库模式，那么怎样查看并管理这个数据表呢？\n",
    "\n",
    "这就需要用到django的网站管理工具和界面。"
   ]
  }
 ],
 "metadata": {
  "kernelspec": {
   "display_name": "Python 3",
   "language": "python",
   "name": "python3"
  },
  "language_info": {
   "codemirror_mode": {
    "name": "ipython",
    "version": 3
   },
   "file_extension": ".py",
   "mimetype": "text/x-python",
   "name": "python",
   "nbconvert_exporter": "python",
   "pygments_lexer": "ipython3",
   "version": "3.6.4"
  }
 },
 "nbformat": 4,
 "nbformat_minor": 2
}
