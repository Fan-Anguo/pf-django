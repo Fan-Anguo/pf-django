{
 "cells": [
  {
   "cell_type": "markdown",
   "metadata": {},
   "source": [
    "进阶实战-02\n",
    "====\n",
    "https://docs.djangoproject.com/en/2.0/ref/contrib/\n",
    "\n",
    "https://docs.djangoproject.com/en/2.0/ref/contrib/admin/\n",
    "\n",
    "https://docs.djangoproject.com/en/2.0/topics/auth/\n",
    "\n",
    "https://docs.djangoproject.com/en/2.0/ref/contrib/auth/\n",
    "\n",
    "**网站管理功能**"
   ]
  },
  {
   "cell_type": "markdown",
   "metadata": {},
   "source": [
    "网站发布后，后台需要对网站进行管理。\n",
    "\n",
    "管理网站就是添加，编辑和删除网站内容。要管理网站就需要有管理界面。例如：你可以用这个界面发布博客，后台的网站管理者用它来润色读者提交的内容（评论），你的客户用你给他们建立的界面工具更新新闻并发布在网站上，这些都是使用管理界面的例子。\n",
    "\n",
    "但是管理界面有一个问题：创建它太繁琐。首先必须认证用户（是否管理员，有什么样的管理权限），显示并管理表格，验证输入的有效性诸如此类。这很繁琐而且是重复劳动。\n",
    "\n",
    "Django最强大的部分之一是内嵌了自动管理界面。"
   ]
  },
  {
   "cell_type": "markdown",
   "metadata": {},
   "source": [
    "# django的 “batteries included” 理念\n",
    "\n",
    "Python具有“内嵌电池”的理念。就是将某个方面的复杂功能通过“包”的形式实现为一项非常简单的任务。包内部的实现细节被包装了起来，你不必了解实现的细节（当然，了解内部的细节有助于你对包的理解和使用），你只要知道如何使用这个包即可。\n",
    "\n",
    "例如：\n",
    "\n",
    "- xmlrpc.client和xmlrpc.server模块使远程过程调用实现为一项非常简单的任务。尽管有模块名称，但不需要直接了解或处理XML。\n",
    "\n",
    "- 电子邮件包是用于管理电子邮件的库，包括MIME和其他基于RFC 2822的邮件文档。与实际发送和接收消息的smtplib和poplib不同，电子邮件包具有完整的工具集，用于构建或解码复杂的消息结构（包括附件）以及实现Internet编码和头部协议。\n",
    "\n",
    "- json包为解析这种流行的数据交换格式提供了强大的支持。csv模块支持以逗号分隔值格式直接读取和写入文件，这些格式通常由数据库和电子表格支持。 xml.etree.ElementTree，xml.dom和xml.sax包支持XML处理。这些模块和软件包共同大大简化了Python应用程序和其他工具之间的数据交换。\n",
    "\n",
    "- sqlite3模块是SQLite数据库库的包装器，提供了一个可以使用稍微非标准的SQL语法进行更新和访问的持久数据库。\n",
    "国际化由许多模块支持，包括gettext，locale和编解码器包。"
   ]
  },
  {
   "cell_type": "markdown",
   "metadata": {},
   "source": [
    "# Django自动管理工具包\n",
    "\n",
    "基于 “batteries included” 理念，django内嵌的包---`django.contrib`附带了各种额外的、可选的工具来解决常见的Web开发问题。\n",
    "\n",
    "该包的代码位于Django发行版中的`django / contrib`目录中。contrib包主要有下列功能模块：\n",
    "\n",
    "```\n",
    "The Django admin site\n",
    "django.contrib.auth\n",
    "The contenttypes framework\n",
    "The flatpages app\n",
    "GeoDjango\n",
    "django.contrib.humanize\n",
    "The messages framework\n",
    "django.contrib.postgres\n",
    "The redirects app\n",
    "The sitemap framework\n",
    "The “sites” framework\n",
    "The staticfiles app\n",
    "The syndication feed framework\n",
    "```"
   ]
  },
  {
   "cell_type": "markdown",
   "metadata": {},
   "source": [
    "# Django的管理界面\n",
    "\n",
    "Django最强大的部分之一是自动管理界面。它从您的模型中读取元数据，以提供快速，以模型为中心的界面，受信任的用户可以在其中管理您网站上的内容。\n",
    "\n",
    "`django.contrib`包中的`django.contrib.admin`模块就是Django的自动管理工具，设计了很多用于web站点的管理命令。\n",
    "\n",
    "在使用Django的管理界面前，需要配置并启用它."
   ]
  },
  {
   "cell_type": "markdown",
   "metadata": {},
   "source": [
    "# 配置并启用Django管理工具和界面\n",
    "\n",
    "`startproject`使用的默认项目模板创建项目时，就启用了admin，并做了默认的配置。暂时使用这些默认的配置学习和练习即可。\n",
    "\n",
    "但了解一下启用和配置的基本要求，有助于从整体上理解django管理工具和界面的工作机制。\n",
    "\n",
    "以下是基本要求：\n",
    "\n",
    "- 将“django.contrib.admin”添加到INSTALLED_APPS设置中。\n",
    "\n",
    "- 管理员有四个依赖项:\n",
    "\n",
    ">> django.contrib.auth， 用户认证系统\n",
    "\n",
    ">> django.contrib.contenttypes，\n",
    "\n",
    ">> django.contrib.messages,\n",
    "\n",
    ">> django.contrib.sessions。"
   ]
  },
  {
   "cell_type": "markdown",
   "metadata": {},
   "source": [
    "**django.contrib.auth，**\n",
    "\n",
    "Django附带的用户身份验证系统。它处理用户帐户、组、权限和基于cookie的用户会话.\n",
    "\n",
    "Django身份验证系统处理身份验证和授权。 简而言之，身份验证验证用户是否是他们声称的用户，并且授权确定允许经过身份验证的用户做什么。\n",
    "\n",
    "authentication，认证，用于指代身份验证和授权两个任务。\n",
    "\n",
    "**django.contrib.contenttypes**\n",
    "\n",
    "Django包含一个contenttypes应用程序，可以跟踪Django支持的项目中安装的所有模型，为您的模型提供高级通用界面。\n",
    "\n",
    "`contenttypes `应用程序的核心是` ContentType `模型，它位于` django.contrib.contenttypes.models.ContentType `。` ContentType `的实例表示并存储有关项目中安装的模型的信息，并且每当安装新模型时，都会自动创建ContentType的新实例。\n",
    "\n",
    "`ContentType `的实例具有返回它们所代表的模型的类，以及从这些模型查询对象的方法。\n",
    "\n",
    "` ContentType `还有一个自定义管理器，它添加了使用` ContentType `的方法以及获取特定模型的` ContentType `实例。\n",
    "\n",
    "模型和` ContentType `之间的关系还可用于启用某个模型的实例与已安装的任何模型的实例之间的“通用”关系。"
   ]
  },
  {
   "cell_type": "markdown",
   "metadata": {},
   "source": [
    " **django.contrib.messages**\n",
    " \n",
    "在Web应用程序中，需要在处理表单或其他类型的用户输入后向用户显示一次性通知消息（也称为“flash消息”）。\n",
    "\n",
    "Django为匿名和经过身份验证的用户提供对基于cookie和会话的消息传递的完全支持。消息框架允许您将消息临时存储在一个请求中并检索它们以便在后续请求（通常是下一个请求）中显示。每条消息都标记有确定其优先级的特定级别（例如，信息，警告或错误）。\n",
    "\n",
    "** django.contrib.sessions**\n",
    "\n",
    "Django为匿名会话提供全面支持。 会话框架允许您基于每个站点访问者存储和检索任意数据。 它在服务器端存储数据并抽象cookie的发送和接收。Cookie包含会话ID - 而不是数据本身（除非您使用基于cookie的后端）。"
   ]
  },
  {
   "cell_type": "markdown",
   "metadata": {},
   "source": [
    "如果这些应用程序不在您的INSTALLED_APPS列表中，请添加它们。默认是注册了这些依赖项的。\n",
    "\n",
    "- 将django.contrib.auth.context_processors.auth和django.contrib.messages.context_processors.messages添加到TEMPLATES中定义的DjangoTemplates后端的'context_processors'选项\n",
    "- 将django.contrib.auth.middleware.AuthenticationMiddleware和django.contrib .messages.middleware.MessageMiddleware添加到MIDDLEWARE。\n",
    "\n",
    "默认情况下这些都是已启用的。\n",
    "\n",
    "完成这些步骤后，就能够通过访问映射的URL（/ admin /，默认情况下）来使用您的Django管理站点。"
   ]
  },
  {
   "cell_type": "markdown",
   "metadata": {},
   "source": [
    "# 创建一个超级管理员账户\n",
    "\n",
    "激活了django的管理界面和工具，还需要有可登录的管理员账户才能进行管理工作。\n",
    "\n",
    "创建超级管理员账户的命令是：`django-admin createsuperuser`\n",
    "\n",
    "进入项目根目录，执行命令：\n",
    "\n",
    "`python manage.py createsuperuser`"
   ]
  },
  {
   "cell_type": "markdown",
   "metadata": {},
   "source": [
    "**createsuperuser**\n",
    "\n",
    "`django-admin createsuperuser`\n",
    "\n",
    "此命令仅在安装了Django的身份验证系统（django.contrib.auth）时可用。默认是安装了该系统的。\n",
    "\n",
    "创建超级用户帐户（具有所有权限的用户）。如果您需要创建初始超级用户帐户或者需要以编程方式为站点生成超级用户帐户，这将非常有用。\n",
    "\n",
    "以交互方式运行时，此命令将提示输入新超级用户帐户的密码。以非交互方式运行时，不会设置密码，并且在为其手动设置密码之前，超级用户帐户将无法登录。\n",
    "\n",
    "- username 超级用户名\n",
    "\n",
    "- email 电子邮箱。可以使用命令行上的--username和--email参数提供新帐户的用户名和电子邮件地址。如果未提供其中任何一个，则createuperuser将在交互式运行时提示它。\n",
    "\n",
    "- database 指定将超级用户对象保存到的数据库。"
   ]
  },
  {
   "cell_type": "markdown",
   "metadata": {},
   "source": [
    "**输入用户名：**\n",
    "\n",
    "`Username: admin`\n",
    "\n",
    "**输入邮箱地址：**\n",
    "\n",
    "`Email address: xxx@xxx.xxx`\n",
    "\n",
    "**输入密码：**\n",
    "```\n",
    "Password: **********\n",
    "Password (again): *********\n",
    "Superuser created successfully.\n",
    "```"
   ]
  },
  {
   "cell_type": "markdown",
   "metadata": {},
   "source": [
    "# 访问管理界面\n",
    "\n",
    "启动django服务，在浏览器中输入：http://127.0.0.1:8000/admin\n",
    "\n",
    "就会出现用户登录界面：\n",
    "\n",
    "<img width=\"500px\" src = \"../../../pf-img-store/django/admin-log01.png\">"
   ]
  },
  {
   "cell_type": "markdown",
   "metadata": {},
   "source": [
    "输入用户名和密码后，就会看到下面的界面：\n",
    "\n",
    "<img width=\"600px\" src = \"../../../pf-img-store/django/admin-log02.png\">"
   ]
  },
  {
   "cell_type": "markdown",
   "metadata": {},
   "source": [
    "单击`Users`，就会看到下面的界面：\n",
    "\n",
    "<img width=\"600px\" src = \"../../../pf-img-store/django/admin-log03.png\">"
   ]
  },
  {
   "cell_type": "markdown",
   "metadata": {},
   "source": [
    "现在django管理界面看到一张数据库表`Users`，有一条记录，`admin`用户的注册信息。\n",
    "\n",
    "没有看到[进阶实战-02](进阶实战-02.ipynb)中创建的模型`Article`对应的数据库表。\n",
    "\n",
    "这是因为我们还没有告诉管理工具，有一个`Article`对象要在管理界面中显示，以便管理它。也就要在`admin.py`模块中注册`Article`对象："
   ]
  },
  {
   "cell_type": "markdown",
   "metadata": {},
   "source": [
    "编辑`tnt/admin.py`，写入如下代码：\n",
    "\n",
    "```\n",
    "from django.contrib import admin\n",
    "\n",
    "from .models import Article\n",
    "\n",
    "# Register your models here.\n",
    "admin.site.register(Article)\n",
    "```"
   ]
  },
  {
   "cell_type": "markdown",
   "metadata": {},
   "source": [
    "重新启动django服务，登录管理界面，就能看到'Article'表出现在了管理界面中。\n",
    "\n",
    "<img width=\"600px\" src = \"../../../pf-img-store/django/admin-log04.png\">"
   ]
  },
  {
   "cell_type": "markdown",
   "metadata": {},
   "source": [
    "点击Article条目行右边的'Add'按钮，就可以添加记录。\n",
    "\n",
    "<img width=\"600px\" src = \"../../../pf-img-store/django/admin-log06.png\">"
   ]
  },
  {
   "cell_type": "markdown",
   "metadata": {},
   "source": [
    "在这个界面，管理员就可以为`article`表执行添加、删除、修改记录的操作。"
   ]
  }
 ],
 "metadata": {
  "kernelspec": {
   "display_name": "Python 3",
   "language": "python",
   "name": "python3"
  },
  "language_info": {
   "codemirror_mode": {
    "name": "ipython",
    "version": 3
   },
   "file_extension": ".py",
   "mimetype": "text/x-python",
   "name": "python",
   "nbconvert_exporter": "python",
   "pygments_lexer": "ipython3",
   "version": "3.6.4"
  }
 },
 "nbformat": 4,
 "nbformat_minor": 2
}
