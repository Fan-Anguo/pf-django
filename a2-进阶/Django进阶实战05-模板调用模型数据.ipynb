{
 "cells": [
  {
   "cell_type": "markdown",
   "metadata": {},
   "source": [
    "进阶实战-05\n",
    "====\n",
    "**模板中动态调用模型数据**"
   ]
  },
  {
   "cell_type": "markdown",
   "metadata": {},
   "source": [
    "# 模型重命名\n",
    "\n",
    "在前面的练习中创建了一个模型---'Article'类。\n",
    "\n",
    "由于html 5语言中有一个`<article>`标签， 使用`Article`类名，容易造成混乱和困扰，所以对这个模型重命名。\n",
    "\n",
    "在django的管理界面中，模型数据表中的数据是按照数据录入顺序排列的，我希望它按照指定的字段---文章的撰写日期排序，并且是降序，即最近撰写的教程排在前面。\n",
    "\n",
    "django的模型model实际就是定义django数据库中的一张表，修改模型名，也就是修改表名。\n",
    "\n",
    "希望为文件信息表添加一个“副标题”字段。\n",
    "\n",
    "编辑`tnt/models.py`文件，修改后的代码如下："
   ]
  },
  {
   "cell_type": "markdown",
   "metadata": {},
   "source": [
    "```\n",
    "from django.db import models\n",
    "\n",
    "# Create your models here.\n",
    "\n",
    "class Note(models.Model):  #这里将类名修改为Note\n",
    "    art_title = models.CharField(max_length=100)\n",
    "    subhead = models.CharField(max_length=200)\n",
    "    art_tag = models.CharField(max_length=50)\n",
    "    second_tag = models.CharField(max_length=50) #添加的字段\n",
    "    author = models.CharField(max_length=30)  #添加的字段\n",
    "    art_abstract = models.TextField()\n",
    "    first_date = models.DateField()\n",
    "   \n",
    "    def __str__(self):\n",
    "        return self.art_title\n",
    "\n",
    "    class Meta:  #添加一个子类 \n",
    "        ordering = ['-first_date'] #依据first_date字段排序，逆排序。\n",
    "```"
   ]
  },
  {
   "cell_type": "markdown",
   "metadata": {},
   "source": [
    "关于django Model的 Meta选项的详细用法，请参见：[Model的Meta选项详解](../b-ModelLayer/Model的Meta选项.ipynb)"
   ]
  },
  {
   "cell_type": "markdown",
   "metadata": {},
   "source": [
    "修改`admin.py`中的注册模型：\n",
    "\n",
    "```\n",
    "from django.contrib import admin\n",
    "\n",
    "from .models import Note\n",
    "\n",
    "# Register your models here.\n",
    "admin.site.register(Note)\n",
    "```"
   ]
  },
  {
   "cell_type": "markdown",
   "metadata": {},
   "source": [
    "**重新生成迁移并应用迁移。**\n",
    "\n",
    "启动服务，登录管理界面，原来的`Article`表，已更名为 `Note`表。"
   ]
  },
  {
   "cell_type": "markdown",
   "metadata": {},
   "source": [
    "# 模板动态调用模型中的数据\n",
    "\n",
    "在`Note`表中录入了一些记录，是已完成的文章的信息，这些信息已保存在数据库表中。\n",
    "\n",
    "在模板中调用数据库中的数据，动态地呈现给访问者。"
   ]
  },
  {
   "cell_type": "markdown",
   "metadata": {},
   "source": [
    "## 显示所有文章的列表\n",
    "\n",
    "**修改模板文件**\n",
    "\n",
    "打开`django-tnt/djangoindex.html`模板，在`<body>`标签中添加代码：\n",
    "```\n",
    "<!DOCTYPE html>\n",
    "<html lang=\"en\">\n",
    "<head>\n",
    "    <meta charset=\"UTF-8\">\n",
    "    <meta name=\"viewport\" content=\"width=device-width, initial-scale=1.0\">\n",
    "    <meta http-equiv=\"X-UA-Compatible\" content=\"ie=edge\">\n",
    "    <title>Document</title>\n",
    "</head>\n",
    "<body>\n",
    "\n",
    "{% for wen in allwen %}\n",
    "\n",
    "        <h5>{{ forloop.counter }} -- {{ wen.art_title }} . {{ wen.first_date}}</h5> \n",
    "\n",
    "{% endfor %}\n",
    "\n",
    "</body>\n",
    "</html>\n",
    "```"
   ]
  },
  {
   "cell_type": "markdown",
   "metadata": {},
   "source": [
    "**修改视图**\n",
    "\n",
    "编辑`tnt/views.py`文件，修改`djangoindex`视图函数如下：\n",
    "\n",
    "```\n",
    "from django.http import HttpRequest, HttpResponse\n",
    "from django.shortcuts import render\n",
    "from tnt.models import Note #注意要先导入Note类\n",
    "\n",
    "# Create your views here.\n",
    "def index(request):\n",
    "    return render(request,'tnt/index.html')\n",
    "\n",
    "def pandasindex(request):\n",
    "    return render(request,'tnt/pandasindex.html')\n",
    "\n",
    "def djangoindex(request): #修改这个视图函数\n",
    "    allwen = Note.objects.all()\n",
    "    return render(request,'django-tnt/djangoindex.html',{'allwen':allwen})\n",
    "```"
   ]
  },
  {
   "cell_type": "markdown",
   "metadata": {},
   "source": [
    "重新启动django服务，访问：http://127.0.0.1:8000/tnt/django/ \n",
    "\n",
    "就会列出`Note`表中所有文章，并按照`first_date`字段降序排列。"
   ]
  },
  {
   "cell_type": "markdown",
   "metadata": {},
   "source": [
    "<img width=\"500px\" src = \"../../../pf-img-store/django/template-database01.png\" >"
   ]
  },
  {
   "cell_type": "markdown",
   "metadata": {},
   "source": [
    "# 显示分类的文章列表\n",
    "\n",
    "修改模板，使用DTL的`{% if %}`标签，进行筛选，仅显示`art_tag`为\"django\"类别的文章："
   ]
  },
  {
   "cell_type": "markdown",
   "metadata": {},
   "source": [
    "```\n",
    "<!DOCTYPE html>\n",
    "<html lang=\"en\">\n",
    "<head>\n",
    "    <meta charset=\"UTF-8\">\n",
    "    <meta name=\"viewport\" content=\"width=device-width, initial-scale=1.0\">\n",
    "    <meta http-equiv=\"X-UA-Compatible\" content=\"ie=edge\">\n",
    "    <title>Document</title>\n",
    "</head>\n",
    "<body>\n",
    "\n",
    "{% for wen in allwen %}\n",
    "    {% ifequal wen.art_tag 'django' %}\n",
    "        <h5>{{ forloop.counter }} -- {{ wen.art_title }} . {{ wen.first_date}}</h5> \n",
    "    {% endifequal %}\n",
    "{% endfor %}\n",
    "\n",
    "</body>\n",
    "</html>\n",
    "```"
   ]
  },
  {
   "cell_type": "markdown",
   "metadata": {},
   "source": [
    "保存后，重新访问：http://127.0.0.1:8000/tnt/django/"
   ]
  },
  {
   "cell_type": "markdown",
   "metadata": {},
   "source": [
    "<img width=\"500px\" src = \"../../../pf-img-store/django/template-database02.png\" >"
   ]
  },
  {
   "cell_type": "markdown",
   "metadata": {},
   "source": [
    "页面仅显示分类标签为\"django\"的文章的列表。\n",
    "\n",
    "在模板中，使用一些特殊的标记调用数据库中的数据，并选择性地显示需要的数据。\n",
    "\n",
    "先照着做一篇，理解django模型、数据库、模板协调工作机制，这是后面学习的基础。\n",
    "\n",
    "至于django的模板语言DTL的语法，后面将详细讨论。"
   ]
  },
  {
   "cell_type": "code",
   "execution_count": null,
   "metadata": {},
   "outputs": [],
   "source": []
  }
 ],
 "metadata": {
  "kernelspec": {
   "display_name": "Python 3",
   "language": "python",
   "name": "python3"
  },
  "language_info": {
   "codemirror_mode": {
    "name": "ipython",
    "version": 3
   },
   "file_extension": ".py",
   "mimetype": "text/x-python",
   "name": "python",
   "nbconvert_exporter": "python",
   "pygments_lexer": "ipython3",
   "version": "3.6.4"
  }
 },
 "nbformat": 4,
 "nbformat_minor": 2
}
