{
 "cells": [
  {
   "cell_type": "markdown",
   "metadata": {},
   "source": [
    "Database Setup\n",
    "====="
   ]
  },
  {
   "cell_type": "markdown",
   "metadata": {},
   "source": [
    "在项目包目录下的`settings.py`文件是Django项目配置管理文件，该文件中的`DATABASES`是项目数据库设置选项。\n",
    "\n",
    "现在，打开mysite / settings.py。这是一个普通的Python模块，其模块级变量代表Django设置。\n",
    "\n",
    "默认情况下，配置使用SQLite。如果你是数据库新手，或者你只是想尝试Django，这是最简单的选择。SQLite包含在Python中，所以你不需要安装其他任何东西来支持你的数据库。然而，当开始你的第一个真正的项目时，你可能想要使用像PostgreSQL这样的更具可扩展性的数据库，以避免数据库切换麻烦。\n",
    "\n",
    "如果您希望使用其他数据库，请安装适当的数据库绑定，并在DATABASES的“默认”项中更改以下键以匹配数据库连接设置：\n",
    "\n",
    "> ENGINE - 数据库引擎名称，下列任意一种： 'django.db.backends.sqlite3'， 'django.db.backends.postgresql'， 'django.db.backends.mysql'，或 'django.db.backends.oracle'。其他后端也可用。\n",
    "\n",
    "> NAME - 数据库的名称。如果您使用SQLite，数据库将成为您计算机上的文件;在这种情况下，NAME应该是该文件的完整绝对路径，包括文件名。缺省值os.path.join（BASE_DIR，'db.sqlite3'）将把文件存储在你的项目目录中。\n",
    "\n",
    "如果您不使用SQLite作为数据库，则必须添加其他设置，例如USER，PASSWORD和HOST。有关更多详细信息，请参阅DATABASES的参考文档。"
   ]
  },
  {
   "cell_type": "markdown",
   "metadata": {},
   "source": [
    "**注意：**\n",
    "\n",
    "对于SQLite以外的数据库\n",
    "\n",
    "如果你使用SQLite之外的数据库，请确保你已经创建了一个数据库。 在数据库的交互式提示中使用“CREATE DATABASE database_name;”做到这一点。\n",
    "\n",
    "还要确保mysite / settings.py中提供的数据库用户具有“创建数据库”权限。 这允许自动创建测试数据库，这将在稍后的教程中需要。\n",
    "\n",
    "如果您使用的是SQLite，则无需事先创建任何内容 - 数据库文件将在需要时自动创建。"
   ]
  },
  {
   "cell_type": "markdown",
   "metadata": {},
   "source": [
    "# 设置时区和app\n",
    "\n",
    "在编辑mysite / settings.py时，将TIME_ZONE设置为您的时区。\n",
    "\n",
    "另外，请注意文件顶部的INSTALLED_APPS设置。它包含在此Django实例中激活的所有Django应用程序的名称。应用程序可以用于多个项目，您可以打包并分发这些应用程序以供他人在其项目中使用。\n",
    "\n",
    "默认情况下，INSTALLED_APPS包含以下应用程序，所有应用程序都附带Django：\n",
    "\n",
    "- django.contrib.admin - 管理网站。你会很快使用它。\n",
    "- django.contrib.auth - 一个认证系统。\n",
    "- django.contrib.contenttypes - 内容类型的框架。\n",
    "- django.contrib.sessions - 会话框架。\n",
    "- django.contrib.messages - 一个消息框架。\n",
    "- django.contrib.staticfiles - 管理静态文件的框架。\n",
    "\n",
    "默认情况下包含这些应用程序，以方便常见情况。"
   ]
  },
  {
   "cell_type": "markdown",
   "metadata": {},
   "source": [
    "**Django 时间与时区设置问题**\n",
    "- 在Django的配置文件settings.py中，有两个配置参数是跟时间与时区有关的，分别是TIME_ZONE和USE_TZ\n",
    "- 如果USE_TZ设置为True时，Django会使用系统默认设置的时区，即America/Chicago，此时的TIME_ZONE不管有没有设置都不起作用。\n",
    "- 如果USE_TZ 设置为False，而TIME_ZONE设置为None，则Django还是会使用默认的America/Chicago时间。若TIME_ZONE设置为其它时区的话，则还要分情况，如果是Windows系统，则TIME_ZONE设置是没用的，Django会使用本机的时间。如果为其他系统，则使用该时区的时间，设置USE_TZ = False, TIME_ZONE = 'Asia/Shanghai',  则使用上海的UTC时间。"
   ]
  },
  {
   "cell_type": "markdown",
   "metadata": {},
   "source": [
    "# 创建数据库表\n",
    "\n",
    "有些应用程序需要使用数据库表，所以我们需要在数据库中创建这些表格供应用程序使用。\n",
    "\n",
    "为此，请运行以下命令：\n",
    "\n",
    "`$ python manage.py migrate`\n",
    "\n",
    "migrate命令查看INSTALLED_APPS设置，并根据`mysite / settings.py`文件中的数据库设置以及应用程序随附的数据库迁移（稍后将介绍这些数据库迁移）创建必需的数据库表。您会看到每条适用的迁移消息。\n",
    "\n",
    "如果您有兴趣，请为您的数据库运行命令行客户端并键入`\\ dt（PostgreSQL）`SHOW TABLES; （MySQL），.schema（SQLite）`或`SELECT TABLE_NAME FROM USER_TABLES`; `（Oracle）`来显示Django创建的表。"
   ]
  },
  {
   "cell_type": "markdown",
   "metadata": {},
   "source": [
    "**对于极简主义者**\n",
    "\n",
    "就像我们上面所说的那样，默认应用程序包含在常见的情况下，但不是每个人都需要它们。 如果您不需要其中的任何或全部，请在运行迁移之前自由注释掉或删除INSTALLED_APPS中的相应行。 迁移命令将仅在INSTALLED_APPS中运行应用程序的迁移。"
   ]
  },
  {
   "cell_type": "markdown",
   "metadata": {},
   "source": [
    "# DATABASES 参考文档\n",
    "\n",
    "在项目包目录下的`settings.py`文件是Django项目配置管理文件，该文件中的`DATABASES`是项目数据库设置选项。\n",
    "\n",
    "默认值：{}（空字典）\n",
    "\n",
    "包含与Django一起使用的所有数据库设置的字典。 它是一个嵌套字典，其内容将数据库别名映射到包含单个数据库选项的字典。\n",
    "\n",
    "DATABASES设置必须配置默认数据库; 还可以指定任意数量的附加数据库。\n",
    "\n",
    "最简单的设置文件是使用SQLite进行单一数据库设置的。 这可以使用以下配置："
   ]
  },
  {
   "cell_type": "markdown",
   "metadata": {},
   "source": [
    "DATABASES = {\n",
    "    'default': {\n",
    "        'ENGINE': 'django.db.backends.sqlite3',\n",
    "        'NAME': 'mydatabase',\n",
    "    }\n",
    "}"
   ]
  },
  {
   "cell_type": "markdown",
   "metadata": {},
   "source": [
    "当连接到其他数据库后端时，如MySQL，Oracle或PostgreSQL，需要额外的连接参数。有关如何指定其他数据库类型，请参阅下面的ENGINE设置。 这个例子适用于PostgreSQL："
   ]
  },
  {
   "cell_type": "markdown",
   "metadata": {},
   "source": [
    "```\n",
    "DATABASES = {\n",
    "    'default': {\n",
    "        'ENGINE': 'django.db.backends.postgresql',\n",
    "        'NAME': 'mydatabase',\n",
    "        'USER': 'mydatabaseuser',\n",
    "        'PASSWORD': 'mypassword',\n",
    "        'HOST': '127.0.0.1',\n",
    "        'PORT': '5432',\n",
    "    }\n",
    "}\n",
    "```"
   ]
  },
  {
   "cell_type": "markdown",
   "metadata": {},
   "source": [
    "## DATABASE的更复杂选项\n",
    "\n",
    "对于更复杂配置需求可以使用下面的选项："
   ]
  },
  {
   "cell_type": "markdown",
   "metadata": {},
   "source": [
    "**ATOMIC_REQUESTS**\n",
    "\n",
    "`Default: False`\n",
    "\n",
    "将其设置为True以将此数据库中的每个视图包装在事务中。 请参阅Tying transactions to HTTP requests。"
   ]
  },
  {
   "cell_type": "markdown",
   "metadata": {},
   "source": [
    "**AUTOCOMMIT**\n",
    "\n",
    "`Default: True`\n",
    "\n",
    "如果您想禁用Django的事务管理并实现您自己的事务，请将其设置为False。"
   ]
  },
  {
   "cell_type": "markdown",
   "metadata": {},
   "source": [
    "**ENGINE**\n",
    "\n",
    "`Default: '' (Empty string)`\n",
    "\n",
    "要使用的数据库后端。内置的数据库后端有：\n",
    "\n",
    "'django.db.backends.postgresql'\n",
    "'django.db.backends.mysql'\n",
    "'django.db.backends.sqlite3'\n",
    "'django.db.backends.oracle'\n",
    "\n",
    "通过将ENGINE设置为完全限定的路径（即mypackage.backends.whatever），您可以使用不附带Django的数据库后端。"
   ]
  },
  {
   "cell_type": "markdown",
   "metadata": {},
   "source": [
    "**HOST**\n",
    "\n",
    "`Default:''（空字符串）`\n",
    "\n",
    "连接到数据库时使用哪个主机。一个空字符串表示localhost。 不与SQLite一起使用。\n",
    "\n",
    "如果此值以正斜杠（'/'）开头，并且您正在使用MySQL，则MySQL将通过Unix套接字连接到指定的套接字。例如：\n",
    "\n",
    "`“HOST”：'/ var / run / mysql'`\n",
    "\n",
    "如果你使用的是MySQL，并且这个值不是以正斜杠开始的，那么这个值就是主机。\n",
    "\n",
    "如果您使用PostgreSQL，默认情况下（空HOST），与数据库的连接通过UNIX域套接字（在`pg_hba.conf`中的“local”行）完成。如果您的UNIX域套接字不在标准位置，请使用postgresql.conf中相同的`unix_socket_directory`值。如果要通过TCP套接字进行连接，请将HOST设置为`'localhost'`或`'127.0.0.1'`（pg_hba.conf中的'host'行）。 在Windows上，您应该始终定义HOST，因为UNIX域套接字不可用。"
   ]
  },
  {
   "cell_type": "markdown",
   "metadata": {},
   "source": [
    "**NAME**\n",
    "\n",
    "`Default: '' (Empty string)`\n",
    "\n",
    "要使用的数据库的名称。 对于SQLite，它是数据库文件的完整路径。 指定路径时，即使在Windows上也要使用正斜杠（例如C：/homes/user/mysite/sqlite3.db）。"
   ]
  },
  {
   "cell_type": "markdown",
   "metadata": {},
   "source": [
    "**CONN_MAX_AGE**\n",
    "\n",
    "`Default: 0`\n",
    "\n",
    "数据库连接的生命周期，以秒为单位。 使用0在每个请求结束时关闭数据库连接 - Django的历史行为 - None 无限持久连接。"
   ]
  },
  {
   "cell_type": "markdown",
   "metadata": {},
   "source": [
    "**OPTIONS**\n",
    "\n",
    "`Default: {} (Empty dictionary)`\n",
    "\n",
    "连接到数据库时使用的额外参数。 可用参数因数据库后端而异。\n",
    "\n",
    "有关可用参数的一些信息可以在Database Backends文档中找到。 有关更多信息，请查阅您的后端模块自己的文档。"
   ]
  },
  {
   "cell_type": "markdown",
   "metadata": {},
   "source": [
    "**PASSWORD**\n",
    "\n",
    "`Default: '' (Empty string)`\n",
    "\n",
    "连接到数据库时使用的密码。 不与SQLite一起使用。"
   ]
  },
  {
   "cell_type": "markdown",
   "metadata": {},
   "source": [
    "**PORT**\n",
    "\n",
    "`Default: '' (Empty string)`\n",
    "\n",
    "连接到数据库时使用的端口。 一个空字符串表示默认端口。 不与SQLite一起使用。"
   ]
  },
  {
   "cell_type": "markdown",
   "metadata": {},
   "source": [
    "**TIME_ZONE**\n",
    "\n",
    "`Default: None`\n",
    "\n",
    "表示存储在此数据库中的日期时间的时区的字符串（假定它不支持时区）或无。 DATABASES设置的这个内部选项接受与一般TIME_ZONE设置相同的值。\n",
    "\n",
    "这允许与存储日期时间的第三方数据库在本地时间而不是UTC进行交互。 为避免出现DST更改的问题，您不应为由Django管理的数据库设置此选项。\n",
    "\n",
    "当USE_TZ为True并且数据库不支持时区（例如SQLite，MySQL，Oracle）时，Django根据此选项在本地时间读取和写入日期时间（如果设置的话），如果不是，则为UTC。\n",
    "\n",
    "当USE_TZ为True且数据库支持时区（例如PostgreSQL）时，设置此选项是错误的。\n",
    "\n",
    "当USE_TZ为False时，设置此选项是错误的。"
   ]
  },
  {
   "cell_type": "markdown",
   "metadata": {},
   "source": [
    "**USER**\n",
    "\n",
    "`Default: '' (Empty string)`\n",
    "\n",
    "连接到数据库时使用的用户名。 不与SQLite一起使用。"
   ]
  },
  {
   "cell_type": "markdown",
   "metadata": {},
   "source": [
    "**TEST**\n",
    "\n",
    "`Default: {} (Empty dictionary)`\n",
    "\n",
    "测试数据库的设置字典; 有关创建和使用测试数据库的更多详细信息，请参阅测试数据库。\n",
    "\n",
    "以下是测试数据库配置的示例：\n",
    "\n",
    "```\n",
    "DATABASES = {\n",
    "    'default': {\n",
    "        'ENGINE': 'django.db.backends.postgresql',\n",
    "        'USER': 'mydatabaseuser',\n",
    "        'NAME': 'mydatabase',\n",
    "        'TEST': {\n",
    "            'NAME': 'mytestdatabase',\n",
    "        },\n",
    "    },\n",
    "}\n",
    "```"
   ]
  },
  {
   "cell_type": "markdown",
   "metadata": {},
   "source": []
  },
  {
   "cell_type": "markdown",
   "metadata": {},
   "source": []
  },
  {
   "cell_type": "markdown",
   "metadata": {},
   "source": []
  },
  {
   "cell_type": "markdown",
   "metadata": {},
   "source": []
  },
  {
   "cell_type": "markdown",
   "metadata": {},
   "source": []
  }
 ],
 "metadata": {
  "kernelspec": {
   "display_name": "Python [default]",
   "language": "python",
   "name": "python3"
  },
  "language_info": {
   "codemirror_mode": {
    "name": "ipython",
    "version": 3
   },
   "file_extension": ".py",
   "mimetype": "text/x-python",
   "name": "python",
   "nbconvert_exporter": "python",
   "pygments_lexer": "ipython3",
   "version": "3.6.4"
  }
 },
 "nbformat": 4,
 "nbformat_minor": 2
}
